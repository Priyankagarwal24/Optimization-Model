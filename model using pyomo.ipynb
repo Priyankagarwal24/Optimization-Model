{
  "nbformat": 4,
  "nbformat_minor": 0,
  "metadata": {
    "colab": {
      "name": "22N0453_IE507_Lab4_Ex1.ipynb",
      "provenance": []
    },
    "kernelspec": {
      "name": "python3",
      "display_name": "Python 3"
    },
    "language_info": {
      "name": "python"
    }
  },
  "cells": [
    {
      "cell_type": "code",
      "execution_count": null,
      "metadata": {
        "colab": {
          "base_uri": "https://localhost:8080/"
        },
        "id": "4BfNKxNf_6vH",
        "outputId": "46d3d686-140e-4162-d160-305f0f7fbfd0"
      },
      "outputs": [
        {
          "output_type": "stream",
          "name": "stdout",
          "text": [
            "\u001b[K     |████████████████████████████████| 9.7 MB 5.3 MB/s \n",
            "\u001b[K     |████████████████████████████████| 49 kB 5.7 MB/s \n",
            "\u001b[?25h"
          ]
        }
      ],
      "source": [
        "!pip install -q pyomo"
      ]
    },
    {
      "cell_type": "code",
      "source": [
        "from pyomo.environ  import *"
      ],
      "metadata": {
        "id": "vf2Bv8nOAYOT"
      },
      "execution_count": null,
      "outputs": []
    },
    {
      "cell_type": "code",
      "source": [
        "import numpy as np"
      ],
      "metadata": {
        "id": "ZuR43YACAbnb"
      },
      "execution_count": null,
      "outputs": []
    },
    {
      "cell_type": "code",
      "source": [
        "coef = np.loadtxt('lab4_ex1_coef.txt', delimiter=',')"
      ],
      "metadata": {
        "id": "v54n6gkLAeRN"
      },
      "execution_count": null,
      "outputs": []
    },
    {
      "cell_type": "code",
      "source": [
        "print(coef)"
      ],
      "metadata": {
        "id": "Qd0jRNsGBzv9",
        "colab": {
          "base_uri": "https://localhost:8080/"
        },
        "outputId": "a2f58cc7-2653-4299-9fbd-ed09c37bd87b"
      },
      "execution_count": null,
      "outputs": [
        {
          "output_type": "stream",
          "name": "stdout",
          "text": [
            "[[  0.65   0.75  -5.85  -8.35 -12.38  30.     0.  ]\n",
            " [ -0.5    0.    -3.8   -0.9    0.9    0.    24.8 ]\n",
            " [  1.     0.     0.    -1.     0.    -1.     0.8 ]\n",
            " [  0.    -2.9   -1.9    0.     0.    -0.9  -71.4 ]\n",
            " [  0.     0.     0.     4.7    8.02   6.15  95.  ]\n",
            " [ -0.7   -1.4    7.9   -2.9    0.9    0.   -47.  ]]\n"
          ]
        }
      ]
    },
    {
      "cell_type": "code",
      "source": [
        "print(coef.shape)"
      ],
      "metadata": {
        "id": "zvEcpXRfCOnX",
        "colab": {
          "base_uri": "https://localhost:8080/"
        },
        "outputId": "a39649de-e889-4314-acd8-6eea47787b84"
      },
      "execution_count": null,
      "outputs": [
        {
          "output_type": "stream",
          "name": "stdout",
          "text": [
            "(6, 7)\n"
          ]
        }
      ]
    },
    {
      "cell_type": "code",
      "source": [
        "N = coef.shape[1]-1 #no of variables\n",
        "M = coef.shape[0]-1 #no of constraints"
      ],
      "metadata": {
        "id": "3XUGCgrnCzFT"
      },
      "execution_count": null,
      "outputs": []
    },
    {
      "cell_type": "code",
      "source": [
        "col_indices = np.arange(N)\n",
        "row_indices = np.arange(M)"
      ],
      "metadata": {
        "id": "IR_QOSLJErpy"
      },
      "execution_count": null,
      "outputs": []
    },
    {
      "cell_type": "code",
      "source": [
        "obj_coef_c = coef[0,:-1]\n",
        "cons_coef_A = coef[1:,:-1]\n",
        "cons_rhs_b = coef[1:,-1]"
      ],
      "metadata": {
        "id": "p4Tu155UDNka"
      },
      "execution_count": null,
      "outputs": []
    },
    {
      "cell_type": "code",
      "source": [
        "lb = 0\n",
        "ub = np.inf"
      ],
      "metadata": {
        "id": "6-rJSuWgED9A"
      },
      "execution_count": null,
      "outputs": []
    },
    {
      "cell_type": "code",
      "source": [
        "model_ex1 = ConcreteModel()"
      ],
      "metadata": {
        "id": "_9D26eRxEW3Y"
      },
      "execution_count": null,
      "outputs": []
    },
    {
      "cell_type": "code",
      "source": [
        "model_ex1.x = Var(col_indices)"
      ],
      "metadata": {
        "id": "LPvqjVSdEjnB"
      },
      "execution_count": null,
      "outputs": []
    },
    {
      "cell_type": "code",
      "source": [
        "model_ex1.obj = Objective(expr = summation(obj_coef_c,model_ex1.x),sense = maximize)"
      ],
      "metadata": {
        "id": "A6SlDHtjGF8m"
      },
      "execution_count": null,
      "outputs": []
    },
    {
      "cell_type": "code",
      "source": [
        "model_ex1.constr = ConstraintList()"
      ],
      "metadata": {
        "id": "eK7pIdeaGnif"
      },
      "execution_count": null,
      "outputs": []
    },
    {
      "cell_type": "code",
      "source": [
        "for i in row_indices:\n",
        "  model_ex1.constr.add(expr = summation(cons_coef_A[i],model_ex1.x) <= cons_rhs_b[i])"
      ],
      "metadata": {
        "id": "frYCspddG65S"
      },
      "execution_count": null,
      "outputs": []
    },
    {
      "cell_type": "code",
      "source": [
        "for i in col_indices:\n",
        "  model_ex1.x[i].setlb(lb)\n",
        "  model_ex1.x[i].setub(ub)"
      ],
      "metadata": {
        "id": "GHEOJjXIIebW"
      },
      "execution_count": null,
      "outputs": []
    },
    {
      "cell_type": "code",
      "source": [
        "model_ex1.pprint()"
      ],
      "metadata": {
        "id": "S3H97lIHIpuf",
        "colab": {
          "base_uri": "https://localhost:8080/"
        },
        "outputId": "5fe2d5a7-1275-48c6-e067-378508dd0bce"
      },
      "execution_count": null,
      "outputs": [
        {
          "output_type": "stream",
          "name": "stdout",
          "text": [
            "2 Set Declarations\n",
            "    constr_index : Size=1, Index=None, Ordered=Insertion\n",
            "        Key  : Dimen : Domain : Size : Members\n",
            "        None :     1 :    Any :    5 : {1, 2, 3, 4, 5}\n",
            "    x_index : Size=1, Index=None, Ordered=False\n",
            "        Key  : Dimen : Domain : Size : Members\n",
            "        None :     1 :    Any :    6 : {0, 1, 2, 3, 4, 5}\n",
            "\n",
            "1 Var Declarations\n",
            "    x : Size=6, Index=x_index\n",
            "        Key : Lower : Value : Upper : Fixed : Stale : Domain\n",
            "          0 :     0 :  None :  None : False :  True :  Reals\n",
            "          1 :     0 :  None :  None : False :  True :  Reals\n",
            "          2 :     0 :  None :  None : False :  True :  Reals\n",
            "          3 :     0 :  None :  None : False :  True :  Reals\n",
            "          4 :     0 :  None :  None : False :  True :  Reals\n",
            "          5 :     0 :  None :  None : False :  True :  Reals\n",
            "\n",
            "1 Objective Declarations\n",
            "    obj : Size=1, Index=None, Active=True\n",
            "        Key  : Active : Sense    : Expression\n",
            "        None :   True : maximize : 0.65*x[0] + 0.75*x[1] - 5.85*x[2] - 8.35*x[3] - 12.38*x[4] + 30.0*x[5]\n",
            "\n",
            "1 Constraint Declarations\n",
            "    constr : Size=5, Index=constr_index, Active=True\n",
            "        Key : Lower : Body                                                  : Upper : Active\n",
            "          1 :  -Inf :            -0.5*x[0] - 3.8*x[2] - 0.9*x[3] + 0.9*x[4] :  24.8 :   True\n",
            "          2 :  -Inf :                                    x[0] - x[3] - x[5] :   0.8 :   True\n",
            "          3 :  -Inf :                       -2.9*x[1] - 1.9*x[2] - 0.9*x[5] : -71.4 :   True\n",
            "          4 :  -Inf :                      4.7*x[3] + 8.02*x[4] + 6.15*x[5] :  95.0 :   True\n",
            "          5 :  -Inf : -0.7*x[0] - 1.4*x[1] + 7.9*x[2] - 2.9*x[3] + 0.9*x[4] : -47.0 :   True\n",
            "\n",
            "5 Declarations: x_index x obj constr_index constr\n"
          ]
        }
      ]
    },
    {
      "cell_type": "code",
      "source": [
        "!apt-get install -y -qq coinor-cbc"
      ],
      "metadata": {
        "id": "pYLh5bb1IuQ3",
        "colab": {
          "base_uri": "https://localhost:8080/"
        },
        "outputId": "973567c8-64a5-44a9-b8f5-2500612fc33b"
      },
      "execution_count": null,
      "outputs": [
        {
          "output_type": "stream",
          "name": "stdout",
          "text": [
            "Selecting previously unselected package coinor-libcoinutils3v5.\n",
            "(Reading database ... 155676 files and directories currently installed.)\n",
            "Preparing to unpack .../0-coinor-libcoinutils3v5_2.10.14+repack1-1_amd64.deb ...\n",
            "Unpacking coinor-libcoinutils3v5 (2.10.14+repack1-1) ...\n",
            "Selecting previously unselected package coinor-libosi1v5.\n",
            "Preparing to unpack .../1-coinor-libosi1v5_0.107.9+repack1-1_amd64.deb ...\n",
            "Unpacking coinor-libosi1v5 (0.107.9+repack1-1) ...\n",
            "Selecting previously unselected package coinor-libclp1.\n",
            "Preparing to unpack .../2-coinor-libclp1_1.16.11+repack1-1_amd64.deb ...\n",
            "Unpacking coinor-libclp1 (1.16.11+repack1-1) ...\n",
            "Selecting previously unselected package coinor-libcgl1.\n",
            "Preparing to unpack .../3-coinor-libcgl1_0.59.10+repack1-1_amd64.deb ...\n",
            "Unpacking coinor-libcgl1 (0.59.10+repack1-1) ...\n",
            "Selecting previously unselected package coinor-libcbc3.\n",
            "Preparing to unpack .../4-coinor-libcbc3_2.9.9+repack1-1_amd64.deb ...\n",
            "Unpacking coinor-libcbc3 (2.9.9+repack1-1) ...\n",
            "Selecting previously unselected package coinor-cbc.\n",
            "Preparing to unpack .../5-coinor-cbc_2.9.9+repack1-1_amd64.deb ...\n",
            "Unpacking coinor-cbc (2.9.9+repack1-1) ...\n",
            "Setting up coinor-libcoinutils3v5 (2.10.14+repack1-1) ...\n",
            "Setting up coinor-libosi1v5 (0.107.9+repack1-1) ...\n",
            "Setting up coinor-libclp1 (1.16.11+repack1-1) ...\n",
            "Setting up coinor-libcgl1 (0.59.10+repack1-1) ...\n",
            "Setting up coinor-libcbc3 (2.9.9+repack1-1) ...\n",
            "Setting up coinor-cbc (2.9.9+repack1-1) ...\n",
            "Processing triggers for man-db (2.8.3-2ubuntu0.1) ...\n",
            "Processing triggers for libc-bin (2.27-3ubuntu1.5) ...\n"
          ]
        }
      ]
    },
    {
      "cell_type": "code",
      "source": [
        "opt_cbc = SolverFactory('cbc')"
      ],
      "metadata": {
        "id": "CKGsnauCJb92"
      },
      "execution_count": null,
      "outputs": []
    },
    {
      "cell_type": "code",
      "source": [
        "result = opt_cbc.solve(model_ex1)\n",
        "print('Solver status:', result.solver.status)\n",
        "print('Solver termination condition:',result.solver.termination_condition)"
      ],
      "metadata": {
        "id": "aWRUs095JgYf",
        "colab": {
          "base_uri": "https://localhost:8080/"
        },
        "outputId": "30832efc-2d3f-40ce-93d5-74578e9fb10c"
      },
      "execution_count": null,
      "outputs": [
        {
          "output_type": "stream",
          "name": "stderr",
          "text": [
            "WARNING:pyomo.core:Loading a SolverResults object with a warning status into model.name=\"unknown\";\n",
            "  - termination condition: unbounded\n",
            "  - message from solver: <undefined>\n"
          ]
        },
        {
          "output_type": "stream",
          "name": "stdout",
          "text": [
            "Solver status: warning\n",
            "Solver termination condition: unbounded\n"
          ]
        }
      ]
    },
    {
      "cell_type": "markdown",
      "source": [
        "$\\large{\\textbf{Answer 1.7}} \\\\ \\text{The solver status is displaying WARNING which may be because of the termination condition that is coming out to be UNBOUNDED.} \\\\ \\text{A possible reason for the system to be unbounded is that maybe the sense of the objective function is wrong or the constraints are not able to bound the region.}$"
      ],
      "metadata": {
        "id": "KfuxcDWPTkgw"
      }
    },
    {
      "cell_type": "code",
      "source": [
        "model_ex1.obj.set_sense(minimize)"
      ],
      "metadata": {
        "id": "eZeBCR2AJjTS"
      },
      "execution_count": null,
      "outputs": []
    },
    {
      "cell_type": "code",
      "source": [
        "model_ex1.pprint()"
      ],
      "metadata": {
        "id": "0RV1EGXbJ6a2",
        "colab": {
          "base_uri": "https://localhost:8080/"
        },
        "outputId": "b608fd1b-093d-4d6f-d933-efd780c1881a"
      },
      "execution_count": null,
      "outputs": [
        {
          "output_type": "stream",
          "name": "stdout",
          "text": [
            "2 Set Declarations\n",
            "    constr_index : Size=1, Index=None, Ordered=Insertion\n",
            "        Key  : Dimen : Domain : Size : Members\n",
            "        None :     1 :    Any :    5 : {1, 2, 3, 4, 5}\n",
            "    x_index : Size=1, Index=None, Ordered=False\n",
            "        Key  : Dimen : Domain : Size : Members\n",
            "        None :     1 :    Any :    6 : {0, 1, 2, 3, 4, 5}\n",
            "\n",
            "1 Var Declarations\n",
            "    x : Size=6, Index=x_index\n",
            "        Key : Lower : Value : Upper : Fixed : Stale : Domain\n",
            "          0 :     0 :  None :  None : False :  True :  Reals\n",
            "          1 :     0 :  None :  None : False :  True :  Reals\n",
            "          2 :     0 :  None :  None : False :  True :  Reals\n",
            "          3 :     0 :  None :  None : False :  True :  Reals\n",
            "          4 :     0 :  None :  None : False :  True :  Reals\n",
            "          5 :     0 :  None :  None : False :  True :  Reals\n",
            "\n",
            "1 Objective Declarations\n",
            "    obj : Size=1, Index=None, Active=True\n",
            "        Key  : Active : Sense    : Expression\n",
            "        None :   True : minimize : 0.65*x[0] + 0.75*x[1] - 5.85*x[2] - 8.35*x[3] - 12.38*x[4] + 30.0*x[5]\n",
            "\n",
            "1 Constraint Declarations\n",
            "    constr : Size=5, Index=constr_index, Active=True\n",
            "        Key : Lower : Body                                                  : Upper : Active\n",
            "          1 :  -Inf :            -0.5*x[0] - 3.8*x[2] - 0.9*x[3] + 0.9*x[4] :  24.8 :   True\n",
            "          2 :  -Inf :                                    x[0] - x[3] - x[5] :   0.8 :   True\n",
            "          3 :  -Inf :                       -2.9*x[1] - 1.9*x[2] - 0.9*x[5] : -71.4 :   True\n",
            "          4 :  -Inf :                      4.7*x[3] + 8.02*x[4] + 6.15*x[5] :  95.0 :   True\n",
            "          5 :  -Inf : -0.7*x[0] - 1.4*x[1] + 7.9*x[2] - 2.9*x[3] + 0.9*x[4] : -47.0 :   True\n",
            "\n",
            "5 Declarations: x_index x obj constr_index constr\n"
          ]
        }
      ]
    },
    {
      "cell_type": "code",
      "source": [
        "result = opt_cbc.solve(model_ex1)\n",
        "print('Solver status:', result.solver.status)\n",
        "print('Solver termination condition:',result.solver.termination_condition)"
      ],
      "metadata": {
        "id": "ti3AJQemJ-PX",
        "colab": {
          "base_uri": "https://localhost:8080/"
        },
        "outputId": "d65f7145-0814-4a5a-be10-ad92cf5585d4"
      },
      "execution_count": null,
      "outputs": [
        {
          "output_type": "stream",
          "name": "stderr",
          "text": [
            "WARNING:pyomo.core:Loading a SolverResults object with a warning status into model.name=\"unknown\";\n",
            "  - termination condition: unbounded\n",
            "  - message from solver: <undefined>\n"
          ]
        },
        {
          "output_type": "stream",
          "name": "stdout",
          "text": [
            "Solver status: warning\n",
            "Solver termination condition: unbounded\n"
          ]
        }
      ]
    },
    {
      "cell_type": "markdown",
      "source": [
        "$\\text{Even after changing the sense of the objective function, we observe that the termination condition is still coming out to be unbounded,} \\\\ \\text{so we can say that the sense of the objective function is correct but there is some issue in one of the constraints or the bounds of some variable.}$"
      ],
      "metadata": {
        "id": "WTr6zAeDUhIB"
      }
    },
    {
      "cell_type": "code",
      "source": [
        "model_ex1.obj.set_sense(maximize)"
      ],
      "metadata": {
        "id": "wrxXXczpKB7C"
      },
      "execution_count": null,
      "outputs": []
    },
    {
      "cell_type": "code",
      "source": [
        "model_ex1.x[1].setub(1200)"
      ],
      "metadata": {
        "id": "Bkkisjq2Ruxp"
      },
      "execution_count": null,
      "outputs": []
    },
    {
      "cell_type": "code",
      "source": [
        "result = opt_cbc.solve(model_ex1)\n",
        "print('Solver status:', result.solver.status)\n",
        "print('Solver termination condition:',result.solver.termination_condition)"
      ],
      "metadata": {
        "colab": {
          "base_uri": "https://localhost:8080/"
        },
        "id": "_Zah7-isXxJI",
        "outputId": "5c1d1775-aa05-4c16-8a87-2adcb49d736b"
      },
      "execution_count": null,
      "outputs": [
        {
          "output_type": "stream",
          "name": "stdout",
          "text": [
            "Solver status: ok\n",
            "Solver termination condition: optimal\n"
          ]
        }
      ]
    },
    {
      "cell_type": "code",
      "source": [
        "print('\\nObjective = ', model_ex1.obj())\n",
        "\n",
        "print('\\nDecision Variables')\n",
        "for i in col_indices:\n",
        "  print('x[',i,'] = ', model_ex1.x[i].value)\n",
        "print('\\nConstraints')\n",
        "model_ex1.constr.display()"
      ],
      "metadata": {
        "colab": {
          "base_uri": "https://localhost:8080/"
        },
        "id": "3iK7kDPDXz5J",
        "outputId": "2c4b66ed-c19c-401e-d658-23f9efdf6ee4"
      },
      "execution_count": null,
      "outputs": [
        {
          "output_type": "stream",
          "name": "stdout",
          "text": [
            "\n",
            "Objective =  1373.9752701\n",
            "\n",
            "Decision Variables\n",
            "x[ 0 ] =  16.247154\n",
            "x[ 1 ] =  1200.0\n",
            "x[ 2 ] =  0.0\n",
            "x[ 3 ] =  0.0\n",
            "x[ 4 ] =  0.0\n",
            "x[ 5 ] =  15.447154\n",
            "\n",
            "Constraints\n",
            "constr : Size=5\n",
            "    Key : Lower : Body               : Upper\n",
            "      1 :  None :          -8.123577 :  24.8\n",
            "      2 :  None : 0.7999999999999989 :   0.8\n",
            "      3 :  None :      -3493.9024386 : -71.4\n",
            "      4 :  None :         94.9999971 :  95.0\n",
            "      5 :  None :      -1691.3730078 : -47.0\n"
          ]
        }
      ]
    },
    {
      "cell_type": "markdown",
      "source": [
        "$\\large{\\textbf{Answer 1.9 :}} \\\\ \\text{Here we can see that we get an optimal solution as soon as we set an upper bound for } x_2 \\\\ \\text{The possible reason for that might be in the constraints we observe that if we keep any} \\\\ \\text{four variables constant we get some upper bounds for the fifth one other than  } x_2 \\\\ \\text{When there is no upper bound for }x_2, \\text{due to the sense of maximisation, the value of the objective function comes out to be } + ∞$"
      ],
      "metadata": {
        "id": "lznen96SFiBk"
      }
    },
    {
      "cell_type": "markdown",
      "source": [
        "$\\text{Upper bound of } x_2 = 1200 \\\\ \\text{Objective Function Value = 1373.975} \\\\ \\textbf{Value of decision variables:} \\\\ x_1 = 16.247\\\\ x_2 = 1200 \\\\ x_3 = 0\\\\ x_4 = 0 \\\\ x_5 = 0 \\\\ x_6 = 15.447 \\\\ \\textbf{Constraint activities:} \\\\ \\textbf{Constaint 1:} \\text{ It is inactive as its value is coming out to be -8.123 which is strictly less than the RHS = 24.8 } \\\\ \\textbf{Constaint 2:} \\text{ It is active as its value is coming out to be 0.8 which is exactly equal to the RHS.} \\\\ \\textbf{Constaint 3:} \\text{ It is inactive as its value is coming out to be -3493.9024 which is strictly less than the RHS = -71.4} \\\\ \\textbf{Constaint 4:} \\text{ It is active as its value is coming out to be 95 which is exactly equal to the RHS.} \\\\ \\textbf{Constaint 5:} \\text{ It is inactive as its value is coming out to be -1691.373 which is strictly less than the RHS = -47 } \\\\ \\text{Here we can also observe that } x_2 \\text{ is attaining the upper bound which verifies our claim that } x_2 \\text{ was tending to } ∞ \\text{ thus making the solution unbounded.}$"
      ],
      "metadata": {
        "id": "oeWJfylE2zxQ"
      }
    },
    {
      "cell_type": "code",
      "source": [],
      "metadata": {
        "id": "44tTcic15xXi"
      },
      "execution_count": null,
      "outputs": []
    }
  ]
}