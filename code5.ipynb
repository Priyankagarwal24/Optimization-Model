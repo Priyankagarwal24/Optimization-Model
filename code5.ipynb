{
  "nbformat": 4,
  "nbformat_minor": 0,
  "metadata": {
    "colab": {
      "name": "22N0453_IE507_Lab3_Ex1.ipynb",
      "provenance": [],
      "collapsed_sections": []
    },
    "kernelspec": {
      "name": "python3",
      "display_name": "Python 3"
    },
    "language_info": {
      "name": "python"
    }
  },
  "cells": [
    {
      "cell_type": "markdown",
      "source": [
        "$\\large{\\textbf{Answer 1:}}$"
      ],
      "metadata": {
        "id": "XWxRHLx-_sUE"
      }
    },
    {
      "cell_type": "code",
      "execution_count": null,
      "metadata": {
        "colab": {
          "base_uri": "https://localhost:8080/"
        },
        "id": "S8RtB9DQ7QYh",
        "outputId": "fafc9ae0-713a-41fa-e9ac-b0d14933c82e"
      },
      "outputs": [
        {
          "output_type": "stream",
          "name": "stdout",
          "text": [
            "\u001b[K     |████████████████████████████████| 9.6 MB 4.9 MB/s \n",
            "\u001b[K     |████████████████████████████████| 49 kB 3.0 MB/s \n",
            "\u001b[?25h"
          ]
        }
      ],
      "source": [
        "!pip install -q pyomo"
      ]
    },
    {
      "cell_type": "code",
      "source": [
        "from pyomo.environ import *"
      ],
      "metadata": {
        "id": "lC4aPIROAeRk"
      },
      "execution_count": null,
      "outputs": []
    },
    {
      "cell_type": "code",
      "source": [
        "import numpy as np"
      ],
      "metadata": {
        "id": "Z5UDkyoJA4v_"
      },
      "execution_count": null,
      "outputs": []
    },
    {
      "cell_type": "code",
      "source": [
        "model = ConcreteModel()"
      ],
      "metadata": {
        "id": "LYvxngu8BKFm"
      },
      "execution_count": null,
      "outputs": []
    },
    {
      "cell_type": "code",
      "source": [
        "N = 3 #no of variables\n",
        "M = 3 #no of constraints"
      ],
      "metadata": {
        "id": "spXgsvmrBR0u"
      },
      "execution_count": null,
      "outputs": []
    },
    {
      "cell_type": "code",
      "source": [
        "lb = np.array([2,1,1])\n",
        "ub = np.array([np.inf, np.inf, np.inf])"
      ],
      "metadata": {
        "id": "ACY7YFhJB1EN"
      },
      "execution_count": null,
      "outputs": []
    },
    {
      "cell_type": "code",
      "source": [
        "obj_coef_c = np.array([2, -2, 2])"
      ],
      "metadata": {
        "id": "Qy4jBmK8CZM3"
      },
      "execution_count": null,
      "outputs": []
    },
    {
      "cell_type": "code",
      "source": [
        "cons_coef_A = np.array([[2, -1, 2], [1, -4, 2], [-2, 2, 1]])\n",
        "coef_rhs_b = np.array([6, -15, -8])"
      ],
      "metadata": {
        "id": "_2IBEmEhCzY6"
      },
      "execution_count": null,
      "outputs": []
    },
    {
      "cell_type": "code",
      "source": [
        "col_indices = np.arange(N)\n",
        "row_indices = np.arange(M)"
      ],
      "metadata": {
        "id": "3KSTrN46DrOi"
      },
      "execution_count": null,
      "outputs": []
    },
    {
      "cell_type": "markdown",
      "source": [
        ""
      ],
      "metadata": {
        "id": "KS4saYT1idD4"
      }
    },
    {
      "cell_type": "code",
      "source": [
        "model.x = Var(col_indices)"
      ],
      "metadata": {
        "id": "ULRtocPiEPmC"
      },
      "execution_count": null,
      "outputs": []
    },
    {
      "cell_type": "code",
      "source": [
        "model.constraints = ConstraintList()\n",
        "for i in row_indices:\n",
        "  model.constraints.add(sum(cons_coef_A[i][j]*model.x[j] for j in col_indices) <= coef_rhs_b[i])"
      ],
      "metadata": {
        "id": "vor8ZU_kEfe6"
      },
      "execution_count": null,
      "outputs": []
    },
    {
      "cell_type": "code",
      "source": [
        "model.obj = Objective(expr = summation(obj_coef_c,model.x), sense=minimize)"
      ],
      "metadata": {
        "id": "6VlvDS1_FeCQ"
      },
      "execution_count": null,
      "outputs": []
    },
    {
      "cell_type": "code",
      "source": [
        "for i in col_indices:\n",
        "  model.x[i].setub(ub[i])\n",
        "  model.x[i].setlb(lb[i])"
      ],
      "metadata": {
        "id": "uIkvepQJIBoe"
      },
      "execution_count": null,
      "outputs": []
    },
    {
      "cell_type": "code",
      "source": [
        "model.pprint()"
      ],
      "metadata": {
        "colab": {
          "base_uri": "https://localhost:8080/"
        },
        "id": "3R5Eujj5H2di",
        "outputId": "063e9134-759d-4a01-ae4b-7cb350a54b12"
      },
      "execution_count": null,
      "outputs": [
        {
          "output_type": "stream",
          "name": "stdout",
          "text": [
            "2 Set Declarations\n",
            "    constraints_index : Size=1, Index=None, Ordered=Insertion\n",
            "        Key  : Dimen : Domain : Size : Members\n",
            "        None :     1 :    Any :    3 : {1, 2, 3}\n",
            "    x_index : Size=1, Index=None, Ordered=False\n",
            "        Key  : Dimen : Domain : Size : Members\n",
            "        None :     1 :    Any :    3 : {0, 1, 2}\n",
            "\n",
            "1 Var Declarations\n",
            "    x : Size=3, Index=x_index\n",
            "        Key : Lower : Value : Upper : Fixed : Stale : Domain\n",
            "          0 :     2 :  None :  None : False :  True :  Reals\n",
            "          1 :     1 :  None :  None : False :  True :  Reals\n",
            "          2 :     1 :  None :  None : False :  True :  Reals\n",
            "\n",
            "1 Objective Declarations\n",
            "    obj : Size=1, Index=None, Active=True\n",
            "        Key  : Active : Sense    : Expression\n",
            "        None :   True : minimize : 2*x[0] - 2*x[1] + 2*x[2]\n",
            "\n",
            "1 Constraint Declarations\n",
            "    constraints : Size=3, Index=constraints_index, Active=True\n",
            "        Key : Lower : Body                    : Upper : Active\n",
            "          1 :  -Inf :  2*x[0] - x[1] + 2*x[2] :   6.0 :   True\n",
            "          2 :  -Inf :  x[0] - 4*x[1] + 2*x[2] : -15.0 :   True\n",
            "          3 :  -Inf : -2*x[0] + 2*x[1] + x[2] :  -8.0 :   True\n",
            "\n",
            "5 Declarations: x_index x constraints_index constraints obj\n"
          ]
        }
      ]
    },
    {
      "cell_type": "code",
      "source": [
        "!apt-get install -y -qq glpk-utils"
      ],
      "metadata": {
        "colab": {
          "base_uri": "https://localhost:8080/"
        },
        "id": "XozlGKNvH6-0",
        "outputId": "abb5d147-e4bc-480e-98d4-e466b4b79489"
      },
      "execution_count": null,
      "outputs": [
        {
          "output_type": "stream",
          "name": "stdout",
          "text": [
            "Selecting previously unselected package libsuitesparseconfig5:amd64.\n",
            "(Reading database ... 155676 files and directories currently installed.)\n",
            "Preparing to unpack .../libsuitesparseconfig5_1%3a5.1.2-2_amd64.deb ...\n",
            "Unpacking libsuitesparseconfig5:amd64 (1:5.1.2-2) ...\n",
            "Selecting previously unselected package libamd2:amd64.\n",
            "Preparing to unpack .../libamd2_1%3a5.1.2-2_amd64.deb ...\n",
            "Unpacking libamd2:amd64 (1:5.1.2-2) ...\n",
            "Selecting previously unselected package libcolamd2:amd64.\n",
            "Preparing to unpack .../libcolamd2_1%3a5.1.2-2_amd64.deb ...\n",
            "Unpacking libcolamd2:amd64 (1:5.1.2-2) ...\n",
            "Selecting previously unselected package libglpk40:amd64.\n",
            "Preparing to unpack .../libglpk40_4.65-1_amd64.deb ...\n",
            "Unpacking libglpk40:amd64 (4.65-1) ...\n",
            "Selecting previously unselected package glpk-utils.\n",
            "Preparing to unpack .../glpk-utils_4.65-1_amd64.deb ...\n",
            "Unpacking glpk-utils (4.65-1) ...\n",
            "Setting up libsuitesparseconfig5:amd64 (1:5.1.2-2) ...\n",
            "Setting up libcolamd2:amd64 (1:5.1.2-2) ...\n",
            "Setting up libamd2:amd64 (1:5.1.2-2) ...\n",
            "Setting up libglpk40:amd64 (4.65-1) ...\n",
            "Setting up glpk-utils (4.65-1) ...\n",
            "Processing triggers for libc-bin (2.27-3ubuntu1.5) ...\n",
            "Processing triggers for man-db (2.8.3-2ubuntu0.1) ...\n"
          ]
        }
      ]
    },
    {
      "cell_type": "code",
      "source": [
        "opt = SolverFactory('glpk', executable='/usr/bin/glpsol')\n",
        "result = opt.solve(model)\n",
        "\n",
        "print(result)\n",
        "print(\"Solver Status:\",result.solver.status)\n",
        "print('Termination Condition:', result.solver.termination_condition)"
      ],
      "metadata": {
        "colab": {
          "base_uri": "https://localhost:8080/"
        },
        "id": "Xu-7nxMpIquh",
        "outputId": "87d59cb6-7276-4d6a-b4ed-d0b9a1be55d4"
      },
      "execution_count": null,
      "outputs": [
        {
          "output_type": "stream",
          "name": "stdout",
          "text": [
            "\n",
            "Problem: \n",
            "- Name: unknown\n",
            "  Lower bound: -inf\n",
            "  Upper bound: inf\n",
            "  Number of objectives: 1\n",
            "  Number of constraints: 4\n",
            "  Number of variables: 4\n",
            "  Number of nonzeros: 10\n",
            "  Sense: minimize\n",
            "Solver: \n",
            "- Status: ok\n",
            "  Termination condition: other\n",
            "  Statistics: \n",
            "    Branch and bound: \n",
            "      Number of bounded subproblems: 0\n",
            "      Number of created subproblems: 0\n",
            "  Error rc: 0\n",
            "  Time: 0.05112504959106445\n",
            "\n",
            "Solver Status: ok\n",
            "Termination Condition: other\n"
          ]
        }
      ]
    },
    {
      "cell_type": "markdown",
      "source": [
        "$\\text{The solver status and termination condition are not meaningful in this case as we are not getting a solution but still the solver status is coming out to be OK.}\\\\ \\text{The termination condition is showing OTHER which does not clear out the reason but we can only get the possibilities that either the problem is infeasible or unbounded.}$"
      ],
      "metadata": {
        "id": "H9n0v2hDgeKh"
      }
    },
    {
      "cell_type": "code",
      "source": [
        "!apt-get install -y -qq coinor-cbc"
      ],
      "metadata": {
        "colab": {
          "base_uri": "https://localhost:8080/"
        },
        "id": "L3yPqnkQKB0d",
        "outputId": "3c41b2f6-e96f-4e8b-c524-f05951991629"
      },
      "execution_count": null,
      "outputs": [
        {
          "output_type": "stream",
          "name": "stdout",
          "text": [
            "Selecting previously unselected package coinor-libcoinutils3v5.\n",
            "(Reading database ... \r(Reading database ... 5%\r(Reading database ... 10%\r(Reading database ... 15%\r(Reading database ... 20%\r(Reading database ... 25%\r(Reading database ... 30%\r(Reading database ... 35%\r(Reading database ... 40%\r(Reading database ... 45%\r(Reading database ... 50%\r(Reading database ... 55%\r(Reading database ... 60%\r(Reading database ... 65%\r(Reading database ... 70%\r(Reading database ... 75%\r(Reading database ... 80%\r(Reading database ... 85%\r(Reading database ... 90%\r(Reading database ... 95%\r(Reading database ... 100%\r(Reading database ... 155879 files and directories currently installed.)\n",
            "Preparing to unpack .../0-coinor-libcoinutils3v5_2.10.14+repack1-1_amd64.deb ...\n",
            "Unpacking coinor-libcoinutils3v5 (2.10.14+repack1-1) ...\n",
            "Selecting previously unselected package coinor-libosi1v5.\n",
            "Preparing to unpack .../1-coinor-libosi1v5_0.107.9+repack1-1_amd64.deb ...\n",
            "Unpacking coinor-libosi1v5 (0.107.9+repack1-1) ...\n",
            "Selecting previously unselected package coinor-libclp1.\n",
            "Preparing to unpack .../2-coinor-libclp1_1.16.11+repack1-1_amd64.deb ...\n",
            "Unpacking coinor-libclp1 (1.16.11+repack1-1) ...\n",
            "Selecting previously unselected package coinor-libcgl1.\n",
            "Preparing to unpack .../3-coinor-libcgl1_0.59.10+repack1-1_amd64.deb ...\n",
            "Unpacking coinor-libcgl1 (0.59.10+repack1-1) ...\n",
            "Selecting previously unselected package coinor-libcbc3.\n",
            "Preparing to unpack .../4-coinor-libcbc3_2.9.9+repack1-1_amd64.deb ...\n",
            "Unpacking coinor-libcbc3 (2.9.9+repack1-1) ...\n",
            "Selecting previously unselected package coinor-cbc.\n",
            "Preparing to unpack .../5-coinor-cbc_2.9.9+repack1-1_amd64.deb ...\n",
            "Unpacking coinor-cbc (2.9.9+repack1-1) ...\n",
            "Setting up coinor-libcoinutils3v5 (2.10.14+repack1-1) ...\n",
            "Setting up coinor-libosi1v5 (0.107.9+repack1-1) ...\n",
            "Setting up coinor-libclp1 (1.16.11+repack1-1) ...\n",
            "Setting up coinor-libcgl1 (0.59.10+repack1-1) ...\n",
            "Setting up coinor-libcbc3 (2.9.9+repack1-1) ...\n",
            "Setting up coinor-cbc (2.9.9+repack1-1) ...\n",
            "Processing triggers for man-db (2.8.3-2ubuntu0.1) ...\n",
            "Processing triggers for libc-bin (2.27-3ubuntu1.5) ...\n"
          ]
        }
      ]
    },
    {
      "cell_type": "code",
      "source": [
        "cbcSolver = SolverFactory('cbc')"
      ],
      "metadata": {
        "id": "HDwxmC8qKtrx"
      },
      "execution_count": null,
      "outputs": []
    },
    {
      "cell_type": "code",
      "source": [
        "result2 = cbcSolver.solve(model)\n",
        "\n",
        "print(result2)\n",
        "print('Solver Status: ',  result2.solver.status)\n",
        "print('Solver termination condition: ', result2.solver.termination_condition)"
      ],
      "metadata": {
        "colab": {
          "base_uri": "https://localhost:8080/"
        },
        "id": "xTTv2k7FK5Td",
        "outputId": "995841fd-1e68-4eaf-f686-19cd53ff9c4f"
      },
      "execution_count": null,
      "outputs": [
        {
          "output_type": "stream",
          "name": "stderr",
          "text": [
            "WARNING:pyomo.core:Loading a SolverResults object with a warning status into model.name=\"unknown\";\n",
            "  - termination condition: infeasible\n",
            "  - message from solver: <undefined>\n"
          ]
        },
        {
          "output_type": "stream",
          "name": "stdout",
          "text": [
            "\n",
            "Problem: \n",
            "- Name: unknown\n",
            "  Lower bound: None\n",
            "  Upper bound: inf\n",
            "  Number of objectives: 1\n",
            "  Number of constraints: 4\n",
            "  Number of variables: 4\n",
            "  Number of nonzeros: 3\n",
            "  Sense: minimize\n",
            "Solver: \n",
            "- Status: warning\n",
            "  User time: -1.0\n",
            "  System time: 0.0\n",
            "  Wallclock time: 0.0\n",
            "  Termination condition: infeasible\n",
            "  Termination message: Model was proven to be infeasible.\n",
            "  Statistics: \n",
            "    Branch and bound: \n",
            "      Number of bounded subproblems: 0\n",
            "      Number of created subproblems: 0\n",
            "    Black box: \n",
            "      Number of iterations: 0\n",
            "  Error rc: 0\n",
            "  Time: 0.0590815544128418\n",
            "\n",
            "Solver Status:  warning\n",
            "Solver termination condition:  infeasible\n"
          ]
        }
      ]
    },
    {
      "cell_type": "markdown",
      "source": [
        "$\\text{Here the messages displayed are meaningful. The solver status is displaying WARNING which may be because of the termination condition that is coming out to be INFEASIBLE.} \\\\ \\text{The possible reason for the system to be infeasible is that there is no solution which satisfies all the constraints simultaneously.}$"
      ],
      "metadata": {
        "id": "p3XQiIh0hWNB"
      }
    },
    {
      "cell_type": "markdown",
      "source": [
        "$\\large{\\textbf{Answer 2.a}} \\\\  \\text{Changimg the sense of objective function to maximum.}$"
      ],
      "metadata": {
        "id": "4Wc1cN4yMK3p"
      }
    },
    {
      "cell_type": "code",
      "source": [
        "model.obj.set_sense(maximize)"
      ],
      "metadata": {
        "id": "CbJ-Y9KmMKM9"
      },
      "execution_count": null,
      "outputs": []
    },
    {
      "cell_type": "code",
      "source": [
        "model.pprint()"
      ],
      "metadata": {
        "colab": {
          "base_uri": "https://localhost:8080/"
        },
        "id": "U4zgzIlTLbX-",
        "outputId": "aceec0ad-85ce-473c-9067-0aefe50593be"
      },
      "execution_count": null,
      "outputs": [
        {
          "output_type": "stream",
          "name": "stdout",
          "text": [
            "2 Set Declarations\n",
            "    constraints_index : Size=1, Index=None, Ordered=Insertion\n",
            "        Key  : Dimen : Domain : Size : Members\n",
            "        None :     1 :    Any :    3 : {1, 2, 3}\n",
            "    x_index : Size=1, Index=None, Ordered=False\n",
            "        Key  : Dimen : Domain : Size : Members\n",
            "        None :     1 :    Any :    3 : {0, 1, 2}\n",
            "\n",
            "1 Var Declarations\n",
            "    x : Size=3, Index=x_index\n",
            "        Key : Lower : Value : Upper : Fixed : Stale : Domain\n",
            "          0 :     2 :  None :  None : False :  True :  Reals\n",
            "          1 :     1 :  None :  None : False :  True :  Reals\n",
            "          2 :     1 :  None :  None : False :  True :  Reals\n",
            "\n",
            "1 Objective Declarations\n",
            "    obj : Size=1, Index=None, Active=True\n",
            "        Key  : Active : Sense    : Expression\n",
            "        None :   True : maximize : 2*x[0] - 2*x[1] + 2*x[2]\n",
            "\n",
            "1 Constraint Declarations\n",
            "    constraints : Size=3, Index=constraints_index, Active=True\n",
            "        Key : Lower : Body                    : Upper : Active\n",
            "          1 :  -Inf :  2*x[0] - x[1] + 2*x[2] :   6.0 :   True\n",
            "          2 :  -Inf :  x[0] - 4*x[1] + 2*x[2] : -15.0 :   True\n",
            "          3 :  -Inf : -2*x[0] + 2*x[1] + x[2] :  -8.0 :   True\n",
            "\n",
            "5 Declarations: x_index x constraints_index constraints obj\n"
          ]
        }
      ]
    },
    {
      "cell_type": "code",
      "source": [
        "result = cbcSolver.solve(model)\n",
        "\n",
        "print(result)\n",
        "print('Solver status: ', result.solver.status)\n",
        "print('Solver termination condition: ', result.solver.termination_condition)"
      ],
      "metadata": {
        "colab": {
          "base_uri": "https://localhost:8080/"
        },
        "id": "aSgrtR8zM-l4",
        "outputId": "c05df64c-8f81-47b0-de45-d1f278462058"
      },
      "execution_count": null,
      "outputs": [
        {
          "output_type": "stream",
          "name": "stderr",
          "text": [
            "WARNING:pyomo.core:Loading a SolverResults object with a warning status into model.name=\"unknown\";\n",
            "  - termination condition: infeasible\n",
            "  - message from solver: <undefined>\n"
          ]
        },
        {
          "output_type": "stream",
          "name": "stdout",
          "text": [
            "\n",
            "Problem: \n",
            "- Name: unknown\n",
            "  Lower bound: -inf\n",
            "  Upper bound: None\n",
            "  Number of objectives: 1\n",
            "  Number of constraints: 4\n",
            "  Number of variables: 4\n",
            "  Number of nonzeros: 3\n",
            "  Sense: maximize\n",
            "Solver: \n",
            "- Status: warning\n",
            "  User time: -1.0\n",
            "  System time: 0.0\n",
            "  Wallclock time: 0.0\n",
            "  Termination condition: infeasible\n",
            "  Termination message: Model was proven to be infeasible.\n",
            "  Statistics: \n",
            "    Branch and bound: \n",
            "      Number of bounded subproblems: 0\n",
            "      Number of created subproblems: 0\n",
            "    Black box: \n",
            "      Number of iterations: 0\n",
            "  Error rc: 0\n",
            "  Time: 0.028020381927490234\n",
            "\n",
            "Solver status:  warning\n",
            "Solver termination condition:  infeasible\n"
          ]
        }
      ]
    },
    {
      "cell_type": "markdown",
      "source": [
        "$\\text{Here the messages displayed are meaningful. The solver status is displaying WARNING which may be because of the termination condition that is coming out to be INFEASIBLE.} \\\\ \\text{It is obvious that the problem will still be infeasible as the sense of the objective fuction has nothing to do with the infeasibility of the problem.} \\\\ \\text{Had it been unbounded then changing the sense might have helped in solving the problem.}$"
      ],
      "metadata": {
        "id": "PVahCsvDirHl"
      }
    },
    {
      "cell_type": "markdown",
      "source": [
        "$\\large{\\textbf{Answer 2.b :}} \\\\ \\text{Setting the upper bounds of } x_2 \\text{ as } 5. \\\\ \\text{Setting the upper bounds of } x_3 \\text{ as } 10.$ "
      ],
      "metadata": {
        "id": "kpUkbuOjNlHd"
      }
    },
    {
      "cell_type": "code",
      "source": [
        "model.obj.set_sense(minimize)\n",
        "model.x[1].setub(5)\n",
        "model.x[2].setub(10)"
      ],
      "metadata": {
        "id": "f27Pdv2ANgGh"
      },
      "execution_count": null,
      "outputs": []
    },
    {
      "cell_type": "code",
      "source": [
        "model.pprint()"
      ],
      "metadata": {
        "colab": {
          "base_uri": "https://localhost:8080/"
        },
        "id": "gDqQ7d8MOSYR",
        "outputId": "2e9373e2-9717-478b-ec88-fd74d4238790"
      },
      "execution_count": null,
      "outputs": [
        {
          "output_type": "stream",
          "name": "stdout",
          "text": [
            "2 Set Declarations\n",
            "    constraints_index : Size=1, Index=None, Ordered=Insertion\n",
            "        Key  : Dimen : Domain : Size : Members\n",
            "        None :     1 :    Any :    3 : {1, 2, 3}\n",
            "    x_index : Size=1, Index=None, Ordered=False\n",
            "        Key  : Dimen : Domain : Size : Members\n",
            "        None :     1 :    Any :    3 : {0, 1, 2}\n",
            "\n",
            "1 Var Declarations\n",
            "    x : Size=3, Index=x_index\n",
            "        Key : Lower : Value : Upper : Fixed : Stale : Domain\n",
            "          0 :     2 :  None :  None : False :  True :  Reals\n",
            "          1 :     1 :  None :     5 : False :  True :  Reals\n",
            "          2 :     1 :  None :    10 : False :  True :  Reals\n",
            "\n",
            "1 Objective Declarations\n",
            "    obj : Size=1, Index=None, Active=True\n",
            "        Key  : Active : Sense    : Expression\n",
            "        None :   True : minimize : 2*x[0] - 2*x[1] + 2*x[2]\n",
            "\n",
            "1 Constraint Declarations\n",
            "    constraints : Size=3, Index=constraints_index, Active=True\n",
            "        Key : Lower : Body                    : Upper : Active\n",
            "          1 :  -Inf :  2*x[0] - x[1] + 2*x[2] :   6.0 :   True\n",
            "          2 :  -Inf :  x[0] - 4*x[1] + 2*x[2] : -15.0 :   True\n",
            "          3 :  -Inf : -2*x[0] + 2*x[1] + x[2] :  -8.0 :   True\n",
            "\n",
            "5 Declarations: x_index x constraints_index constraints obj\n"
          ]
        }
      ]
    },
    {
      "cell_type": "code",
      "source": [
        "result = cbcSolver.solve(model)\n",
        "\n",
        "print(result)\n",
        "print('Solver status: ', result.solver.status)\n",
        "print('Solver termination condition: ', result.solver.termination_condition)"
      ],
      "metadata": {
        "colab": {
          "base_uri": "https://localhost:8080/"
        },
        "id": "h2-_5FIzOUWJ",
        "outputId": "9408ae2c-ee9c-4fbb-ec2e-e4374f180639"
      },
      "execution_count": null,
      "outputs": [
        {
          "output_type": "stream",
          "name": "stderr",
          "text": [
            "WARNING:pyomo.core:Loading a SolverResults object with a warning status into model.name=\"unknown\";\n",
            "  - termination condition: infeasible\n",
            "  - message from solver: <undefined>\n"
          ]
        },
        {
          "output_type": "stream",
          "name": "stdout",
          "text": [
            "\n",
            "Problem: \n",
            "- Name: unknown\n",
            "  Lower bound: None\n",
            "  Upper bound: inf\n",
            "  Number of objectives: 1\n",
            "  Number of constraints: 4\n",
            "  Number of variables: 4\n",
            "  Number of nonzeros: 3\n",
            "  Sense: minimize\n",
            "Solver: \n",
            "- Status: warning\n",
            "  User time: -1.0\n",
            "  System time: 0.0\n",
            "  Wallclock time: 0.0\n",
            "  Termination condition: infeasible\n",
            "  Termination message: Model was proven to be infeasible.\n",
            "  Statistics: \n",
            "    Branch and bound: \n",
            "      Number of bounded subproblems: 0\n",
            "      Number of created subproblems: 0\n",
            "    Black box: \n",
            "      Number of iterations: 0\n",
            "  Error rc: 0\n",
            "  Time: 0.02541375160217285\n",
            "\n",
            "Solver status:  warning\n",
            "Solver termination condition:  infeasible\n"
          ]
        }
      ]
    },
    {
      "cell_type": "markdown",
      "source": [
        "$\\text{Here the messages displayed are meaningful. The solver status is displaying WARNING which may be because of the termination condition that is coming out to be INFEASIBLE.} \\\\ \\text{Here also the problem remains to be infeasible.} \\\\ \\text{This is because we have only restricted the feasible region and when there is no solution in the bigger region there is no chance that the solution will be in a smaller one.} \\\\ \\text{Instead of adding upper bounds extending the lower bounds might have helped.}$"
      ],
      "metadata": {
        "id": "9MsFY37KjlBD"
      }
    },
    {
      "cell_type": "markdown",
      "source": [
        "$\\large{\\textbf{Answer 2.c :}} \\\\ \\text{Adding a new constraint: } \\\\ -x_2 + x_3 \\leq 16$"
      ],
      "metadata": {
        "id": "m-tZtbTRPMxK"
      }
    },
    {
      "cell_type": "code",
      "source": [
        "model.x[1].setub(np.inf)\n",
        "model.x[2].setub(np.inf)"
      ],
      "metadata": {
        "id": "XzrqFosdOiQw"
      },
      "execution_count": null,
      "outputs": []
    },
    {
      "cell_type": "code",
      "source": [
        "new_cons_coef = np.array([0,-1,1])\n",
        "new_cons_rhs = 16\n",
        "model.constraints.add(summation(new_cons_coef,model.x) <= new_cons_rhs)"
      ],
      "metadata": {
        "colab": {
          "base_uri": "https://localhost:8080/"
        },
        "id": "7bISWv79Pd1w",
        "outputId": "d44b5c6c-4cb2-446b-facd-c786f1e0b249"
      },
      "execution_count": null,
      "outputs": [
        {
          "output_type": "execute_result",
          "data": {
            "text/plain": [
              "<pyomo.core.base.constraint._GeneralConstraintData at 0x7f1ca765a1a0>"
            ]
          },
          "metadata": {},
          "execution_count": 28
        }
      ]
    },
    {
      "cell_type": "code",
      "source": [
        "model.pprint()"
      ],
      "metadata": {
        "colab": {
          "base_uri": "https://localhost:8080/"
        },
        "id": "eEKQQsGIQEWk",
        "outputId": "23dcf1bc-410e-4d39-941a-b3a8afdb1fe1"
      },
      "execution_count": null,
      "outputs": [
        {
          "output_type": "stream",
          "name": "stdout",
          "text": [
            "2 Set Declarations\n",
            "    constraints_index : Size=1, Index=None, Ordered=Insertion\n",
            "        Key  : Dimen : Domain : Size : Members\n",
            "        None :     1 :    Any :    4 : {1, 2, 3, 4}\n",
            "    x_index : Size=1, Index=None, Ordered=False\n",
            "        Key  : Dimen : Domain : Size : Members\n",
            "        None :     1 :    Any :    3 : {0, 1, 2}\n",
            "\n",
            "1 Var Declarations\n",
            "    x : Size=3, Index=x_index\n",
            "        Key : Lower : Value : Upper : Fixed : Stale : Domain\n",
            "          0 :     2 :  None :  None : False :  True :  Reals\n",
            "          1 :     1 :  None :  None : False :  True :  Reals\n",
            "          2 :     1 :  None :  None : False :  True :  Reals\n",
            "\n",
            "1 Objective Declarations\n",
            "    obj : Size=1, Index=None, Active=True\n",
            "        Key  : Active : Sense    : Expression\n",
            "        None :   True : minimize : 2*x[0] - 2*x[1] + 2*x[2]\n",
            "\n",
            "1 Constraint Declarations\n",
            "    constraints : Size=4, Index=constraints_index, Active=True\n",
            "        Key : Lower : Body                    : Upper : Active\n",
            "          1 :  -Inf :  2*x[0] - x[1] + 2*x[2] :   6.0 :   True\n",
            "          2 :  -Inf :  x[0] - 4*x[1] + 2*x[2] : -15.0 :   True\n",
            "          3 :  -Inf : -2*x[0] + 2*x[1] + x[2] :  -8.0 :   True\n",
            "          4 :  -Inf :           - x[1] + x[2] :  16.0 :   True\n",
            "\n",
            "5 Declarations: x_index x constraints_index constraints obj\n"
          ]
        }
      ]
    },
    {
      "cell_type": "code",
      "source": [
        "result = cbcSolver.solve(model)\n",
        "\n",
        "print(result)\n",
        "print('Solver status: ', result.solver.status)\n",
        "print('Solver termination condition: ', result.solver.termination_condition)"
      ],
      "metadata": {
        "colab": {
          "base_uri": "https://localhost:8080/"
        },
        "id": "LAGIeC0bQGRF",
        "outputId": "e3b30fd6-02eb-43aa-c8ff-b3b4c1bf740a"
      },
      "execution_count": null,
      "outputs": [
        {
          "output_type": "stream",
          "name": "stderr",
          "text": [
            "WARNING:pyomo.core:Loading a SolverResults object with a warning status into model.name=\"unknown\";\n",
            "  - termination condition: infeasible\n",
            "  - message from solver: <undefined>\n"
          ]
        },
        {
          "output_type": "stream",
          "name": "stdout",
          "text": [
            "\n",
            "Problem: \n",
            "- Name: unknown\n",
            "  Lower bound: None\n",
            "  Upper bound: 11.0\n",
            "  Number of objectives: 1\n",
            "  Number of constraints: 5\n",
            "  Number of variables: 4\n",
            "  Number of nonzeros: 0\n",
            "  Sense: minimize\n",
            "Solver: \n",
            "- Status: warning\n",
            "  User time: -1.0\n",
            "  System time: 0.0\n",
            "  Wallclock time: 0.0\n",
            "  Termination condition: infeasible\n",
            "  Termination message: Model was proven to be infeasible.\n",
            "  Statistics: \n",
            "    Branch and bound: \n",
            "      Number of bounded subproblems: 0\n",
            "      Number of created subproblems: 0\n",
            "    Black box: \n",
            "      Number of iterations: 0\n",
            "  Error rc: 0\n",
            "  Time: 0.027406692504882812\n",
            "\n",
            "Solver status:  warning\n",
            "Solver termination condition:  infeasible\n"
          ]
        }
      ]
    },
    {
      "cell_type": "markdown",
      "source": [
        "$\\text{Here the messages displayed are meaningful. The solver status is displaying WARNING which may be because of the termination condition that is coming out to be INFEASIBLE.} \\\\ \\text{Here also the problem remains to be infeasible.} \\\\ \\text{This is because we have only restricted the feasible region and when there is no solution in the bigger region there is no chance that the solution will be in a smaller one.} \\\\ \\text{Instead of adding a constraint, deactivating/relaxing a constraint might have helped.}$"
      ],
      "metadata": {
        "id": "p-T2CoQKkbas"
      }
    },
    {
      "cell_type": "markdown",
      "source": [
        "$\\large{\\textbf{Answer 2.d :}} \\\\ \\text{Deactivating the objective function and adding a new objective function and also deactivating constraint 1 and adding a new constraint.} \\\\ \\text{New objective function: min } x_1 + 2x_2 + 3x_3 \\\\ \\text{New constraint: } x_2 + x_3 \\geq 25$"
      ],
      "metadata": {
        "id": "tTKOhO6jQo81"
      }
    },
    {
      "cell_type": "code",
      "source": [
        "model.constraints[4].deactivate()\n",
        "\n",
        "new_obj_coef = np.array([1,2,3])\n",
        "next_cons_coef = np.array([0,1,1])\n",
        "next_cons_rhs = 25"
      ],
      "metadata": {
        "id": "r14OwKE3QPoe"
      },
      "execution_count": null,
      "outputs": []
    },
    {
      "cell_type": "code",
      "source": [
        "model.new_obj = Objective(expr = summation(new_obj_coef,model.x), sense = minimize)\n",
        "model.constraints.add(summation(next_cons_coef,model.x) >= next_cons_rhs)\n",
        "\n",
        "model.obj.deactivate()\n",
        "model.constraints[1].deactivate()\n",
        "\n",
        "model.pprint()"
      ],
      "metadata": {
        "colab": {
          "base_uri": "https://localhost:8080/"
        },
        "id": "f_KUl7KYRiG1",
        "outputId": "23bf8bdf-b1cd-4cd0-fd10-06764b737de2"
      },
      "execution_count": null,
      "outputs": [
        {
          "output_type": "stream",
          "name": "stdout",
          "text": [
            "2 Set Declarations\n",
            "    constraints_index : Size=1, Index=None, Ordered=Insertion\n",
            "        Key  : Dimen : Domain : Size : Members\n",
            "        None :     1 :    Any :    5 : {1, 2, 3, 4, 5}\n",
            "    x_index : Size=1, Index=None, Ordered=False\n",
            "        Key  : Dimen : Domain : Size : Members\n",
            "        None :     1 :    Any :    3 : {0, 1, 2}\n",
            "\n",
            "1 Var Declarations\n",
            "    x : Size=3, Index=x_index\n",
            "        Key : Lower : Value : Upper : Fixed : Stale : Domain\n",
            "          0 :     2 :  None :  None : False :  True :  Reals\n",
            "          1 :     1 :  None :  None : False :  True :  Reals\n",
            "          2 :     1 :  None :  None : False :  True :  Reals\n",
            "\n",
            "2 Objective Declarations\n",
            "    new_obj : Size=1, Index=None, Active=True\n",
            "        Key  : Active : Sense    : Expression\n",
            "        None :   True : minimize : x[0] + 2*x[1] + 3*x[2]\n",
            "    obj : Size=1, Index=None, Active=False\n",
            "        Key  : Active : Sense    : Expression\n",
            "        None :  False : minimize : 2*x[0] - 2*x[1] + 2*x[2]\n",
            "\n",
            "1 Constraint Declarations\n",
            "    constraints : Size=5, Index=constraints_index, Active=True\n",
            "        Key : Lower : Body                    : Upper : Active\n",
            "          1 :  -Inf :  2*x[0] - x[1] + 2*x[2] :   6.0 :  False\n",
            "          2 :  -Inf :  x[0] - 4*x[1] + 2*x[2] : -15.0 :   True\n",
            "          3 :  -Inf : -2*x[0] + 2*x[1] + x[2] :  -8.0 :   True\n",
            "          4 :  -Inf :           - x[1] + x[2] :  16.0 :  False\n",
            "          5 :  25.0 :             x[1] + x[2] :  +Inf :   True\n",
            "\n",
            "6 Declarations: x_index x constraints_index constraints obj new_obj\n"
          ]
        }
      ]
    },
    {
      "cell_type": "code",
      "source": [
        "result = cbcSolver.solve(model)\n",
        "\n",
        "print(result)\n",
        "print('Solver status: ', result.solver.status)\n",
        "print('Solver termination condition: ', result.solver.termination_condition)"
      ],
      "metadata": {
        "colab": {
          "base_uri": "https://localhost:8080/"
        },
        "id": "lDgQaCA1SSpC",
        "outputId": "32258305-cb3a-45ae-bc48-388bae155ebb"
      },
      "execution_count": null,
      "outputs": [
        {
          "output_type": "stream",
          "name": "stdout",
          "text": [
            "\n",
            "Problem: \n",
            "- Name: unknown\n",
            "  Lower bound: 79.5\n",
            "  Upper bound: 79.5\n",
            "  Number of objectives: 1\n",
            "  Number of constraints: 4\n",
            "  Number of variables: 4\n",
            "  Number of nonzeros: 3\n",
            "  Sense: minimize\n",
            "Solver: \n",
            "- Status: ok\n",
            "  User time: -1.0\n",
            "  System time: 0.0\n",
            "  Wallclock time: 0.0\n",
            "  Termination condition: optimal\n",
            "  Termination message: Model was solved to optimality (subject to tolerances), and an optimal solution is available.\n",
            "  Statistics: \n",
            "    Branch and bound: \n",
            "      Number of bounded subproblems: None\n",
            "      Number of created subproblems: None\n",
            "    Black box: \n",
            "      Number of iterations: 2\n",
            "  Error rc: 0\n",
            "  Time: 0.020871639251708984\n",
            "Solution: \n",
            "- number of solutions: 0\n",
            "  number of solutions displayed: 0\n",
            "\n",
            "Solver status:  ok\n",
            "Solver termination condition:  optimal\n"
          ]
        }
      ]
    },
    {
      "cell_type": "markdown",
      "source": [
        "$\\text{Here the messages displayed are meaningful. The solver status is displaying OK and the termination condition is coming out to be OPTIMAL.} \\\\ \\text{The possible reason that the problem is solved now might be the the first constraint.} \\\\ \\text{It may be the reason that the problem did not has a solution.}$"
      ],
      "metadata": {
        "id": "5ewzxmaRlbP6"
      }
    },
    {
      "cell_type": "code",
      "source": [
        "print('\\nObjective = ', model.new_obj())\n",
        "\n",
        "print('\\nDecision Variables')\n",
        "for i in col_indices:\n",
        "  print('x[',i,'] = ', model.x[i].value)\n",
        "print('\\nConstraints')\n",
        "model.constraints.display()"
      ],
      "metadata": {
        "colab": {
          "base_uri": "https://localhost:8080/"
        },
        "id": "lTnSMNoNSl-6",
        "outputId": "508b0027-014b-4157-9139-27402be79737"
      },
      "execution_count": null,
      "outputs": [
        {
          "output_type": "stream",
          "name": "stdout",
          "text": [
            "\n",
            "Objective =  79.5\n",
            "\n",
            "Decision Variables\n",
            "x[ 0 ] =  28.5\n",
            "x[ 1 ] =  24.0\n",
            "x[ 2 ] =  1.0\n",
            "\n",
            "Constraints\n",
            "constraints : Size=5\n",
            "    Key : Lower : Body  : Upper\n",
            "      2 :  None : -65.5 : -15.0\n",
            "      3 :  None :  -8.0 :  -8.0\n",
            "      5 :  25.0 :  25.0 :  None\n"
          ]
        }
      ]
    },
    {
      "cell_type": "markdown",
      "source": [
        "$\\textbf{Objective function value} = 79.5 \\\\ \\textbf{Value of decision variables:} \\\\ x_1 = 28.5 \\\\ x_2 = 24 \\\\ x_3 = 1 \\\\ \\textbf{Activity of constraints:} \\\\ \\textbf{Constraint 2: } \\text{It is inactive as its value is -65.5 which is strictly less than the RHS}= -15. \\\\ \\textbf{Constraint 3: } \\text{It is active as its value is -8 which is exactly equal to the RHS.} \\\\ \\textbf{Constraint 5: } \\text{It is active as its value is -25 which is exactly equal to the RHS.}$"
      ],
      "metadata": {
        "id": "DHQ-SQKtTzma"
      }
    },
    {
      "cell_type": "code",
      "source": [
        ""
      ],
      "metadata": {
        "id": "MCqLGSIPTsZn"
      },
      "execution_count": null,
      "outputs": []
    }
  ]
}