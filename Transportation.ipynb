{
  "nbformat": 4,
  "nbformat_minor": 0,
  "metadata": {
    "colab": {
      "provenance": []
    },
    "kernelspec": {
      "name": "python3",
      "display_name": "Python 3"
    },
    "language_info": {
      "name": "python"
    }
  },
  "cells": [
    {
      "cell_type": "markdown",
      "source": [
        "$\\large{\\textbf{1.1 Formulation:}} \\\\ \\text{Let the set of warehouses be W={Ahmedabad, Bengaluru, Chennai, Delhi, Kolkata, Lucknow, Mumbai, Hyderabad} and }\\\\ \\text{the set of Markets be M={Hassan, Jodhpur, Trichy, Simla, Vijayawada, Dibrugarh, Raipur, Agartala}.} \\\\ \\text{Let } c_{w,m} \\text{ be the cost of transporting 1 load truck of EVs from warehouse 'w' to market 'm'.} \\\\ \\text{Let } x_{w,m} \\text{ be the number of load truck of EVs that moves from warehouse 'w' to market 'm'.} \\\\ \\text{The set consisting of the available stocks for the diff warehouses S = {350,185,305,180,205,175,325,370} and } S_w \\text{ is the available stock at the wth warehouse.} \\\\ \\text{The set consisting of the demands at the various markets D = {205,300,425,270,375,225,185,110} and } D_m \\text{ is the demand of the mth market.} \\\\ min \\ \\sum_{(w,m) \\in (W,M)} c_{w,m} x_{w,m} \\\\ s.t. \\ \\sum_{m \\in M} x_{w,m} \\leq S_w \\  ∀ \\ w \\in W \\\\ \\  \\sum_{w \\in W} x_{w,m} = D_m \\  ∀ \\ m \\in M \\\\ x_{w,m} \\in \\mathbf{Z}^+\\ \\ \\forall \\  (w,m) \\in (W,M)$"
      ],
      "metadata": {
        "id": "SJyIDQ02YnYx"
      }
    },
    {
      "cell_type": "code",
      "source": [
        "!pip install -q pyomo"
      ],
      "metadata": {
        "colab": {
          "base_uri": "https://localhost:8080/"
        },
        "id": "C8uCW3vMYnnQ",
        "outputId": "c5eb1ec9-90b4-40e0-8002-dc575442071e"
      },
      "execution_count": 1,
      "outputs": [
        {
          "output_type": "stream",
          "name": "stdout",
          "text": [
            "\u001b[K     |████████████████████████████████| 9.7 MB 4.2 MB/s \n",
            "\u001b[K     |████████████████████████████████| 49 kB 5.8 MB/s \n",
            "\u001b[?25h"
          ]
        }
      ]
    },
    {
      "cell_type": "code",
      "execution_count": 2,
      "metadata": {
        "id": "dT5y-A2zLQjD"
      },
      "outputs": [],
      "source": [
        "from pyomo.environ import *"
      ]
    },
    {
      "cell_type": "code",
      "source": [
        "import pandas as pd"
      ],
      "metadata": {
        "id": "H8X5tLCpYtuc"
      },
      "execution_count": 3,
      "outputs": []
    },
    {
      "cell_type": "code",
      "source": [
        "data_csvfile = pd.read_csv('lab6_ex1.csv')"
      ],
      "metadata": {
        "id": "mLdQjtrwZEHX"
      },
      "execution_count": 4,
      "outputs": []
    },
    {
      "cell_type": "code",
      "source": [
        "data_csvfile"
      ],
      "metadata": {
        "colab": {
          "base_uri": "https://localhost:8080/",
          "height": 332
        },
        "id": "4RerBLxzZaEL",
        "outputId": "09fec420-ad0f-4813-e317-c36a637c8106"
      },
      "execution_count": 5,
      "outputs": [
        {
          "output_type": "execute_result",
          "data": {
            "text/plain": [
              "  WH_MARKETS  Hassan  Jodhpur  Trichy  Simla  Vijayawada  Dibrugarh  Raipur  \\\n",
              "0  Ahmedabad     827      817    1470   2272        1615       3143    1264   \n",
              "1  Bengaluru     559     1832     751   3772         637       3773    1856   \n",
              "2    Chennai    1109     2443     577   3865         798       3521    1984   \n",
              "3      Delhi    2943     1471    4676   1337        2702       2741    2482   \n",
              "4    Kolkata    3742     3089    2931   3199        2226       1739    1691   \n",
              "5    Lucknow    2353     1160    3295    368        2369       2365    1293   \n",
              "6     Mumbai    1356     1617    2045   2941        2334       4151    1937   \n",
              "7  Hyderabad     195     1862    1331   2921         402       2825     563   \n",
              "8     Demand     205      300     425    270         375        225     185   \n",
              "\n",
              "   Agartala  Avail.Stock  \n",
              "0      4465          350  \n",
              "1      5459          185  \n",
              "2      5303          305  \n",
              "3      4148          180  \n",
              "4      2128          205  \n",
              "5      3642          175  \n",
              "6      4287          325  \n",
              "7      4441          370  \n",
              "8       110         2095  "
            ],
            "text/html": [
              "\n",
              "  <div id=\"df-428d42d4-5c11-4605-b54b-20a75656265f\">\n",
              "    <div class=\"colab-df-container\">\n",
              "      <div>\n",
              "<style scoped>\n",
              "    .dataframe tbody tr th:only-of-type {\n",
              "        vertical-align: middle;\n",
              "    }\n",
              "\n",
              "    .dataframe tbody tr th {\n",
              "        vertical-align: top;\n",
              "    }\n",
              "\n",
              "    .dataframe thead th {\n",
              "        text-align: right;\n",
              "    }\n",
              "</style>\n",
              "<table border=\"1\" class=\"dataframe\">\n",
              "  <thead>\n",
              "    <tr style=\"text-align: right;\">\n",
              "      <th></th>\n",
              "      <th>WH_MARKETS</th>\n",
              "      <th>Hassan</th>\n",
              "      <th>Jodhpur</th>\n",
              "      <th>Trichy</th>\n",
              "      <th>Simla</th>\n",
              "      <th>Vijayawada</th>\n",
              "      <th>Dibrugarh</th>\n",
              "      <th>Raipur</th>\n",
              "      <th>Agartala</th>\n",
              "      <th>Avail.Stock</th>\n",
              "    </tr>\n",
              "  </thead>\n",
              "  <tbody>\n",
              "    <tr>\n",
              "      <th>0</th>\n",
              "      <td>Ahmedabad</td>\n",
              "      <td>827</td>\n",
              "      <td>817</td>\n",
              "      <td>1470</td>\n",
              "      <td>2272</td>\n",
              "      <td>1615</td>\n",
              "      <td>3143</td>\n",
              "      <td>1264</td>\n",
              "      <td>4465</td>\n",
              "      <td>350</td>\n",
              "    </tr>\n",
              "    <tr>\n",
              "      <th>1</th>\n",
              "      <td>Bengaluru</td>\n",
              "      <td>559</td>\n",
              "      <td>1832</td>\n",
              "      <td>751</td>\n",
              "      <td>3772</td>\n",
              "      <td>637</td>\n",
              "      <td>3773</td>\n",
              "      <td>1856</td>\n",
              "      <td>5459</td>\n",
              "      <td>185</td>\n",
              "    </tr>\n",
              "    <tr>\n",
              "      <th>2</th>\n",
              "      <td>Chennai</td>\n",
              "      <td>1109</td>\n",
              "      <td>2443</td>\n",
              "      <td>577</td>\n",
              "      <td>3865</td>\n",
              "      <td>798</td>\n",
              "      <td>3521</td>\n",
              "      <td>1984</td>\n",
              "      <td>5303</td>\n",
              "      <td>305</td>\n",
              "    </tr>\n",
              "    <tr>\n",
              "      <th>3</th>\n",
              "      <td>Delhi</td>\n",
              "      <td>2943</td>\n",
              "      <td>1471</td>\n",
              "      <td>4676</td>\n",
              "      <td>1337</td>\n",
              "      <td>2702</td>\n",
              "      <td>2741</td>\n",
              "      <td>2482</td>\n",
              "      <td>4148</td>\n",
              "      <td>180</td>\n",
              "    </tr>\n",
              "    <tr>\n",
              "      <th>4</th>\n",
              "      <td>Kolkata</td>\n",
              "      <td>3742</td>\n",
              "      <td>3089</td>\n",
              "      <td>2931</td>\n",
              "      <td>3199</td>\n",
              "      <td>2226</td>\n",
              "      <td>1739</td>\n",
              "      <td>1691</td>\n",
              "      <td>2128</td>\n",
              "      <td>205</td>\n",
              "    </tr>\n",
              "    <tr>\n",
              "      <th>5</th>\n",
              "      <td>Lucknow</td>\n",
              "      <td>2353</td>\n",
              "      <td>1160</td>\n",
              "      <td>3295</td>\n",
              "      <td>368</td>\n",
              "      <td>2369</td>\n",
              "      <td>2365</td>\n",
              "      <td>1293</td>\n",
              "      <td>3642</td>\n",
              "      <td>175</td>\n",
              "    </tr>\n",
              "    <tr>\n",
              "      <th>6</th>\n",
              "      <td>Mumbai</td>\n",
              "      <td>1356</td>\n",
              "      <td>1617</td>\n",
              "      <td>2045</td>\n",
              "      <td>2941</td>\n",
              "      <td>2334</td>\n",
              "      <td>4151</td>\n",
              "      <td>1937</td>\n",
              "      <td>4287</td>\n",
              "      <td>325</td>\n",
              "    </tr>\n",
              "    <tr>\n",
              "      <th>7</th>\n",
              "      <td>Hyderabad</td>\n",
              "      <td>195</td>\n",
              "      <td>1862</td>\n",
              "      <td>1331</td>\n",
              "      <td>2921</td>\n",
              "      <td>402</td>\n",
              "      <td>2825</td>\n",
              "      <td>563</td>\n",
              "      <td>4441</td>\n",
              "      <td>370</td>\n",
              "    </tr>\n",
              "    <tr>\n",
              "      <th>8</th>\n",
              "      <td>Demand</td>\n",
              "      <td>205</td>\n",
              "      <td>300</td>\n",
              "      <td>425</td>\n",
              "      <td>270</td>\n",
              "      <td>375</td>\n",
              "      <td>225</td>\n",
              "      <td>185</td>\n",
              "      <td>110</td>\n",
              "      <td>2095</td>\n",
              "    </tr>\n",
              "  </tbody>\n",
              "</table>\n",
              "</div>\n",
              "      <button class=\"colab-df-convert\" onclick=\"convertToInteractive('df-428d42d4-5c11-4605-b54b-20a75656265f')\"\n",
              "              title=\"Convert this dataframe to an interactive table.\"\n",
              "              style=\"display:none;\">\n",
              "        \n",
              "  <svg xmlns=\"http://www.w3.org/2000/svg\" height=\"24px\"viewBox=\"0 0 24 24\"\n",
              "       width=\"24px\">\n",
              "    <path d=\"M0 0h24v24H0V0z\" fill=\"none\"/>\n",
              "    <path d=\"M18.56 5.44l.94 2.06.94-2.06 2.06-.94-2.06-.94-.94-2.06-.94 2.06-2.06.94zm-11 1L8.5 8.5l.94-2.06 2.06-.94-2.06-.94L8.5 2.5l-.94 2.06-2.06.94zm10 10l.94 2.06.94-2.06 2.06-.94-2.06-.94-.94-2.06-.94 2.06-2.06.94z\"/><path d=\"M17.41 7.96l-1.37-1.37c-.4-.4-.92-.59-1.43-.59-.52 0-1.04.2-1.43.59L10.3 9.45l-7.72 7.72c-.78.78-.78 2.05 0 2.83L4 21.41c.39.39.9.59 1.41.59.51 0 1.02-.2 1.41-.59l7.78-7.78 2.81-2.81c.8-.78.8-2.07 0-2.86zM5.41 20L4 18.59l7.72-7.72 1.47 1.35L5.41 20z\"/>\n",
              "  </svg>\n",
              "      </button>\n",
              "      \n",
              "  <style>\n",
              "    .colab-df-container {\n",
              "      display:flex;\n",
              "      flex-wrap:wrap;\n",
              "      gap: 12px;\n",
              "    }\n",
              "\n",
              "    .colab-df-convert {\n",
              "      background-color: #E8F0FE;\n",
              "      border: none;\n",
              "      border-radius: 50%;\n",
              "      cursor: pointer;\n",
              "      display: none;\n",
              "      fill: #1967D2;\n",
              "      height: 32px;\n",
              "      padding: 0 0 0 0;\n",
              "      width: 32px;\n",
              "    }\n",
              "\n",
              "    .colab-df-convert:hover {\n",
              "      background-color: #E2EBFA;\n",
              "      box-shadow: 0px 1px 2px rgba(60, 64, 67, 0.3), 0px 1px 3px 1px rgba(60, 64, 67, 0.15);\n",
              "      fill: #174EA6;\n",
              "    }\n",
              "\n",
              "    [theme=dark] .colab-df-convert {\n",
              "      background-color: #3B4455;\n",
              "      fill: #D2E3FC;\n",
              "    }\n",
              "\n",
              "    [theme=dark] .colab-df-convert:hover {\n",
              "      background-color: #434B5C;\n",
              "      box-shadow: 0px 1px 3px 1px rgba(0, 0, 0, 0.15);\n",
              "      filter: drop-shadow(0px 1px 2px rgba(0, 0, 0, 0.3));\n",
              "      fill: #FFFFFF;\n",
              "    }\n",
              "  </style>\n",
              "\n",
              "      <script>\n",
              "        const buttonEl =\n",
              "          document.querySelector('#df-428d42d4-5c11-4605-b54b-20a75656265f button.colab-df-convert');\n",
              "        buttonEl.style.display =\n",
              "          google.colab.kernel.accessAllowed ? 'block' : 'none';\n",
              "\n",
              "        async function convertToInteractive(key) {\n",
              "          const element = document.querySelector('#df-428d42d4-5c11-4605-b54b-20a75656265f');\n",
              "          const dataTable =\n",
              "            await google.colab.kernel.invokeFunction('convertToInteractive',\n",
              "                                                     [key], {});\n",
              "          if (!dataTable) return;\n",
              "\n",
              "          const docLinkHtml = 'Like what you see? Visit the ' +\n",
              "            '<a target=\"_blank\" href=https://colab.research.google.com/notebooks/data_table.ipynb>data table notebook</a>'\n",
              "            + ' to learn more about interactive tables.';\n",
              "          element.innerHTML = '';\n",
              "          dataTable['output_type'] = 'display_data';\n",
              "          await google.colab.output.renderOutput(dataTable, element);\n",
              "          const docLink = document.createElement('div');\n",
              "          docLink.innerHTML = docLinkHtml;\n",
              "          element.appendChild(docLink);\n",
              "        }\n",
              "      </script>\n",
              "    </div>\n",
              "  </div>\n",
              "  "
            ]
          },
          "metadata": {},
          "execution_count": 5
        }
      ]
    },
    {
      "cell_type": "code",
      "source": [
        "data_csvfile.index"
      ],
      "metadata": {
        "colab": {
          "base_uri": "https://localhost:8080/"
        },
        "id": "HU24WlnzZcBt",
        "outputId": "c06038dd-3489-40b9-c549-f648940fd01f"
      },
      "execution_count": 6,
      "outputs": [
        {
          "output_type": "execute_result",
          "data": {
            "text/plain": [
              "RangeIndex(start=0, stop=9, step=1)"
            ]
          },
          "metadata": {},
          "execution_count": 6
        }
      ]
    },
    {
      "cell_type": "code",
      "source": [
        "data_csvfile.columns"
      ],
      "metadata": {
        "colab": {
          "base_uri": "https://localhost:8080/"
        },
        "id": "qKQHX-xQZ4NG",
        "outputId": "78e605ff-8f10-4073-94ca-94f148aeb021"
      },
      "execution_count": 7,
      "outputs": [
        {
          "output_type": "execute_result",
          "data": {
            "text/plain": [
              "Index(['WH_MARKETS', 'Hassan', 'Jodhpur', 'Trichy', 'Simla', 'Vijayawada',\n",
              "       'Dibrugarh', 'Raipur', 'Agartala', 'Avail.Stock'],\n",
              "      dtype='object')"
            ]
          },
          "metadata": {},
          "execution_count": 7
        }
      ]
    },
    {
      "cell_type": "code",
      "source": [
        "model_ex1 = ConcreteModel()"
      ],
      "metadata": {
        "id": "xmX4lIp6aDUd"
      },
      "execution_count": 8,
      "outputs": []
    },
    {
      "cell_type": "code",
      "source": [
        "#No of source locations\n",
        "M = len(data_csvfile.index)-1\n",
        "\n",
        "#No of destinations\n",
        "N = len(data_csvfile.columns)-2\n",
        "\n",
        "print('No of sources = {}'.format(M))\n",
        "print('No of destinations = {}'.format(N))"
      ],
      "metadata": {
        "colab": {
          "base_uri": "https://localhost:8080/"
        },
        "id": "tjwOMrK8aYO2",
        "outputId": "78bf9260-9579-4c4d-cf9b-33a955a13255"
      },
      "execution_count": 10,
      "outputs": [
        {
          "output_type": "stream",
          "name": "stdout",
          "text": [
            "No of sources = 8\n",
            "No of destinations = 8\n"
          ]
        }
      ]
    },
    {
      "cell_type": "code",
      "source": [
        "row_indices = range(M)\n",
        "col_indices = range(N)"
      ],
      "metadata": {
        "id": "RvStSQyxa-aS"
      },
      "execution_count": 11,
      "outputs": []
    },
    {
      "cell_type": "code",
      "source": [
        "model_ex1.x = Var(row_indices, col_indices, domain = NonNegativeIntegers)"
      ],
      "metadata": {
        "id": "ACCoQkWGbfpd"
      },
      "execution_count": 12,
      "outputs": []
    },
    {
      "cell_type": "code",
      "source": [
        "model_ex1.obj = Objective(expr = sum(data_csvfile.iloc[i,j+1]*model_ex1.x[i,j] for i in row_indices for j in col_indices), sense = minimize)"
      ],
      "metadata": {
        "id": "pjNLKUGHbvZA"
      },
      "execution_count": 14,
      "outputs": []
    },
    {
      "cell_type": "code",
      "source": [
        "model_ex1.const = ConstraintList()"
      ],
      "metadata": {
        "id": "fDlf21tScKm8"
      },
      "execution_count": 15,
      "outputs": []
    },
    {
      "cell_type": "code",
      "source": [
        "#Supply COnstraints:\n",
        "for i in row_indices:\n",
        "  model_ex1.const.add(expr = sum(model_ex1.x[i,j] for j in col_indices) <= data_csvfile.iloc[i,-1])\n",
        "\n",
        "\n",
        "#Demand Constraits:\n",
        "for j in col_indices:\n",
        "  model_ex1.const.add(expr = sum(model_ex1.x[i,j] for i in row_indices) == data_csvfile.iloc[-1,j+1])"
      ],
      "metadata": {
        "id": "VXaxbKlkcaom"
      },
      "execution_count": 16,
      "outputs": []
    },
    {
      "cell_type": "code",
      "source": [
        "model_ex1.pprint()"
      ],
      "metadata": {
        "colab": {
          "base_uri": "https://localhost:8080/"
        },
        "id": "N1FS-Pzgdg1Q",
        "outputId": "e33f2cc7-d50e-45b5-d3e8-1d1afeb57c62"
      },
      "execution_count": 17,
      "outputs": [
        {
          "output_type": "stream",
          "name": "stdout",
          "text": [
            "4 Set Declarations\n",
            "    const_index : Size=1, Index=None, Ordered=Insertion\n",
            "        Key  : Dimen : Domain : Size : Members\n",
            "        None :     1 :    Any :   16 : {1, 2, 3, 4, 5, 6, 7, 8, 9, 10, 11, 12, 13, 14, 15, 16}\n",
            "    x_index : Size=1, Index=None, Ordered=True\n",
            "        Key  : Dimen : Domain              : Size : Members\n",
            "        None :     2 : x_index_0*x_index_1 :   64 : {(0, 0), (0, 1), (0, 2), (0, 3), (0, 4), (0, 5), (0, 6), (0, 7), (1, 0), (1, 1), (1, 2), (1, 3), (1, 4), (1, 5), (1, 6), (1, 7), (2, 0), (2, 1), (2, 2), (2, 3), (2, 4), (2, 5), (2, 6), (2, 7), (3, 0), (3, 1), (3, 2), (3, 3), (3, 4), (3, 5), (3, 6), (3, 7), (4, 0), (4, 1), (4, 2), (4, 3), (4, 4), (4, 5), (4, 6), (4, 7), (5, 0), (5, 1), (5, 2), (5, 3), (5, 4), (5, 5), (5, 6), (5, 7), (6, 0), (6, 1), (6, 2), (6, 3), (6, 4), (6, 5), (6, 6), (6, 7), (7, 0), (7, 1), (7, 2), (7, 3), (7, 4), (7, 5), (7, 6), (7, 7)}\n",
            "    x_index_0 : Size=1, Index=None, Ordered=Insertion\n",
            "        Key  : Dimen : Domain : Size : Members\n",
            "        None :     1 :    Any :    8 : {0, 1, 2, 3, 4, 5, 6, 7}\n",
            "    x_index_1 : Size=1, Index=None, Ordered=Insertion\n",
            "        Key  : Dimen : Domain : Size : Members\n",
            "        None :     1 :    Any :    8 : {0, 1, 2, 3, 4, 5, 6, 7}\n",
            "\n",
            "1 Var Declarations\n",
            "    x : Size=64, Index=x_index\n",
            "        Key    : Lower : Value : Upper : Fixed : Stale : Domain\n",
            "        (0, 0) :     0 :  None :  None : False :  True : NonNegativeIntegers\n",
            "        (0, 1) :     0 :  None :  None : False :  True : NonNegativeIntegers\n",
            "        (0, 2) :     0 :  None :  None : False :  True : NonNegativeIntegers\n",
            "        (0, 3) :     0 :  None :  None : False :  True : NonNegativeIntegers\n",
            "        (0, 4) :     0 :  None :  None : False :  True : NonNegativeIntegers\n",
            "        (0, 5) :     0 :  None :  None : False :  True : NonNegativeIntegers\n",
            "        (0, 6) :     0 :  None :  None : False :  True : NonNegativeIntegers\n",
            "        (0, 7) :     0 :  None :  None : False :  True : NonNegativeIntegers\n",
            "        (1, 0) :     0 :  None :  None : False :  True : NonNegativeIntegers\n",
            "        (1, 1) :     0 :  None :  None : False :  True : NonNegativeIntegers\n",
            "        (1, 2) :     0 :  None :  None : False :  True : NonNegativeIntegers\n",
            "        (1, 3) :     0 :  None :  None : False :  True : NonNegativeIntegers\n",
            "        (1, 4) :     0 :  None :  None : False :  True : NonNegativeIntegers\n",
            "        (1, 5) :     0 :  None :  None : False :  True : NonNegativeIntegers\n",
            "        (1, 6) :     0 :  None :  None : False :  True : NonNegativeIntegers\n",
            "        (1, 7) :     0 :  None :  None : False :  True : NonNegativeIntegers\n",
            "        (2, 0) :     0 :  None :  None : False :  True : NonNegativeIntegers\n",
            "        (2, 1) :     0 :  None :  None : False :  True : NonNegativeIntegers\n",
            "        (2, 2) :     0 :  None :  None : False :  True : NonNegativeIntegers\n",
            "        (2, 3) :     0 :  None :  None : False :  True : NonNegativeIntegers\n",
            "        (2, 4) :     0 :  None :  None : False :  True : NonNegativeIntegers\n",
            "        (2, 5) :     0 :  None :  None : False :  True : NonNegativeIntegers\n",
            "        (2, 6) :     0 :  None :  None : False :  True : NonNegativeIntegers\n",
            "        (2, 7) :     0 :  None :  None : False :  True : NonNegativeIntegers\n",
            "        (3, 0) :     0 :  None :  None : False :  True : NonNegativeIntegers\n",
            "        (3, 1) :     0 :  None :  None : False :  True : NonNegativeIntegers\n",
            "        (3, 2) :     0 :  None :  None : False :  True : NonNegativeIntegers\n",
            "        (3, 3) :     0 :  None :  None : False :  True : NonNegativeIntegers\n",
            "        (3, 4) :     0 :  None :  None : False :  True : NonNegativeIntegers\n",
            "        (3, 5) :     0 :  None :  None : False :  True : NonNegativeIntegers\n",
            "        (3, 6) :     0 :  None :  None : False :  True : NonNegativeIntegers\n",
            "        (3, 7) :     0 :  None :  None : False :  True : NonNegativeIntegers\n",
            "        (4, 0) :     0 :  None :  None : False :  True : NonNegativeIntegers\n",
            "        (4, 1) :     0 :  None :  None : False :  True : NonNegativeIntegers\n",
            "        (4, 2) :     0 :  None :  None : False :  True : NonNegativeIntegers\n",
            "        (4, 3) :     0 :  None :  None : False :  True : NonNegativeIntegers\n",
            "        (4, 4) :     0 :  None :  None : False :  True : NonNegativeIntegers\n",
            "        (4, 5) :     0 :  None :  None : False :  True : NonNegativeIntegers\n",
            "        (4, 6) :     0 :  None :  None : False :  True : NonNegativeIntegers\n",
            "        (4, 7) :     0 :  None :  None : False :  True : NonNegativeIntegers\n",
            "        (5, 0) :     0 :  None :  None : False :  True : NonNegativeIntegers\n",
            "        (5, 1) :     0 :  None :  None : False :  True : NonNegativeIntegers\n",
            "        (5, 2) :     0 :  None :  None : False :  True : NonNegativeIntegers\n",
            "        (5, 3) :     0 :  None :  None : False :  True : NonNegativeIntegers\n",
            "        (5, 4) :     0 :  None :  None : False :  True : NonNegativeIntegers\n",
            "        (5, 5) :     0 :  None :  None : False :  True : NonNegativeIntegers\n",
            "        (5, 6) :     0 :  None :  None : False :  True : NonNegativeIntegers\n",
            "        (5, 7) :     0 :  None :  None : False :  True : NonNegativeIntegers\n",
            "        (6, 0) :     0 :  None :  None : False :  True : NonNegativeIntegers\n",
            "        (6, 1) :     0 :  None :  None : False :  True : NonNegativeIntegers\n",
            "        (6, 2) :     0 :  None :  None : False :  True : NonNegativeIntegers\n",
            "        (6, 3) :     0 :  None :  None : False :  True : NonNegativeIntegers\n",
            "        (6, 4) :     0 :  None :  None : False :  True : NonNegativeIntegers\n",
            "        (6, 5) :     0 :  None :  None : False :  True : NonNegativeIntegers\n",
            "        (6, 6) :     0 :  None :  None : False :  True : NonNegativeIntegers\n",
            "        (6, 7) :     0 :  None :  None : False :  True : NonNegativeIntegers\n",
            "        (7, 0) :     0 :  None :  None : False :  True : NonNegativeIntegers\n",
            "        (7, 1) :     0 :  None :  None : False :  True : NonNegativeIntegers\n",
            "        (7, 2) :     0 :  None :  None : False :  True : NonNegativeIntegers\n",
            "        (7, 3) :     0 :  None :  None : False :  True : NonNegativeIntegers\n",
            "        (7, 4) :     0 :  None :  None : False :  True : NonNegativeIntegers\n",
            "        (7, 5) :     0 :  None :  None : False :  True : NonNegativeIntegers\n",
            "        (7, 6) :     0 :  None :  None : False :  True : NonNegativeIntegers\n",
            "        (7, 7) :     0 :  None :  None : False :  True : NonNegativeIntegers\n",
            "\n",
            "1 Objective Declarations\n",
            "    obj : Size=1, Index=None, Active=True\n",
            "        Key  : Active : Sense    : Expression\n",
            "        None :   True : minimize : 827*x[0,0] + 817*x[0,1] + 1470*x[0,2] + 2272*x[0,3] + 1615*x[0,4] + 3143*x[0,5] + 1264*x[0,6] + 4465*x[0,7] + 559*x[1,0] + 1832*x[1,1] + 751*x[1,2] + 3772*x[1,3] + 637*x[1,4] + 3773*x[1,5] + 1856*x[1,6] + 5459*x[1,7] + 1109*x[2,0] + 2443*x[2,1] + 577*x[2,2] + 3865*x[2,3] + 798*x[2,4] + 3521*x[2,5] + 1984*x[2,6] + 5303*x[2,7] + 2943*x[3,0] + 1471*x[3,1] + 4676*x[3,2] + 1337*x[3,3] + 2702*x[3,4] + 2741*x[3,5] + 2482*x[3,6] + 4148*x[3,7] + 3742*x[4,0] + 3089*x[4,1] + 2931*x[4,2] + 3199*x[4,3] + 2226*x[4,4] + 1739*x[4,5] + 1691*x[4,6] + 2128*x[4,7] + 2353*x[5,0] + 1160*x[5,1] + 3295*x[5,2] + 368*x[5,3] + 2369*x[5,4] + 2365*x[5,5] + 1293*x[5,6] + 3642*x[5,7] + 1356*x[6,0] + 1617*x[6,1] + 2045*x[6,2] + 2941*x[6,3] + 2334*x[6,4] + 4151*x[6,5] + 1937*x[6,6] + 4287*x[6,7] + 195*x[7,0] + 1862*x[7,1] + 1331*x[7,2] + 2921*x[7,3] + 402*x[7,4] + 2825*x[7,5] + 563*x[7,6] + 4441*x[7,7]\n",
            "\n",
            "1 Constraint Declarations\n",
            "    const : Size=16, Index=const_index, Active=True\n",
            "        Key : Lower : Body                                                                  : Upper : Active\n",
            "          1 :  -Inf : x[0,0] + x[0,1] + x[0,2] + x[0,3] + x[0,4] + x[0,5] + x[0,6] + x[0,7] : 350.0 :   True\n",
            "          2 :  -Inf : x[1,0] + x[1,1] + x[1,2] + x[1,3] + x[1,4] + x[1,5] + x[1,6] + x[1,7] : 185.0 :   True\n",
            "          3 :  -Inf : x[2,0] + x[2,1] + x[2,2] + x[2,3] + x[2,4] + x[2,5] + x[2,6] + x[2,7] : 305.0 :   True\n",
            "          4 :  -Inf : x[3,0] + x[3,1] + x[3,2] + x[3,3] + x[3,4] + x[3,5] + x[3,6] + x[3,7] : 180.0 :   True\n",
            "          5 :  -Inf : x[4,0] + x[4,1] + x[4,2] + x[4,3] + x[4,4] + x[4,5] + x[4,6] + x[4,7] : 205.0 :   True\n",
            "          6 :  -Inf : x[5,0] + x[5,1] + x[5,2] + x[5,3] + x[5,4] + x[5,5] + x[5,6] + x[5,7] : 175.0 :   True\n",
            "          7 :  -Inf : x[6,0] + x[6,1] + x[6,2] + x[6,3] + x[6,4] + x[6,5] + x[6,6] + x[6,7] : 325.0 :   True\n",
            "          8 :  -Inf : x[7,0] + x[7,1] + x[7,2] + x[7,3] + x[7,4] + x[7,5] + x[7,6] + x[7,7] : 370.0 :   True\n",
            "          9 : 205.0 : x[0,0] + x[1,0] + x[2,0] + x[3,0] + x[4,0] + x[5,0] + x[6,0] + x[7,0] : 205.0 :   True\n",
            "         10 : 300.0 : x[0,1] + x[1,1] + x[2,1] + x[3,1] + x[4,1] + x[5,1] + x[6,1] + x[7,1] : 300.0 :   True\n",
            "         11 : 425.0 : x[0,2] + x[1,2] + x[2,2] + x[3,2] + x[4,2] + x[5,2] + x[6,2] + x[7,2] : 425.0 :   True\n",
            "         12 : 270.0 : x[0,3] + x[1,3] + x[2,3] + x[3,3] + x[4,3] + x[5,3] + x[6,3] + x[7,3] : 270.0 :   True\n",
            "         13 : 375.0 : x[0,4] + x[1,4] + x[2,4] + x[3,4] + x[4,4] + x[5,4] + x[6,4] + x[7,4] : 375.0 :   True\n",
            "         14 : 225.0 : x[0,5] + x[1,5] + x[2,5] + x[3,5] + x[4,5] + x[5,5] + x[6,5] + x[7,5] : 225.0 :   True\n",
            "         15 : 185.0 : x[0,6] + x[1,6] + x[2,6] + x[3,6] + x[4,6] + x[5,6] + x[6,6] + x[7,6] : 185.0 :   True\n",
            "         16 : 110.0 : x[0,7] + x[1,7] + x[2,7] + x[3,7] + x[4,7] + x[5,7] + x[6,7] + x[7,7] : 110.0 :   True\n",
            "\n",
            "7 Declarations: x_index_0 x_index_1 x_index x obj const_index const\n"
          ]
        }
      ]
    },
    {
      "cell_type": "code",
      "source": [
        "!apt-get install -y -qq coinor-cbc"
      ],
      "metadata": {
        "colab": {
          "base_uri": "https://localhost:8080/"
        },
        "id": "sXh1Yp3JdjOP",
        "outputId": "e0e748a1-5e7d-4b83-f8ec-7dcf88fd3b42"
      },
      "execution_count": 18,
      "outputs": [
        {
          "output_type": "stream",
          "name": "stdout",
          "text": [
            "Selecting previously unselected package coinor-libcoinutils3v5.\n",
            "(Reading database ... 155569 files and directories currently installed.)\n",
            "Preparing to unpack .../0-coinor-libcoinutils3v5_2.10.14+repack1-1_amd64.deb ...\n",
            "Unpacking coinor-libcoinutils3v5 (2.10.14+repack1-1) ...\n",
            "Selecting previously unselected package coinor-libosi1v5.\n",
            "Preparing to unpack .../1-coinor-libosi1v5_0.107.9+repack1-1_amd64.deb ...\n",
            "Unpacking coinor-libosi1v5 (0.107.9+repack1-1) ...\n",
            "Selecting previously unselected package coinor-libclp1.\n",
            "Preparing to unpack .../2-coinor-libclp1_1.16.11+repack1-1_amd64.deb ...\n",
            "Unpacking coinor-libclp1 (1.16.11+repack1-1) ...\n",
            "Selecting previously unselected package coinor-libcgl1.\n",
            "Preparing to unpack .../3-coinor-libcgl1_0.59.10+repack1-1_amd64.deb ...\n",
            "Unpacking coinor-libcgl1 (0.59.10+repack1-1) ...\n",
            "Selecting previously unselected package coinor-libcbc3.\n",
            "Preparing to unpack .../4-coinor-libcbc3_2.9.9+repack1-1_amd64.deb ...\n",
            "Unpacking coinor-libcbc3 (2.9.9+repack1-1) ...\n",
            "Selecting previously unselected package coinor-cbc.\n",
            "Preparing to unpack .../5-coinor-cbc_2.9.9+repack1-1_amd64.deb ...\n",
            "Unpacking coinor-cbc (2.9.9+repack1-1) ...\n",
            "Setting up coinor-libcoinutils3v5 (2.10.14+repack1-1) ...\n",
            "Setting up coinor-libosi1v5 (0.107.9+repack1-1) ...\n",
            "Setting up coinor-libclp1 (1.16.11+repack1-1) ...\n",
            "Setting up coinor-libcgl1 (0.59.10+repack1-1) ...\n",
            "Setting up coinor-libcbc3 (2.9.9+repack1-1) ...\n",
            "Setting up coinor-cbc (2.9.9+repack1-1) ...\n",
            "Processing triggers for man-db (2.8.3-2ubuntu0.1) ...\n",
            "Processing triggers for libc-bin (2.27-3ubuntu1.5) ...\n"
          ]
        }
      ]
    },
    {
      "cell_type": "code",
      "source": [
        "opt_cbc = SolverFactory('cbc')"
      ],
      "metadata": {
        "id": "HvNAqUx_dzmN"
      },
      "execution_count": 19,
      "outputs": []
    },
    {
      "cell_type": "code",
      "source": [
        "result = opt_cbc.solve(model_ex1)\n",
        "print('Solver status:', result.solver.status)\n",
        "print('Solver termination condition:',result.solver.termination_condition)"
      ],
      "metadata": {
        "colab": {
          "base_uri": "https://localhost:8080/"
        },
        "id": "NUNxtTeDd3iv",
        "outputId": "d1c98f4e-72e0-465d-ed33-582a4915a621"
      },
      "execution_count": 21,
      "outputs": [
        {
          "output_type": "stream",
          "name": "stdout",
          "text": [
            "Solver status: ok\n",
            "Solver termination condition: optimal\n"
          ]
        }
      ]
    },
    {
      "cell_type": "code",
      "source": [
        "# display solution\n",
        "print('\\nObjective = ', model_ex1.obj())\n",
        "\n",
        "print('\\nDecision Variables')\n",
        "for i in row_indices:\n",
        "  for j in col_indices:\n",
        "    if(model_ex1.x[i,j].value != 0):\n",
        "      print('Number of truck loads between ',data_csvfile['WH_MARKETS'][i],' and ', data_csvfile.columns[j+1],':', model_ex1.x[i,j].value)\n",
        "\n",
        "print('\\nConstraints')\n",
        "model_ex1.const.display()"
      ],
      "metadata": {
        "colab": {
          "base_uri": "https://localhost:8080/"
        },
        "id": "F5yR730Qd6xg",
        "outputId": "1247be9d-bacf-41d1-9dee-8dbeef93ac96"
      },
      "execution_count": 24,
      "outputs": [
        {
          "output_type": "stream",
          "name": "stdout",
          "text": [
            "\n",
            "Objective =  2192870.0\n",
            "\n",
            "Decision Variables\n",
            "Number of truck loads between  Ahmedabad  and  Jodhpur : 300.0\n",
            "Number of truck loads between  Ahmedabad  and  Dibrugarh : 45.0\n",
            "Number of truck loads between  Ahmedabad  and  Raipur : 5.0\n",
            "Number of truck loads between  Bengaluru  and  Trichy : 120.0\n",
            "Number of truck loads between  Bengaluru  and  Vijayawada : 65.0\n",
            "Number of truck loads between  Chennai  and  Trichy : 305.0\n",
            "Number of truck loads between  Delhi  and  Simla : 95.0\n",
            "Number of truck loads between  Delhi  and  Dibrugarh : 85.0\n",
            "Number of truck loads between  Kolkata  and  Dibrugarh : 95.0\n",
            "Number of truck loads between  Kolkata  and  Agartala : 110.0\n",
            "Number of truck loads between  Lucknow  and  Simla : 175.0\n",
            "Number of truck loads between  Mumbai  and  Hassan : 205.0\n",
            "Number of truck loads between  Mumbai  and  Raipur : 120.0\n",
            "Number of truck loads between  Hyderabad  and  Vijayawada : 310.0\n",
            "Number of truck loads between  Hyderabad  and  Raipur : 60.0\n",
            "\n",
            "Constraints\n",
            "const : Size=16\n",
            "    Key : Lower : Body  : Upper\n",
            "      1 :  None : 350.0 : 350.0\n",
            "      2 :  None : 185.0 : 185.0\n",
            "      3 :  None : 305.0 : 305.0\n",
            "      4 :  None : 180.0 : 180.0\n",
            "      5 :  None : 205.0 : 205.0\n",
            "      6 :  None : 175.0 : 175.0\n",
            "      7 :  None : 325.0 : 325.0\n",
            "      8 :  None : 370.0 : 370.0\n",
            "      9 : 205.0 : 205.0 : 205.0\n",
            "     10 : 300.0 : 300.0 : 300.0\n",
            "     11 : 425.0 : 425.0 : 425.0\n",
            "     12 : 270.0 : 270.0 : 270.0\n",
            "     13 : 375.0 : 375.0 : 375.0\n",
            "     14 : 225.0 : 225.0 : 225.0\n",
            "     15 : 185.0 : 185.0 : 185.0\n",
            "     16 : 110.0 : 110.0 : 110.0\n"
          ]
        }
      ]
    },
    {
      "cell_type": "markdown",
      "source": [
        "$\\large{\\textbf{Answer 1.7: }} \\\\ \\text{Total Cost = Rs. 2192870} \\\\ \\textbf{Number of truck loads of EVs:} \\\\ \\text{Ahmedabad} → \\text{Jodhpur  (300)} \\\\ \\text{Ahmedabad} → \\text{Dibrugarh  (45)} \\\\ \\text{Ahmedabad} → \\text{Raipur  (5)} \\\\ \\text{Bengaluru} → \\text{Trichy  (120)} \\\\ \\text{Bengaluru} → \\text{Vijayawada  (65)} \\\\ \\text{Chennai} → \\text{Trichy  (305)} \\\\ \\text{Delhi} → \\text{Simla  (95)} \\\\ \\text{Delhi} → \\text{Dibrugarh  (85)} \\\\ \\text{Kolkata} → \\text{Dibrugarh  (95)} \\\\ \\text{Kolkata} → \\text{Agartala  (110)} \\\\ \\text{Lucknow} → \\text{Simla  (175)} \\\\ \\text{Mumbai} → \\text{Hassan  (205)} \\\\ \\text{Mumbai} → \\text{Raipur  (120)} \\\\ \\text{Hyderabad} → \\text{Vijayawada  (310)} \\\\ \\text{Hyderabad} → \\text{Raipur  (60)}$"
      ],
      "metadata": {
        "id": "x7bqwD-IXreW"
      }
    },
    {
      "cell_type": "markdown",
      "source": [
        "$\\large{\\textbf{Answer 1.8:}} \\\\ \\text{To make sure, no transportation is done on Lucknow-Simla route, we assign a huge cost of transportation to the route.} \\\\ \\text{So when the cost is to be minimized, by default no transportation will take place on that route.}$"
      ],
      "metadata": {
        "id": "IOtIdhDdcbOH"
      }
    },
    {
      "cell_type": "code",
      "source": [
        "data_csvfile.iloc[5,4] = 20000"
      ],
      "metadata": {
        "id": "r35cmNeLepDX"
      },
      "execution_count": 25,
      "outputs": []
    },
    {
      "cell_type": "code",
      "source": [
        "data_csvfile"
      ],
      "metadata": {
        "colab": {
          "base_uri": "https://localhost:8080/",
          "height": 332
        },
        "id": "lW0NVlZgjNms",
        "outputId": "7acc154e-283c-45f9-b127-fcbef0f38383"
      },
      "execution_count": 26,
      "outputs": [
        {
          "output_type": "execute_result",
          "data": {
            "text/plain": [
              "  WH_MARKETS  Hassan  Jodhpur  Trichy  Simla  Vijayawada  Dibrugarh  Raipur  \\\n",
              "0  Ahmedabad     827      817    1470   2272        1615       3143    1264   \n",
              "1  Bengaluru     559     1832     751   3772         637       3773    1856   \n",
              "2    Chennai    1109     2443     577   3865         798       3521    1984   \n",
              "3      Delhi    2943     1471    4676   1337        2702       2741    2482   \n",
              "4    Kolkata    3742     3089    2931   3199        2226       1739    1691   \n",
              "5    Lucknow    2353     1160    3295  20000        2369       2365    1293   \n",
              "6     Mumbai    1356     1617    2045   2941        2334       4151    1937   \n",
              "7  Hyderabad     195     1862    1331   2921         402       2825     563   \n",
              "8     Demand     205      300     425    270         375        225     185   \n",
              "\n",
              "   Agartala  Avail.Stock  \n",
              "0      4465          350  \n",
              "1      5459          185  \n",
              "2      5303          305  \n",
              "3      4148          180  \n",
              "4      2128          205  \n",
              "5      3642          175  \n",
              "6      4287          325  \n",
              "7      4441          370  \n",
              "8       110         2095  "
            ],
            "text/html": [
              "\n",
              "  <div id=\"df-00874c29-24c5-43ab-bbc7-162321155c8d\">\n",
              "    <div class=\"colab-df-container\">\n",
              "      <div>\n",
              "<style scoped>\n",
              "    .dataframe tbody tr th:only-of-type {\n",
              "        vertical-align: middle;\n",
              "    }\n",
              "\n",
              "    .dataframe tbody tr th {\n",
              "        vertical-align: top;\n",
              "    }\n",
              "\n",
              "    .dataframe thead th {\n",
              "        text-align: right;\n",
              "    }\n",
              "</style>\n",
              "<table border=\"1\" class=\"dataframe\">\n",
              "  <thead>\n",
              "    <tr style=\"text-align: right;\">\n",
              "      <th></th>\n",
              "      <th>WH_MARKETS</th>\n",
              "      <th>Hassan</th>\n",
              "      <th>Jodhpur</th>\n",
              "      <th>Trichy</th>\n",
              "      <th>Simla</th>\n",
              "      <th>Vijayawada</th>\n",
              "      <th>Dibrugarh</th>\n",
              "      <th>Raipur</th>\n",
              "      <th>Agartala</th>\n",
              "      <th>Avail.Stock</th>\n",
              "    </tr>\n",
              "  </thead>\n",
              "  <tbody>\n",
              "    <tr>\n",
              "      <th>0</th>\n",
              "      <td>Ahmedabad</td>\n",
              "      <td>827</td>\n",
              "      <td>817</td>\n",
              "      <td>1470</td>\n",
              "      <td>2272</td>\n",
              "      <td>1615</td>\n",
              "      <td>3143</td>\n",
              "      <td>1264</td>\n",
              "      <td>4465</td>\n",
              "      <td>350</td>\n",
              "    </tr>\n",
              "    <tr>\n",
              "      <th>1</th>\n",
              "      <td>Bengaluru</td>\n",
              "      <td>559</td>\n",
              "      <td>1832</td>\n",
              "      <td>751</td>\n",
              "      <td>3772</td>\n",
              "      <td>637</td>\n",
              "      <td>3773</td>\n",
              "      <td>1856</td>\n",
              "      <td>5459</td>\n",
              "      <td>185</td>\n",
              "    </tr>\n",
              "    <tr>\n",
              "      <th>2</th>\n",
              "      <td>Chennai</td>\n",
              "      <td>1109</td>\n",
              "      <td>2443</td>\n",
              "      <td>577</td>\n",
              "      <td>3865</td>\n",
              "      <td>798</td>\n",
              "      <td>3521</td>\n",
              "      <td>1984</td>\n",
              "      <td>5303</td>\n",
              "      <td>305</td>\n",
              "    </tr>\n",
              "    <tr>\n",
              "      <th>3</th>\n",
              "      <td>Delhi</td>\n",
              "      <td>2943</td>\n",
              "      <td>1471</td>\n",
              "      <td>4676</td>\n",
              "      <td>1337</td>\n",
              "      <td>2702</td>\n",
              "      <td>2741</td>\n",
              "      <td>2482</td>\n",
              "      <td>4148</td>\n",
              "      <td>180</td>\n",
              "    </tr>\n",
              "    <tr>\n",
              "      <th>4</th>\n",
              "      <td>Kolkata</td>\n",
              "      <td>3742</td>\n",
              "      <td>3089</td>\n",
              "      <td>2931</td>\n",
              "      <td>3199</td>\n",
              "      <td>2226</td>\n",
              "      <td>1739</td>\n",
              "      <td>1691</td>\n",
              "      <td>2128</td>\n",
              "      <td>205</td>\n",
              "    </tr>\n",
              "    <tr>\n",
              "      <th>5</th>\n",
              "      <td>Lucknow</td>\n",
              "      <td>2353</td>\n",
              "      <td>1160</td>\n",
              "      <td>3295</td>\n",
              "      <td>20000</td>\n",
              "      <td>2369</td>\n",
              "      <td>2365</td>\n",
              "      <td>1293</td>\n",
              "      <td>3642</td>\n",
              "      <td>175</td>\n",
              "    </tr>\n",
              "    <tr>\n",
              "      <th>6</th>\n",
              "      <td>Mumbai</td>\n",
              "      <td>1356</td>\n",
              "      <td>1617</td>\n",
              "      <td>2045</td>\n",
              "      <td>2941</td>\n",
              "      <td>2334</td>\n",
              "      <td>4151</td>\n",
              "      <td>1937</td>\n",
              "      <td>4287</td>\n",
              "      <td>325</td>\n",
              "    </tr>\n",
              "    <tr>\n",
              "      <th>7</th>\n",
              "      <td>Hyderabad</td>\n",
              "      <td>195</td>\n",
              "      <td>1862</td>\n",
              "      <td>1331</td>\n",
              "      <td>2921</td>\n",
              "      <td>402</td>\n",
              "      <td>2825</td>\n",
              "      <td>563</td>\n",
              "      <td>4441</td>\n",
              "      <td>370</td>\n",
              "    </tr>\n",
              "    <tr>\n",
              "      <th>8</th>\n",
              "      <td>Demand</td>\n",
              "      <td>205</td>\n",
              "      <td>300</td>\n",
              "      <td>425</td>\n",
              "      <td>270</td>\n",
              "      <td>375</td>\n",
              "      <td>225</td>\n",
              "      <td>185</td>\n",
              "      <td>110</td>\n",
              "      <td>2095</td>\n",
              "    </tr>\n",
              "  </tbody>\n",
              "</table>\n",
              "</div>\n",
              "      <button class=\"colab-df-convert\" onclick=\"convertToInteractive('df-00874c29-24c5-43ab-bbc7-162321155c8d')\"\n",
              "              title=\"Convert this dataframe to an interactive table.\"\n",
              "              style=\"display:none;\">\n",
              "        \n",
              "  <svg xmlns=\"http://www.w3.org/2000/svg\" height=\"24px\"viewBox=\"0 0 24 24\"\n",
              "       width=\"24px\">\n",
              "    <path d=\"M0 0h24v24H0V0z\" fill=\"none\"/>\n",
              "    <path d=\"M18.56 5.44l.94 2.06.94-2.06 2.06-.94-2.06-.94-.94-2.06-.94 2.06-2.06.94zm-11 1L8.5 8.5l.94-2.06 2.06-.94-2.06-.94L8.5 2.5l-.94 2.06-2.06.94zm10 10l.94 2.06.94-2.06 2.06-.94-2.06-.94-.94-2.06-.94 2.06-2.06.94z\"/><path d=\"M17.41 7.96l-1.37-1.37c-.4-.4-.92-.59-1.43-.59-.52 0-1.04.2-1.43.59L10.3 9.45l-7.72 7.72c-.78.78-.78 2.05 0 2.83L4 21.41c.39.39.9.59 1.41.59.51 0 1.02-.2 1.41-.59l7.78-7.78 2.81-2.81c.8-.78.8-2.07 0-2.86zM5.41 20L4 18.59l7.72-7.72 1.47 1.35L5.41 20z\"/>\n",
              "  </svg>\n",
              "      </button>\n",
              "      \n",
              "  <style>\n",
              "    .colab-df-container {\n",
              "      display:flex;\n",
              "      flex-wrap:wrap;\n",
              "      gap: 12px;\n",
              "    }\n",
              "\n",
              "    .colab-df-convert {\n",
              "      background-color: #E8F0FE;\n",
              "      border: none;\n",
              "      border-radius: 50%;\n",
              "      cursor: pointer;\n",
              "      display: none;\n",
              "      fill: #1967D2;\n",
              "      height: 32px;\n",
              "      padding: 0 0 0 0;\n",
              "      width: 32px;\n",
              "    }\n",
              "\n",
              "    .colab-df-convert:hover {\n",
              "      background-color: #E2EBFA;\n",
              "      box-shadow: 0px 1px 2px rgba(60, 64, 67, 0.3), 0px 1px 3px 1px rgba(60, 64, 67, 0.15);\n",
              "      fill: #174EA6;\n",
              "    }\n",
              "\n",
              "    [theme=dark] .colab-df-convert {\n",
              "      background-color: #3B4455;\n",
              "      fill: #D2E3FC;\n",
              "    }\n",
              "\n",
              "    [theme=dark] .colab-df-convert:hover {\n",
              "      background-color: #434B5C;\n",
              "      box-shadow: 0px 1px 3px 1px rgba(0, 0, 0, 0.15);\n",
              "      filter: drop-shadow(0px 1px 2px rgba(0, 0, 0, 0.3));\n",
              "      fill: #FFFFFF;\n",
              "    }\n",
              "  </style>\n",
              "\n",
              "      <script>\n",
              "        const buttonEl =\n",
              "          document.querySelector('#df-00874c29-24c5-43ab-bbc7-162321155c8d button.colab-df-convert');\n",
              "        buttonEl.style.display =\n",
              "          google.colab.kernel.accessAllowed ? 'block' : 'none';\n",
              "\n",
              "        async function convertToInteractive(key) {\n",
              "          const element = document.querySelector('#df-00874c29-24c5-43ab-bbc7-162321155c8d');\n",
              "          const dataTable =\n",
              "            await google.colab.kernel.invokeFunction('convertToInteractive',\n",
              "                                                     [key], {});\n",
              "          if (!dataTable) return;\n",
              "\n",
              "          const docLinkHtml = 'Like what you see? Visit the ' +\n",
              "            '<a target=\"_blank\" href=https://colab.research.google.com/notebooks/data_table.ipynb>data table notebook</a>'\n",
              "            + ' to learn more about interactive tables.';\n",
              "          element.innerHTML = '';\n",
              "          dataTable['output_type'] = 'display_data';\n",
              "          await google.colab.output.renderOutput(dataTable, element);\n",
              "          const docLink = document.createElement('div');\n",
              "          docLink.innerHTML = docLinkHtml;\n",
              "          element.appendChild(docLink);\n",
              "        }\n",
              "      </script>\n",
              "    </div>\n",
              "  </div>\n",
              "  "
            ]
          },
          "metadata": {},
          "execution_count": 26
        }
      ]
    },
    {
      "cell_type": "code",
      "source": [
        "model_ex1.new_obj = Objective(expr = sum(data_csvfile.iloc[i,j+1]*model_ex1.x[i,j] for i in row_indices for j in col_indices), sense = minimize)"
      ],
      "metadata": {
        "id": "PjaPnM4ejP17"
      },
      "execution_count": 27,
      "outputs": []
    },
    {
      "cell_type": "code",
      "source": [
        "model_ex1.obj.deactivate()"
      ],
      "metadata": {
        "id": "HtmuRjsbja4Y"
      },
      "execution_count": 30,
      "outputs": []
    },
    {
      "cell_type": "code",
      "source": [
        "model_ex1.pprint()"
      ],
      "metadata": {
        "colab": {
          "base_uri": "https://localhost:8080/"
        },
        "id": "gzDdxH0tjgmO",
        "outputId": "8db59a78-e440-4ab0-c49f-8107b3688f05"
      },
      "execution_count": 31,
      "outputs": [
        {
          "output_type": "stream",
          "name": "stdout",
          "text": [
            "4 Set Declarations\n",
            "    const_index : Size=1, Index=None, Ordered=Insertion\n",
            "        Key  : Dimen : Domain : Size : Members\n",
            "        None :     1 :    Any :   16 : {1, 2, 3, 4, 5, 6, 7, 8, 9, 10, 11, 12, 13, 14, 15, 16}\n",
            "    x_index : Size=1, Index=None, Ordered=True\n",
            "        Key  : Dimen : Domain              : Size : Members\n",
            "        None :     2 : x_index_0*x_index_1 :   64 : {(0, 0), (0, 1), (0, 2), (0, 3), (0, 4), (0, 5), (0, 6), (0, 7), (1, 0), (1, 1), (1, 2), (1, 3), (1, 4), (1, 5), (1, 6), (1, 7), (2, 0), (2, 1), (2, 2), (2, 3), (2, 4), (2, 5), (2, 6), (2, 7), (3, 0), (3, 1), (3, 2), (3, 3), (3, 4), (3, 5), (3, 6), (3, 7), (4, 0), (4, 1), (4, 2), (4, 3), (4, 4), (4, 5), (4, 6), (4, 7), (5, 0), (5, 1), (5, 2), (5, 3), (5, 4), (5, 5), (5, 6), (5, 7), (6, 0), (6, 1), (6, 2), (6, 3), (6, 4), (6, 5), (6, 6), (6, 7), (7, 0), (7, 1), (7, 2), (7, 3), (7, 4), (7, 5), (7, 6), (7, 7)}\n",
            "    x_index_0 : Size=1, Index=None, Ordered=Insertion\n",
            "        Key  : Dimen : Domain : Size : Members\n",
            "        None :     1 :    Any :    8 : {0, 1, 2, 3, 4, 5, 6, 7}\n",
            "    x_index_1 : Size=1, Index=None, Ordered=Insertion\n",
            "        Key  : Dimen : Domain : Size : Members\n",
            "        None :     1 :    Any :    8 : {0, 1, 2, 3, 4, 5, 6, 7}\n",
            "\n",
            "1 Var Declarations\n",
            "    x : Size=64, Index=x_index\n",
            "        Key    : Lower : Value : Upper : Fixed : Stale : Domain\n",
            "        (0, 0) :     0 :   0.0 :  None : False : False : NonNegativeIntegers\n",
            "        (0, 1) :     0 : 300.0 :  None : False : False : NonNegativeIntegers\n",
            "        (0, 2) :     0 :   0.0 :  None : False : False : NonNegativeIntegers\n",
            "        (0, 3) :     0 :   0.0 :  None : False : False : NonNegativeIntegers\n",
            "        (0, 4) :     0 :   0.0 :  None : False : False : NonNegativeIntegers\n",
            "        (0, 5) :     0 :  45.0 :  None : False : False : NonNegativeIntegers\n",
            "        (0, 6) :     0 :   5.0 :  None : False : False : NonNegativeIntegers\n",
            "        (0, 7) :     0 :   0.0 :  None : False : False : NonNegativeIntegers\n",
            "        (1, 0) :     0 :   0.0 :  None : False : False : NonNegativeIntegers\n",
            "        (1, 1) :     0 :   0.0 :  None : False : False : NonNegativeIntegers\n",
            "        (1, 2) :     0 : 120.0 :  None : False : False : NonNegativeIntegers\n",
            "        (1, 3) :     0 :   0.0 :  None : False : False : NonNegativeIntegers\n",
            "        (1, 4) :     0 :  65.0 :  None : False : False : NonNegativeIntegers\n",
            "        (1, 5) :     0 :   0.0 :  None : False : False : NonNegativeIntegers\n",
            "        (1, 6) :     0 :   0.0 :  None : False : False : NonNegativeIntegers\n",
            "        (1, 7) :     0 :   0.0 :  None : False : False : NonNegativeIntegers\n",
            "        (2, 0) :     0 :   0.0 :  None : False : False : NonNegativeIntegers\n",
            "        (2, 1) :     0 :   0.0 :  None : False : False : NonNegativeIntegers\n",
            "        (2, 2) :     0 : 305.0 :  None : False : False : NonNegativeIntegers\n",
            "        (2, 3) :     0 :   0.0 :  None : False : False : NonNegativeIntegers\n",
            "        (2, 4) :     0 :   0.0 :  None : False : False : NonNegativeIntegers\n",
            "        (2, 5) :     0 :   0.0 :  None : False : False : NonNegativeIntegers\n",
            "        (2, 6) :     0 :   0.0 :  None : False : False : NonNegativeIntegers\n",
            "        (2, 7) :     0 :   0.0 :  None : False : False : NonNegativeIntegers\n",
            "        (3, 0) :     0 :   0.0 :  None : False : False : NonNegativeIntegers\n",
            "        (3, 1) :     0 :   0.0 :  None : False : False : NonNegativeIntegers\n",
            "        (3, 2) :     0 :   0.0 :  None : False : False : NonNegativeIntegers\n",
            "        (3, 3) :     0 :  95.0 :  None : False : False : NonNegativeIntegers\n",
            "        (3, 4) :     0 :   0.0 :  None : False : False : NonNegativeIntegers\n",
            "        (3, 5) :     0 :  85.0 :  None : False : False : NonNegativeIntegers\n",
            "        (3, 6) :     0 :   0.0 :  None : False : False : NonNegativeIntegers\n",
            "        (3, 7) :     0 :   0.0 :  None : False : False : NonNegativeIntegers\n",
            "        (4, 0) :     0 :   0.0 :  None : False : False : NonNegativeIntegers\n",
            "        (4, 1) :     0 :   0.0 :  None : False : False : NonNegativeIntegers\n",
            "        (4, 2) :     0 :   0.0 :  None : False : False : NonNegativeIntegers\n",
            "        (4, 3) :     0 :   0.0 :  None : False : False : NonNegativeIntegers\n",
            "        (4, 4) :     0 :   0.0 :  None : False : False : NonNegativeIntegers\n",
            "        (4, 5) :     0 :  95.0 :  None : False : False : NonNegativeIntegers\n",
            "        (4, 6) :     0 :   0.0 :  None : False : False : NonNegativeIntegers\n",
            "        (4, 7) :     0 : 110.0 :  None : False : False : NonNegativeIntegers\n",
            "        (5, 0) :     0 :   0.0 :  None : False : False : NonNegativeIntegers\n",
            "        (5, 1) :     0 :   0.0 :  None : False : False : NonNegativeIntegers\n",
            "        (5, 2) :     0 :   0.0 :  None : False : False : NonNegativeIntegers\n",
            "        (5, 3) :     0 : 175.0 :  None : False : False : NonNegativeIntegers\n",
            "        (5, 4) :     0 :   0.0 :  None : False : False : NonNegativeIntegers\n",
            "        (5, 5) :     0 :   0.0 :  None : False : False : NonNegativeIntegers\n",
            "        (5, 6) :     0 :   0.0 :  None : False : False : NonNegativeIntegers\n",
            "        (5, 7) :     0 :   0.0 :  None : False : False : NonNegativeIntegers\n",
            "        (6, 0) :     0 : 205.0 :  None : False : False : NonNegativeIntegers\n",
            "        (6, 1) :     0 :   0.0 :  None : False : False : NonNegativeIntegers\n",
            "        (6, 2) :     0 :   0.0 :  None : False : False : NonNegativeIntegers\n",
            "        (6, 3) :     0 :   0.0 :  None : False : False : NonNegativeIntegers\n",
            "        (6, 4) :     0 :   0.0 :  None : False : False : NonNegativeIntegers\n",
            "        (6, 5) :     0 :   0.0 :  None : False : False : NonNegativeIntegers\n",
            "        (6, 6) :     0 : 120.0 :  None : False : False : NonNegativeIntegers\n",
            "        (6, 7) :     0 :   0.0 :  None : False : False : NonNegativeIntegers\n",
            "        (7, 0) :     0 :   0.0 :  None : False : False : NonNegativeIntegers\n",
            "        (7, 1) :     0 :   0.0 :  None : False : False : NonNegativeIntegers\n",
            "        (7, 2) :     0 :   0.0 :  None : False : False : NonNegativeIntegers\n",
            "        (7, 3) :     0 :   0.0 :  None : False : False : NonNegativeIntegers\n",
            "        (7, 4) :     0 : 310.0 :  None : False : False : NonNegativeIntegers\n",
            "        (7, 5) :     0 :   0.0 :  None : False : False : NonNegativeIntegers\n",
            "        (7, 6) :     0 :  60.0 :  None : False : False : NonNegativeIntegers\n",
            "        (7, 7) :     0 :   0.0 :  None : False : False : NonNegativeIntegers\n",
            "\n",
            "2 Objective Declarations\n",
            "    new_obj : Size=1, Index=None, Active=True\n",
            "        Key  : Active : Sense    : Expression\n",
            "        None :   True : minimize : 827*x[0,0] + 817*x[0,1] + 1470*x[0,2] + 2272*x[0,3] + 1615*x[0,4] + 3143*x[0,5] + 1264*x[0,6] + 4465*x[0,7] + 559*x[1,0] + 1832*x[1,1] + 751*x[1,2] + 3772*x[1,3] + 637*x[1,4] + 3773*x[1,5] + 1856*x[1,6] + 5459*x[1,7] + 1109*x[2,0] + 2443*x[2,1] + 577*x[2,2] + 3865*x[2,3] + 798*x[2,4] + 3521*x[2,5] + 1984*x[2,6] + 5303*x[2,7] + 2943*x[3,0] + 1471*x[3,1] + 4676*x[3,2] + 1337*x[3,3] + 2702*x[3,4] + 2741*x[3,5] + 2482*x[3,6] + 4148*x[3,7] + 3742*x[4,0] + 3089*x[4,1] + 2931*x[4,2] + 3199*x[4,3] + 2226*x[4,4] + 1739*x[4,5] + 1691*x[4,6] + 2128*x[4,7] + 2353*x[5,0] + 1160*x[5,1] + 3295*x[5,2] + 20000*x[5,3] + 2369*x[5,4] + 2365*x[5,5] + 1293*x[5,6] + 3642*x[5,7] + 1356*x[6,0] + 1617*x[6,1] + 2045*x[6,2] + 2941*x[6,3] + 2334*x[6,4] + 4151*x[6,5] + 1937*x[6,6] + 4287*x[6,7] + 195*x[7,0] + 1862*x[7,1] + 1331*x[7,2] + 2921*x[7,3] + 402*x[7,4] + 2825*x[7,5] + 563*x[7,6] + 4441*x[7,7]\n",
            "    obj : Size=1, Index=None, Active=False\n",
            "        Key  : Active : Sense    : Expression\n",
            "        None :  False : minimize : 827*x[0,0] + 817*x[0,1] + 1470*x[0,2] + 2272*x[0,3] + 1615*x[0,4] + 3143*x[0,5] + 1264*x[0,6] + 4465*x[0,7] + 559*x[1,0] + 1832*x[1,1] + 751*x[1,2] + 3772*x[1,3] + 637*x[1,4] + 3773*x[1,5] + 1856*x[1,6] + 5459*x[1,7] + 1109*x[2,0] + 2443*x[2,1] + 577*x[2,2] + 3865*x[2,3] + 798*x[2,4] + 3521*x[2,5] + 1984*x[2,6] + 5303*x[2,7] + 2943*x[3,0] + 1471*x[3,1] + 4676*x[3,2] + 1337*x[3,3] + 2702*x[3,4] + 2741*x[3,5] + 2482*x[3,6] + 4148*x[3,7] + 3742*x[4,0] + 3089*x[4,1] + 2931*x[4,2] + 3199*x[4,3] + 2226*x[4,4] + 1739*x[4,5] + 1691*x[4,6] + 2128*x[4,7] + 2353*x[5,0] + 1160*x[5,1] + 3295*x[5,2] + 368*x[5,3] + 2369*x[5,4] + 2365*x[5,5] + 1293*x[5,6] + 3642*x[5,7] + 1356*x[6,0] + 1617*x[6,1] + 2045*x[6,2] + 2941*x[6,3] + 2334*x[6,4] + 4151*x[6,5] + 1937*x[6,6] + 4287*x[6,7] + 195*x[7,0] + 1862*x[7,1] + 1331*x[7,2] + 2921*x[7,3] + 402*x[7,4] + 2825*x[7,5] + 563*x[7,6] + 4441*x[7,7]\n",
            "\n",
            "1 Constraint Declarations\n",
            "    const : Size=16, Index=const_index, Active=True\n",
            "        Key : Lower : Body                                                                  : Upper : Active\n",
            "          1 :  -Inf : x[0,0] + x[0,1] + x[0,2] + x[0,3] + x[0,4] + x[0,5] + x[0,6] + x[0,7] : 350.0 :   True\n",
            "          2 :  -Inf : x[1,0] + x[1,1] + x[1,2] + x[1,3] + x[1,4] + x[1,5] + x[1,6] + x[1,7] : 185.0 :   True\n",
            "          3 :  -Inf : x[2,0] + x[2,1] + x[2,2] + x[2,3] + x[2,4] + x[2,5] + x[2,6] + x[2,7] : 305.0 :   True\n",
            "          4 :  -Inf : x[3,0] + x[3,1] + x[3,2] + x[3,3] + x[3,4] + x[3,5] + x[3,6] + x[3,7] : 180.0 :   True\n",
            "          5 :  -Inf : x[4,0] + x[4,1] + x[4,2] + x[4,3] + x[4,4] + x[4,5] + x[4,6] + x[4,7] : 205.0 :   True\n",
            "          6 :  -Inf : x[5,0] + x[5,1] + x[5,2] + x[5,3] + x[5,4] + x[5,5] + x[5,6] + x[5,7] : 175.0 :   True\n",
            "          7 :  -Inf : x[6,0] + x[6,1] + x[6,2] + x[6,3] + x[6,4] + x[6,5] + x[6,6] + x[6,7] : 325.0 :   True\n",
            "          8 :  -Inf : x[7,0] + x[7,1] + x[7,2] + x[7,3] + x[7,4] + x[7,5] + x[7,6] + x[7,7] : 370.0 :   True\n",
            "          9 : 205.0 : x[0,0] + x[1,0] + x[2,0] + x[3,0] + x[4,0] + x[5,0] + x[6,0] + x[7,0] : 205.0 :   True\n",
            "         10 : 300.0 : x[0,1] + x[1,1] + x[2,1] + x[3,1] + x[4,1] + x[5,1] + x[6,1] + x[7,1] : 300.0 :   True\n",
            "         11 : 425.0 : x[0,2] + x[1,2] + x[2,2] + x[3,2] + x[4,2] + x[5,2] + x[6,2] + x[7,2] : 425.0 :   True\n",
            "         12 : 270.0 : x[0,3] + x[1,3] + x[2,3] + x[3,3] + x[4,3] + x[5,3] + x[6,3] + x[7,3] : 270.0 :   True\n",
            "         13 : 375.0 : x[0,4] + x[1,4] + x[2,4] + x[3,4] + x[4,4] + x[5,4] + x[6,4] + x[7,4] : 375.0 :   True\n",
            "         14 : 225.0 : x[0,5] + x[1,5] + x[2,5] + x[3,5] + x[4,5] + x[5,5] + x[6,5] + x[7,5] : 225.0 :   True\n",
            "         15 : 185.0 : x[0,6] + x[1,6] + x[2,6] + x[3,6] + x[4,6] + x[5,6] + x[6,6] + x[7,6] : 185.0 :   True\n",
            "         16 : 110.0 : x[0,7] + x[1,7] + x[2,7] + x[3,7] + x[4,7] + x[5,7] + x[6,7] + x[7,7] : 110.0 :   True\n",
            "\n",
            "8 Declarations: x_index_0 x_index_1 x_index x obj const_index const new_obj\n"
          ]
        }
      ]
    },
    {
      "cell_type": "code",
      "source": [
        "result = opt_cbc.solve(model_ex1)\n",
        "print('Solver status:', result.solver.status)\n",
        "print('Solver termination condition:',result.solver.termination_condition)"
      ],
      "metadata": {
        "colab": {
          "base_uri": "https://localhost:8080/"
        },
        "id": "CJMoXRnfjjTI",
        "outputId": "67d51c97-c009-4bbe-e06a-72f21fac4ab8"
      },
      "execution_count": 32,
      "outputs": [
        {
          "output_type": "stream",
          "name": "stdout",
          "text": [
            "Solver status: ok\n",
            "Solver termination condition: optimal\n"
          ]
        }
      ]
    },
    {
      "cell_type": "code",
      "source": [
        "# display solution\n",
        "print('\\nObjective = ', model_ex1.obj())\n",
        "\n",
        "print('\\nDecision Variables')\n",
        "for i in row_indices:\n",
        "  for j in col_indices:\n",
        "    if(model_ex1.x[i,j].value != 0):\n",
        "      print('Number of truck loads between ',data_csvfile['WH_MARKETS'][i],' and ', data_csvfile.columns[j+1],':', model_ex1.x[i,j].value)\n",
        "\n",
        "print('\\nConstraints')\n",
        "model_ex1.const.display()"
      ],
      "metadata": {
        "colab": {
          "base_uri": "https://localhost:8080/"
        },
        "id": "_i7zf2S1juBf",
        "outputId": "fd2a9cd6-b828-471a-b423-30e4d692d39e"
      },
      "execution_count": 33,
      "outputs": [
        {
          "output_type": "stream",
          "name": "stdout",
          "text": [
            "\n",
            "Objective =  2380570.0\n",
            "\n",
            "Decision Variables\n",
            "Number of truck loads between  Ahmedabad  and  Jodhpur : 300.0\n",
            "Number of truck loads between  Ahmedabad  and  Raipur : 50.0\n",
            "Number of truck loads between  Bengaluru  and  Trichy : 120.0\n",
            "Number of truck loads between  Bengaluru  and  Vijayawada : 65.0\n",
            "Number of truck loads between  Chennai  and  Trichy : 305.0\n",
            "Number of truck loads between  Delhi  and  Simla : 180.0\n",
            "Number of truck loads between  Kolkata  and  Dibrugarh : 95.0\n",
            "Number of truck loads between  Kolkata  and  Agartala : 110.0\n",
            "Number of truck loads between  Lucknow  and  Dibrugarh : 130.0\n",
            "Number of truck loads between  Lucknow  and  Raipur : 45.0\n",
            "Number of truck loads between  Mumbai  and  Hassan : 205.0\n",
            "Number of truck loads between  Mumbai  and  Simla : 90.0\n",
            "Number of truck loads between  Mumbai  and  Raipur : 30.0\n",
            "Number of truck loads between  Hyderabad  and  Vijayawada : 310.0\n",
            "Number of truck loads between  Hyderabad  and  Raipur : 60.0\n",
            "\n",
            "Constraints\n",
            "const : Size=16\n",
            "    Key : Lower : Body  : Upper\n",
            "      1 :  None : 350.0 : 350.0\n",
            "      2 :  None : 185.0 : 185.0\n",
            "      3 :  None : 305.0 : 305.0\n",
            "      4 :  None : 180.0 : 180.0\n",
            "      5 :  None : 205.0 : 205.0\n",
            "      6 :  None : 175.0 : 175.0\n",
            "      7 :  None : 325.0 : 325.0\n",
            "      8 :  None : 370.0 : 370.0\n",
            "      9 : 205.0 : 205.0 : 205.0\n",
            "     10 : 300.0 : 300.0 : 300.0\n",
            "     11 : 425.0 : 425.0 : 425.0\n",
            "     12 : 270.0 : 270.0 : 270.0\n",
            "     13 : 375.0 : 375.0 : 375.0\n",
            "     14 : 225.0 : 225.0 : 225.0\n",
            "     15 : 185.0 : 185.0 : 185.0\n",
            "     16 : 110.0 : 110.0 : 110.0\n"
          ]
        }
      ]
    },
    {
      "cell_type": "markdown",
      "source": [
        "$\\large{\\textbf{Answer 1.9: }} \\\\ \\text{Total Cost = Rs. 2380570} \\\\ \\textbf{Number of truck loads of EVs:} \\\\ \\text{Ahmedabad} → \\text{Jodhpur  (300)} \\\\ \\text{Ahmedabad} → \\text{Raipur  (50)} \\\\ \\text{Bengaluru} → \\text{Trichy  (120)} \\\\ \\text{Bengaluru} → \\text{Vijayawada  (65)} \\\\ \\text{Chennai} → \\text{Trichy  (305)} \\\\ \\text{Delhi} → \\text{Simla  (180)} \\\\ \\text{Kolkata} → \\text{Dibrugarh  (95)} \\\\ \\text{Kolkata} → \\text{Agartala  (110)} \\\\ \\text{Lucknow} → \\text{Dibrugarh  (130)} \\\\ \\text{Lucknow} → \\text{Raipur  (45)} \\\\ \\text{Mumbai} → \\text{Hassan  (205)} \\\\ \\text{Mumbai} → \\text{Simla  (90)} \\\\ \\text{Mumbai} → \\text{Raipur  (30)} \\\\ \\text{Hyderabad} → \\text{Vijayawada  (310)} \\\\ \\text{Hyderabad} → \\text{Raipur  (60)} \\\\ \\text{Here we can see that the total cost of operations increase when there was no transporation on the Lucknow-Simla route.}\\\\ \\text{This is because in the ideal solution, minimum cost was attained when 175 trucks were moving from Lucknow to Simla,} \\\\ \\text{but when we put a higher cost to the route, traffic was managed with different routes resulting in a comparitively higher cost.} $"
      ],
      "metadata": {
        "id": "uuXHyvaFeIXD"
      }
    },
    {
      "cell_type": "markdown",
      "source": [
        "$\\large{\\textbf{Answer 1.10:}}$"
      ],
      "metadata": {
        "id": "YTtq1WnQfjrz"
      }
    },
    {
      "cell_type": "code",
      "source": [
        "data_csvfile.iloc[4,6] = 20000\n",
        "data_csvfile.iloc[3,7] = 20000"
      ],
      "metadata": {
        "id": "SRlw6X7AjzIj"
      },
      "execution_count": 34,
      "outputs": []
    },
    {
      "cell_type": "code",
      "source": [
        "data_csvfile"
      ],
      "metadata": {
        "colab": {
          "base_uri": "https://localhost:8080/",
          "height": 332
        },
        "id": "L7bbSKTNlIoo",
        "outputId": "a8fef365-d685-42af-9940-491dfe77ab15"
      },
      "execution_count": 35,
      "outputs": [
        {
          "output_type": "execute_result",
          "data": {
            "text/plain": [
              "  WH_MARKETS  Hassan  Jodhpur  Trichy  Simla  Vijayawada  Dibrugarh  Raipur  \\\n",
              "0  Ahmedabad     827      817    1470   2272        1615       3143    1264   \n",
              "1  Bengaluru     559     1832     751   3772         637       3773    1856   \n",
              "2    Chennai    1109     2443     577   3865         798       3521    1984   \n",
              "3      Delhi    2943     1471    4676   1337        2702       2741   20000   \n",
              "4    Kolkata    3742     3089    2931   3199        2226      20000    1691   \n",
              "5    Lucknow    2353     1160    3295  20000        2369       2365    1293   \n",
              "6     Mumbai    1356     1617    2045   2941        2334       4151    1937   \n",
              "7  Hyderabad     195     1862    1331   2921         402       2825     563   \n",
              "8     Demand     205      300     425    270         375        225     185   \n",
              "\n",
              "   Agartala  Avail.Stock  \n",
              "0      4465          350  \n",
              "1      5459          185  \n",
              "2      5303          305  \n",
              "3      4148          180  \n",
              "4      2128          205  \n",
              "5      3642          175  \n",
              "6      4287          325  \n",
              "7      4441          370  \n",
              "8       110         2095  "
            ],
            "text/html": [
              "\n",
              "  <div id=\"df-c9d35405-5fc0-4616-979b-24f753b93ab0\">\n",
              "    <div class=\"colab-df-container\">\n",
              "      <div>\n",
              "<style scoped>\n",
              "    .dataframe tbody tr th:only-of-type {\n",
              "        vertical-align: middle;\n",
              "    }\n",
              "\n",
              "    .dataframe tbody tr th {\n",
              "        vertical-align: top;\n",
              "    }\n",
              "\n",
              "    .dataframe thead th {\n",
              "        text-align: right;\n",
              "    }\n",
              "</style>\n",
              "<table border=\"1\" class=\"dataframe\">\n",
              "  <thead>\n",
              "    <tr style=\"text-align: right;\">\n",
              "      <th></th>\n",
              "      <th>WH_MARKETS</th>\n",
              "      <th>Hassan</th>\n",
              "      <th>Jodhpur</th>\n",
              "      <th>Trichy</th>\n",
              "      <th>Simla</th>\n",
              "      <th>Vijayawada</th>\n",
              "      <th>Dibrugarh</th>\n",
              "      <th>Raipur</th>\n",
              "      <th>Agartala</th>\n",
              "      <th>Avail.Stock</th>\n",
              "    </tr>\n",
              "  </thead>\n",
              "  <tbody>\n",
              "    <tr>\n",
              "      <th>0</th>\n",
              "      <td>Ahmedabad</td>\n",
              "      <td>827</td>\n",
              "      <td>817</td>\n",
              "      <td>1470</td>\n",
              "      <td>2272</td>\n",
              "      <td>1615</td>\n",
              "      <td>3143</td>\n",
              "      <td>1264</td>\n",
              "      <td>4465</td>\n",
              "      <td>350</td>\n",
              "    </tr>\n",
              "    <tr>\n",
              "      <th>1</th>\n",
              "      <td>Bengaluru</td>\n",
              "      <td>559</td>\n",
              "      <td>1832</td>\n",
              "      <td>751</td>\n",
              "      <td>3772</td>\n",
              "      <td>637</td>\n",
              "      <td>3773</td>\n",
              "      <td>1856</td>\n",
              "      <td>5459</td>\n",
              "      <td>185</td>\n",
              "    </tr>\n",
              "    <tr>\n",
              "      <th>2</th>\n",
              "      <td>Chennai</td>\n",
              "      <td>1109</td>\n",
              "      <td>2443</td>\n",
              "      <td>577</td>\n",
              "      <td>3865</td>\n",
              "      <td>798</td>\n",
              "      <td>3521</td>\n",
              "      <td>1984</td>\n",
              "      <td>5303</td>\n",
              "      <td>305</td>\n",
              "    </tr>\n",
              "    <tr>\n",
              "      <th>3</th>\n",
              "      <td>Delhi</td>\n",
              "      <td>2943</td>\n",
              "      <td>1471</td>\n",
              "      <td>4676</td>\n",
              "      <td>1337</td>\n",
              "      <td>2702</td>\n",
              "      <td>2741</td>\n",
              "      <td>20000</td>\n",
              "      <td>4148</td>\n",
              "      <td>180</td>\n",
              "    </tr>\n",
              "    <tr>\n",
              "      <th>4</th>\n",
              "      <td>Kolkata</td>\n",
              "      <td>3742</td>\n",
              "      <td>3089</td>\n",
              "      <td>2931</td>\n",
              "      <td>3199</td>\n",
              "      <td>2226</td>\n",
              "      <td>20000</td>\n",
              "      <td>1691</td>\n",
              "      <td>2128</td>\n",
              "      <td>205</td>\n",
              "    </tr>\n",
              "    <tr>\n",
              "      <th>5</th>\n",
              "      <td>Lucknow</td>\n",
              "      <td>2353</td>\n",
              "      <td>1160</td>\n",
              "      <td>3295</td>\n",
              "      <td>20000</td>\n",
              "      <td>2369</td>\n",
              "      <td>2365</td>\n",
              "      <td>1293</td>\n",
              "      <td>3642</td>\n",
              "      <td>175</td>\n",
              "    </tr>\n",
              "    <tr>\n",
              "      <th>6</th>\n",
              "      <td>Mumbai</td>\n",
              "      <td>1356</td>\n",
              "      <td>1617</td>\n",
              "      <td>2045</td>\n",
              "      <td>2941</td>\n",
              "      <td>2334</td>\n",
              "      <td>4151</td>\n",
              "      <td>1937</td>\n",
              "      <td>4287</td>\n",
              "      <td>325</td>\n",
              "    </tr>\n",
              "    <tr>\n",
              "      <th>7</th>\n",
              "      <td>Hyderabad</td>\n",
              "      <td>195</td>\n",
              "      <td>1862</td>\n",
              "      <td>1331</td>\n",
              "      <td>2921</td>\n",
              "      <td>402</td>\n",
              "      <td>2825</td>\n",
              "      <td>563</td>\n",
              "      <td>4441</td>\n",
              "      <td>370</td>\n",
              "    </tr>\n",
              "    <tr>\n",
              "      <th>8</th>\n",
              "      <td>Demand</td>\n",
              "      <td>205</td>\n",
              "      <td>300</td>\n",
              "      <td>425</td>\n",
              "      <td>270</td>\n",
              "      <td>375</td>\n",
              "      <td>225</td>\n",
              "      <td>185</td>\n",
              "      <td>110</td>\n",
              "      <td>2095</td>\n",
              "    </tr>\n",
              "  </tbody>\n",
              "</table>\n",
              "</div>\n",
              "      <button class=\"colab-df-convert\" onclick=\"convertToInteractive('df-c9d35405-5fc0-4616-979b-24f753b93ab0')\"\n",
              "              title=\"Convert this dataframe to an interactive table.\"\n",
              "              style=\"display:none;\">\n",
              "        \n",
              "  <svg xmlns=\"http://www.w3.org/2000/svg\" height=\"24px\"viewBox=\"0 0 24 24\"\n",
              "       width=\"24px\">\n",
              "    <path d=\"M0 0h24v24H0V0z\" fill=\"none\"/>\n",
              "    <path d=\"M18.56 5.44l.94 2.06.94-2.06 2.06-.94-2.06-.94-.94-2.06-.94 2.06-2.06.94zm-11 1L8.5 8.5l.94-2.06 2.06-.94-2.06-.94L8.5 2.5l-.94 2.06-2.06.94zm10 10l.94 2.06.94-2.06 2.06-.94-2.06-.94-.94-2.06-.94 2.06-2.06.94z\"/><path d=\"M17.41 7.96l-1.37-1.37c-.4-.4-.92-.59-1.43-.59-.52 0-1.04.2-1.43.59L10.3 9.45l-7.72 7.72c-.78.78-.78 2.05 0 2.83L4 21.41c.39.39.9.59 1.41.59.51 0 1.02-.2 1.41-.59l7.78-7.78 2.81-2.81c.8-.78.8-2.07 0-2.86zM5.41 20L4 18.59l7.72-7.72 1.47 1.35L5.41 20z\"/>\n",
              "  </svg>\n",
              "      </button>\n",
              "      \n",
              "  <style>\n",
              "    .colab-df-container {\n",
              "      display:flex;\n",
              "      flex-wrap:wrap;\n",
              "      gap: 12px;\n",
              "    }\n",
              "\n",
              "    .colab-df-convert {\n",
              "      background-color: #E8F0FE;\n",
              "      border: none;\n",
              "      border-radius: 50%;\n",
              "      cursor: pointer;\n",
              "      display: none;\n",
              "      fill: #1967D2;\n",
              "      height: 32px;\n",
              "      padding: 0 0 0 0;\n",
              "      width: 32px;\n",
              "    }\n",
              "\n",
              "    .colab-df-convert:hover {\n",
              "      background-color: #E2EBFA;\n",
              "      box-shadow: 0px 1px 2px rgba(60, 64, 67, 0.3), 0px 1px 3px 1px rgba(60, 64, 67, 0.15);\n",
              "      fill: #174EA6;\n",
              "    }\n",
              "\n",
              "    [theme=dark] .colab-df-convert {\n",
              "      background-color: #3B4455;\n",
              "      fill: #D2E3FC;\n",
              "    }\n",
              "\n",
              "    [theme=dark] .colab-df-convert:hover {\n",
              "      background-color: #434B5C;\n",
              "      box-shadow: 0px 1px 3px 1px rgba(0, 0, 0, 0.15);\n",
              "      filter: drop-shadow(0px 1px 2px rgba(0, 0, 0, 0.3));\n",
              "      fill: #FFFFFF;\n",
              "    }\n",
              "  </style>\n",
              "\n",
              "      <script>\n",
              "        const buttonEl =\n",
              "          document.querySelector('#df-c9d35405-5fc0-4616-979b-24f753b93ab0 button.colab-df-convert');\n",
              "        buttonEl.style.display =\n",
              "          google.colab.kernel.accessAllowed ? 'block' : 'none';\n",
              "\n",
              "        async function convertToInteractive(key) {\n",
              "          const element = document.querySelector('#df-c9d35405-5fc0-4616-979b-24f753b93ab0');\n",
              "          const dataTable =\n",
              "            await google.colab.kernel.invokeFunction('convertToInteractive',\n",
              "                                                     [key], {});\n",
              "          if (!dataTable) return;\n",
              "\n",
              "          const docLinkHtml = 'Like what you see? Visit the ' +\n",
              "            '<a target=\"_blank\" href=https://colab.research.google.com/notebooks/data_table.ipynb>data table notebook</a>'\n",
              "            + ' to learn more about interactive tables.';\n",
              "          element.innerHTML = '';\n",
              "          dataTable['output_type'] = 'display_data';\n",
              "          await google.colab.output.renderOutput(dataTable, element);\n",
              "          const docLink = document.createElement('div');\n",
              "          docLink.innerHTML = docLinkHtml;\n",
              "          element.appendChild(docLink);\n",
              "        }\n",
              "      </script>\n",
              "    </div>\n",
              "  </div>\n",
              "  "
            ]
          },
          "metadata": {},
          "execution_count": 35
        }
      ]
    },
    {
      "cell_type": "code",
      "source": [
        "model_ex1.new_obj1 = Objective(expr = sum(data_csvfile.iloc[i,j+1]*model_ex1.x[i,j] for i in row_indices for j in col_indices), sense = minimize)"
      ],
      "metadata": {
        "id": "zkYUKboklPt8"
      },
      "execution_count": 36,
      "outputs": []
    },
    {
      "cell_type": "code",
      "source": [
        "model_ex1.new_obj.deactivate()"
      ],
      "metadata": {
        "id": "V79CwASKlTx6"
      },
      "execution_count": 37,
      "outputs": []
    },
    {
      "cell_type": "code",
      "source": [
        "result = opt_cbc.solve(model_ex1)\n",
        "print('Solver status:', result.solver.status)\n",
        "print('Solver termination condition:',result.solver.termination_condition)"
      ],
      "metadata": {
        "colab": {
          "base_uri": "https://localhost:8080/"
        },
        "id": "e-o5mQwOlXxd",
        "outputId": "5b4d86ab-6d90-49e5-af27-d0f43dbbebc2"
      },
      "execution_count": 38,
      "outputs": [
        {
          "output_type": "stream",
          "name": "stdout",
          "text": [
            "Solver status: ok\n",
            "Solver termination condition: optimal\n"
          ]
        }
      ]
    },
    {
      "cell_type": "code",
      "source": [
        "# display solution\n",
        "print('\\nObjective = ', model_ex1.obj())\n",
        "\n",
        "print('\\nDecision Variables')\n",
        "for i in row_indices:\n",
        "  for j in col_indices:\n",
        "    if(model_ex1.x[i,j].value != 0):\n",
        "      print('Number of truck loads between ',data_csvfile['WH_MARKETS'][i],' and ', data_csvfile.columns[j+1],':', model_ex1.x[i,j].value)\n",
        "\n",
        "print('\\nConstraints')\n",
        "model_ex1.const.display()"
      ],
      "metadata": {
        "colab": {
          "base_uri": "https://localhost:8080/"
        },
        "id": "p3q1d6bQlbCt",
        "outputId": "67e68043-7814-4806-f91a-ec60adab62e0"
      },
      "execution_count": 39,
      "outputs": [
        {
          "output_type": "stream",
          "name": "stdout",
          "text": [
            "\n",
            "Objective =  2518200.0\n",
            "\n",
            "Decision Variables\n",
            "Number of truck loads between  Ahmedabad  and  Jodhpur : 300.0\n",
            "Number of truck loads between  Ahmedabad  and  Dibrugarh : 50.0\n",
            "Number of truck loads between  Bengaluru  and  Trichy : 120.0\n",
            "Number of truck loads between  Bengaluru  and  Vijayawada : 65.0\n",
            "Number of truck loads between  Chennai  and  Trichy : 305.0\n",
            "Number of truck loads between  Delhi  and  Simla : 180.0\n",
            "Number of truck loads between  Kolkata  and  Raipur : 95.0\n",
            "Number of truck loads between  Kolkata  and  Agartala : 110.0\n",
            "Number of truck loads between  Lucknow  and  Dibrugarh : 175.0\n",
            "Number of truck loads between  Mumbai  and  Hassan : 205.0\n",
            "Number of truck loads between  Mumbai  and  Simla : 90.0\n",
            "Number of truck loads between  Mumbai  and  Raipur : 30.0\n",
            "Number of truck loads between  Hyderabad  and  Vijayawada : 310.0\n",
            "Number of truck loads between  Hyderabad  and  Raipur : 60.0\n",
            "\n",
            "Constraints\n",
            "const : Size=16\n",
            "    Key : Lower : Body  : Upper\n",
            "      1 :  None : 350.0 : 350.0\n",
            "      2 :  None : 185.0 : 185.0\n",
            "      3 :  None : 305.0 : 305.0\n",
            "      4 :  None : 180.0 : 180.0\n",
            "      5 :  None : 205.0 : 205.0\n",
            "      6 :  None : 175.0 : 175.0\n",
            "      7 :  None : 325.0 : 325.0\n",
            "      8 :  None : 370.0 : 370.0\n",
            "      9 : 205.0 : 205.0 : 205.0\n",
            "     10 : 300.0 : 300.0 : 300.0\n",
            "     11 : 425.0 : 425.0 : 425.0\n",
            "     12 : 270.0 : 270.0 : 270.0\n",
            "     13 : 375.0 : 375.0 : 375.0\n",
            "     14 : 225.0 : 225.0 : 225.0\n",
            "     15 : 185.0 : 185.0 : 185.0\n",
            "     16 : 110.0 : 110.0 : 110.0\n"
          ]
        }
      ]
    },
    {
      "cell_type": "markdown",
      "source": [
        "$\\large{\\textbf{Answer 1.11: }} \\\\ \\text{Total Cost = Rs. 2518200} \\\\ \\textbf{Number of truck loads of EVs:} \\\\ \\text{Ahmedabad} → \\text{Jodhpur  (300)} \\\\ \\text{Ahmedabad} → \\text{Dibrugarh  (50)} \\\\ \\text{Bengaluru} → \\text{Trichy  (120)} \\\\ \\text{Bengaluru} → \\text{Vijayawada  (65)} \\\\ \\text{Chennai} → \\text{Trichy  (305)} \\\\ \\text{Delhi} → \\text{Simla  (180)} \\\\ \\text{Kolkata} → \\text{Raipur  (95)} \\\\ \\text{Kolkata} → \\text{Agartala  (110)} \\\\ \\text{Lucknow} → \\text{Dibrugarh  (175)} \\\\ \\text{Mumbai} → \\text{Hassan  (205)} \\\\ \\text{Mumbai} → \\text{Simla  (90)} \\\\ \\text{Mumbai} → \\text{Raipur  (30)} \\\\ \\text{Hyderabad} → \\text{Vijayawada  (310)} \\\\ \\text{Hyderabad} → \\text{Raipur  (60)}\\\\ \\text{Here also we can observe that the total cost of operations increase.}\\\\ \\text{This is because in the ideal solution, while there was no transportation on the Delhi-Raipur route,} \\\\ \\text{minimum cost was attained when 95 trucks were moving from Kolkata to Dibrugarh,} \\\\ \\text{but when we put a higher cost to the route, traffic was managed with different routes resulting in a comparitively higher cost.}$"
      ],
      "metadata": {
        "id": "V0ntLcFFfvXy"
      }
    },
    {
      "cell_type": "code",
      "source": [],
      "metadata": {
        "id": "M2JKlT7KldwB"
      },
      "execution_count": null,
      "outputs": []
    }
  ]
}