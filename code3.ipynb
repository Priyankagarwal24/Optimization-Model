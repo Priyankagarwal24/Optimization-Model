{
  "nbformat": 4,
  "nbformat_minor": 0,
  "metadata": {
    "colab": {
      "name": "22N0453_IE507_Lab2_Ex2.ipynb",
      "provenance": [],
      "collapsed_sections": []
    },
    "kernelspec": {
      "name": "python3",
      "display_name": "Python 3"
    },
    "language_info": {
      "name": "python"
    }
  },
  "cells": [
    {
      "cell_type": "markdown",
      "source": [
        "$\\large{\\textbf{Solution to Question 2.}}$"
      ],
      "metadata": {
        "id": "EcWc1kzBPQej"
      }
    },
    {
      "cell_type": "code",
      "execution_count": 1,
      "metadata": {
        "colab": {
          "base_uri": "https://localhost:8080/"
        },
        "id": "DOXei44oNpPj",
        "outputId": "e4567d75-e257-491b-ee3d-2d417b673eff"
      },
      "outputs": [
        {
          "output_type": "stream",
          "name": "stdout",
          "text": [
            "\u001b[K     |████████████████████████████████| 9.6 MB 8.8 MB/s \n",
            "\u001b[K     |████████████████████████████████| 49 kB 6.7 MB/s \n",
            "\u001b[?25h"
          ]
        }
      ],
      "source": [
        "!pip install -q pyomo"
      ]
    },
    {
      "cell_type": "code",
      "source": [
        "from pyomo.environ import *"
      ],
      "metadata": {
        "id": "ZsSFrRPQPhX4"
      },
      "execution_count": 2,
      "outputs": []
    },
    {
      "cell_type": "code",
      "source": [
        "import numpy as np"
      ],
      "metadata": {
        "id": "5L7LVl1YPrnJ"
      },
      "execution_count": 3,
      "outputs": []
    },
    {
      "cell_type": "code",
      "source": [
        "# create a model\n",
        "model = ConcreteModel()"
      ],
      "metadata": {
        "id": "ubWcdyd8PwUb"
      },
      "execution_count": 5,
      "outputs": []
    },
    {
      "cell_type": "code",
      "source": [
        "N = 12 # No. of variables\n",
        "M = 5 # No. of constraints"
      ],
      "metadata": {
        "id": "u6YKZWmsPzdA"
      },
      "execution_count": 6,
      "outputs": []
    },
    {
      "cell_type": "code",
      "source": [
        "#Objective function coefficients\n",
        "obj_coef_c = np.array([0.56, 1.721, -9.6, -2.85, 41.5, 33.05, -0.75, 20.5, -0.35, -31.02, 50.65, 6.125]) "
      ],
      "metadata": {
        "id": "I1g66D5yQhad"
      },
      "execution_count": 7,
      "outputs": []
    },
    {
      "cell_type": "code",
      "source": [
        "#Defining the constraints matrix\n",
        "constr_coef_A = np.array([[1, -1, 0, 0, 2, -2, 1, 0, 0, -1, 1, -2], \n",
        "              [1, 0, 0, -1, 0, -2, 0, -1, 1, 0, 0, -1],\n",
        "              [-1, 0, 0, 1, -1, 2.5, -3.5, 0, 2, -1, 1, 0],\n",
        "              [0, 1, -0.45, 0, -2.78, 0, -3.4, 0, -1, 1, -1, 0.25],\n",
        "              [0, -1, 1, 0, 1, 0, 1, 3, -2, 0, 1, 0]])"
      ],
      "metadata": {
        "id": "Cf2OTd0wREcS"
      },
      "execution_count": 10,
      "outputs": []
    },
    {
      "cell_type": "code",
      "source": [
        "#Creating the array for RHS of constraints\n",
        "constr_rhs_b = np.array([88.5, 35.4, 47.9, 41.43, 22.7]) "
      ],
      "metadata": {
        "id": "COIR_HnfSghf"
      },
      "execution_count": 11,
      "outputs": []
    },
    {
      "cell_type": "code",
      "source": [
        "#Setting the lower and upper bounds\n",
        "lower_bound = np.array([0, 0, -np.inf, -np.inf, -34, 0, -67, 0, -23, -5, 6, 1])\n",
        "upper_bound = np.array([12, 503, 4, np.inf, np.inf, 2, 20, 55, 23, 15, np.inf, np.inf])"
      ],
      "metadata": {
        "id": "TzyVZUieTchM"
      },
      "execution_count": 13,
      "outputs": []
    },
    {
      "cell_type": "code",
      "source": [
        "col_indices = np.arange(N)\n",
        "row_indices = np.arange(M)"
      ],
      "metadata": {
        "id": "vqRN18OuUMAt"
      },
      "execution_count": 14,
      "outputs": []
    },
    {
      "cell_type": "code",
      "source": [
        "#declare the decision variables in the model\n",
        "model.x = Var(col_indices)"
      ],
      "metadata": {
        "id": "1nibOSifWlDM"
      },
      "execution_count": 15,
      "outputs": []
    },
    {
      "cell_type": "code",
      "source": [
        "# create a ConstraintList to hold multiple constraints\n",
        "model.constraints = ConstraintList()"
      ],
      "metadata": {
        "id": "r6oiEYZ3W4YM"
      },
      "execution_count": 16,
      "outputs": []
    },
    {
      "cell_type": "code",
      "source": [
        "#Adding the constraints to the constraint list\n",
        "for i in row_indices:\n",
        "  model.constraints.add(sum(constr_coef_A[i][j]*model.x[j] for j in col_indices) <= constr_rhs_b[i])"
      ],
      "metadata": {
        "id": "ImDeloylW6Mq"
      },
      "execution_count": 18,
      "outputs": []
    },
    {
      "cell_type": "code",
      "source": [
        "for j in col_indices:\n",
        "  model.x[j].setlb(lower_bound[j])\n",
        "  model.x[j].setub(upper_bound[j])"
      ],
      "metadata": {
        "id": "6u1ZpKYGXbBt"
      },
      "execution_count": 19,
      "outputs": []
    },
    {
      "cell_type": "code",
      "source": [
        "# add the model objective\n",
        "model.objective = Objective(expr = sum(obj_coef_c[j]*model.x[j] for j in col_indices), sense=minimize)"
      ],
      "metadata": {
        "id": "FJZ8P4vWXnFI"
      },
      "execution_count": 20,
      "outputs": []
    },
    {
      "cell_type": "code",
      "source": [
        "model.pprint()"
      ],
      "metadata": {
        "colab": {
          "base_uri": "https://localhost:8080/"
        },
        "id": "ftMI-zUPXyOb",
        "outputId": "f24d6bf8-4477-4cd7-89a0-b391b60cd5f0"
      },
      "execution_count": 21,
      "outputs": [
        {
          "output_type": "stream",
          "name": "stdout",
          "text": [
            "2 Set Declarations\n",
            "    constraints_index : Size=1, Index=None, Ordered=Insertion\n",
            "        Key  : Dimen : Domain : Size : Members\n",
            "        None :     1 :    Any :    5 : {1, 2, 3, 4, 5}\n",
            "    x_index : Size=1, Index=None, Ordered=False\n",
            "        Key  : Dimen : Domain : Size : Members\n",
            "        None :     1 :    Any :   12 : {0, 1, 2, 3, 4, 5, 6, 7, 8, 9, 10, 11}\n",
            "\n",
            "1 Var Declarations\n",
            "    x : Size=12, Index=x_index\n",
            "        Key : Lower : Value : Upper : Fixed : Stale : Domain\n",
            "          0 :   0.0 :  None :  12.0 : False :  True :  Reals\n",
            "          1 :   0.0 :  None : 503.0 : False :  True :  Reals\n",
            "          2 :  None :  None :   4.0 : False :  True :  Reals\n",
            "          3 :  None :  None :  None : False :  True :  Reals\n",
            "          4 : -34.0 :  None :  None : False :  True :  Reals\n",
            "          5 :   0.0 :  None :   2.0 : False :  True :  Reals\n",
            "          6 : -67.0 :  None :  20.0 : False :  True :  Reals\n",
            "          7 :   0.0 :  None :  55.0 : False :  True :  Reals\n",
            "          8 : -23.0 :  None :  23.0 : False :  True :  Reals\n",
            "          9 :  -5.0 :  None :  15.0 : False :  True :  Reals\n",
            "         10 :   6.0 :  None :  None : False :  True :  Reals\n",
            "         11 :   1.0 :  None :  None : False :  True :  Reals\n",
            "\n",
            "1 Objective Declarations\n",
            "    objective : Size=1, Index=None, Active=True\n",
            "        Key  : Active : Sense    : Expression\n",
            "        None :   True : minimize : 0.56*x[0] + 1.721*x[1] - 9.6*x[2] - 2.85*x[3] + 41.5*x[4] + 33.05*x[5] - 0.75*x[6] + 20.5*x[7] - 0.35*x[8] - 31.02*x[9] + 50.65*x[10] + 6.125*x[11]\n",
            "\n",
            "1 Constraint Declarations\n",
            "    constraints : Size=5, Index=constraints_index, Active=True\n",
            "        Key : Lower : Body                                                                       : Upper : Active\n",
            "          1 :  -Inf :        x[0] - x[1] + 2.0*x[4] - 2.0*x[5] + x[6] - x[9] + x[10] - 2.0*x[11] :  88.5 :   True\n",
            "          2 :  -Inf :                               x[0] - x[3] - 2.0*x[5] - x[7] + x[8] - x[11] :  35.4 :   True\n",
            "          3 :  -Inf :       - x[0] + x[3] - x[4] + 2.5*x[5] - 3.5*x[6] + 2.0*x[8] - x[9] + x[10] :  47.9 :   True\n",
            "          4 :  -Inf : x[1] - 0.45*x[2] - 2.78*x[4] - 3.4*x[6] - x[8] + x[9] - x[10] + 0.25*x[11] : 41.43 :   True\n",
            "          5 :  -Inf :                  - x[1] + x[2] + x[4] + x[6] + 3.0*x[7] - 2.0*x[8] + x[10] :  22.7 :   True\n",
            "\n",
            "5 Declarations: x_index x constraints_index constraints objective\n"
          ]
        }
      ]
    },
    {
      "cell_type": "code",
      "source": [
        "!apt-get install -y -qq glpk-utils"
      ],
      "metadata": {
        "colab": {
          "base_uri": "https://localhost:8080/"
        },
        "id": "8cILYZUAX1EK",
        "outputId": "a70ed7ac-0f00-46cf-bf29-317731853d63"
      },
      "execution_count": 22,
      "outputs": [
        {
          "output_type": "stream",
          "name": "stdout",
          "text": [
            "Selecting previously unselected package libsuitesparseconfig5:amd64.\n",
            "(Reading database ... 155680 files and directories currently installed.)\n",
            "Preparing to unpack .../libsuitesparseconfig5_1%3a5.1.2-2_amd64.deb ...\n",
            "Unpacking libsuitesparseconfig5:amd64 (1:5.1.2-2) ...\n",
            "Selecting previously unselected package libamd2:amd64.\n",
            "Preparing to unpack .../libamd2_1%3a5.1.2-2_amd64.deb ...\n",
            "Unpacking libamd2:amd64 (1:5.1.2-2) ...\n",
            "Selecting previously unselected package libcolamd2:amd64.\n",
            "Preparing to unpack .../libcolamd2_1%3a5.1.2-2_amd64.deb ...\n",
            "Unpacking libcolamd2:amd64 (1:5.1.2-2) ...\n",
            "Selecting previously unselected package libglpk40:amd64.\n",
            "Preparing to unpack .../libglpk40_4.65-1_amd64.deb ...\n",
            "Unpacking libglpk40:amd64 (4.65-1) ...\n",
            "Selecting previously unselected package glpk-utils.\n",
            "Preparing to unpack .../glpk-utils_4.65-1_amd64.deb ...\n",
            "Unpacking glpk-utils (4.65-1) ...\n",
            "Setting up libsuitesparseconfig5:amd64 (1:5.1.2-2) ...\n",
            "Setting up libcolamd2:amd64 (1:5.1.2-2) ...\n",
            "Setting up libamd2:amd64 (1:5.1.2-2) ...\n",
            "Setting up libglpk40:amd64 (4.65-1) ...\n",
            "Setting up glpk-utils (4.65-1) ...\n",
            "Processing triggers for libc-bin (2.27-3ubuntu1.5) ...\n",
            "Processing triggers for man-db (2.8.3-2ubuntu0.1) ...\n"
          ]
        }
      ]
    },
    {
      "cell_type": "code",
      "source": [
        "SolverFactory('glpk', executable='/usr/bin/glpsol').solve(model).write()"
      ],
      "metadata": {
        "colab": {
          "base_uri": "https://localhost:8080/"
        },
        "id": "BVxFYLH8X7bW",
        "outputId": "130c8fd6-ee90-4f7b-97f6-eadc6ecd91ca"
      },
      "execution_count": 23,
      "outputs": [
        {
          "output_type": "stream",
          "name": "stdout",
          "text": [
            "# ==========================================================\n",
            "# = Solver Results                                         =\n",
            "# ==========================================================\n",
            "# ----------------------------------------------------------\n",
            "#   Problem Information\n",
            "# ----------------------------------------------------------\n",
            "Problem: \n",
            "- Name: unknown\n",
            "  Lower bound: -1951.831\n",
            "  Upper bound: -1951.831\n",
            "  Number of objectives: 1\n",
            "  Number of constraints: 6\n",
            "  Number of variables: 13\n",
            "  Number of nonzeros: 38\n",
            "  Sense: minimize\n",
            "# ----------------------------------------------------------\n",
            "#   Solver Information\n",
            "# ----------------------------------------------------------\n",
            "Solver: \n",
            "- Status: ok\n",
            "  Termination condition: optimal\n",
            "  Statistics: \n",
            "    Branch and bound: \n",
            "      Number of bounded subproblems: 0\n",
            "      Number of created subproblems: 0\n",
            "  Error rc: 0\n",
            "  Time: 0.01206207275390625\n",
            "# ----------------------------------------------------------\n",
            "#   Solution Information\n",
            "# ----------------------------------------------------------\n",
            "Solution: \n",
            "- number of solutions: 0\n",
            "  number of solutions displayed: 0\n"
          ]
        }
      ]
    },
    {
      "cell_type": "code",
      "source": [
        "# display solution\n",
        "print('\\nObjective = ', model.objective())\n",
        "\n",
        "print('\\nDecision Variables')\n",
        "for i in col_indices:\n",
        "  print('x[',i,'] = ', model.x[i].value)\n",
        "\n",
        "print('\\nConstraints')\n",
        "model.constraints.display()"
      ],
      "metadata": {
        "colab": {
          "base_uri": "https://localhost:8080/"
        },
        "id": "q2qCpSNjYMks",
        "outputId": "6678c7db-5aef-439a-e4bc-5f2e3351348b"
      },
      "execution_count": 24,
      "outputs": [
        {
          "output_type": "stream",
          "name": "stdout",
          "text": [
            "\n",
            "Objective =  -1951.8309999999997\n",
            "\n",
            "Decision Variables\n",
            "x[ 0 ] =  12.0\n",
            "x[ 1 ] =  0.0\n",
            "x[ 2 ] =  4.0\n",
            "x[ 3 ] =  119.82\n",
            "x[ 4 ] =  -34.0\n",
            "x[ 5 ] =  0.0\n",
            "x[ 6 ] =  20.0\n",
            "x[ 7 ] =  0.0\n",
            "x[ 8 ] =  -7.46000000000002\n",
            "x[ 9 ] =  15.0\n",
            "x[ 10 ] =  6.0\n",
            "x[ 11 ] =  1.0\n",
            "\n",
            "Constraints\n",
            "constraints : Size=5\n",
            "    Key : Lower : Body                : Upper\n",
            "      1 :  None :               -47.0 :  88.5\n",
            "      2 :  None : -116.28000000000002 :  35.4\n",
            "      3 :  None :   47.89999999999995 :  47.9\n",
            "      4 :  None :   41.43000000000002 : 41.43\n",
            "      5 :  None :   10.92000000000004 :  22.7\n"
          ]
        }
      ]
    },
    {
      "cell_type": "markdown",
      "source": [
        "$\\large{\\textbf{Answers:}}$\n",
        "\n",
        "$\\textbf{Objective Function Value = }-1951.831 \\\\ \\textbf{Value of decision variables:} \\\\ x_1 = 12 \\\\ x_2 = 0 \\\\ x_3 = 4 \\\\ x_4 = 119.82 \\\\ x_5 = -34 \\\\ x_6 = 0 \\\\ x_7 = 20 \\\\ x_8 = 0 \\\\ x_9 = -7.46 \\\\ x_{10} = 15 \\\\ x_{11} = 6 \\\\ x_{12} = 1$"
      ],
      "metadata": {
        "id": "hTbycJGcHEcn"
      }
    },
    {
      "cell_type": "markdown",
      "source": [
        "$\\textbf{2.2 Activity of constraints:}\\\\ \\textbf{Constraint 1: } \\text{It is inactive as its value is -47 which is strictly less than the RHS = 88.5.}\\\\ \\textbf{Constraint 2: } \\text{It is inactive as its value is -116.28 which is strictly less than the RHS = 35.4.} \\\\ \\textbf{Constraint 3: } \\text{It is active as its value is 47.9 which is exactly equal to the RHS.} \\\\ \\textbf{Constraint 4: } \\text{It is active as its value is 41.43 which is exactly equal to the RHS.} \\\\ \\textbf{Constraint 1: } \\text{It is inactive as its value is 10.92 which is strictly less than the RHS = 22.7.}$"
      ],
      "metadata": {
        "id": "rdxrxLA2I-GL"
      }
    },
    {
      "cell_type": "code",
      "source": [
        ""
      ],
      "metadata": {
        "id": "GaImDvCqKdeN"
      },
      "execution_count": null,
      "outputs": []
    }
  ]
}