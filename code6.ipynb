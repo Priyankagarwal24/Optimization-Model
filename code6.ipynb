{
  "nbformat": 4,
  "nbformat_minor": 0,
  "metadata": {
    "colab": {
      "name": "22N0453_IE507_Lab4_Ex2.ipynb",
      "provenance": [],
      "collapsed_sections": []
    },
    "kernelspec": {
      "name": "python3",
      "display_name": "Python 3"
    },
    "language_info": {
      "name": "python"
    }
  },
  "cells": [
    {
      "cell_type": "markdown",
      "source": [
        "$\\large{\\textbf{2.4 Formulation:}} \\\\ \\text{max } 11x_1 + 13x_2 + 9x_3 + 15x_4 + 12x_5 \\\\ \\text{s.t. } 6.5x_1 + 8x_2 + 10.5x_3 + 11.75x_4 + 14.5x_5 \\leq 78 \\\\ 5.75x_1 + 4.5x_2 + 3.75x_3 + 4.85x_4 + 3.45x_5 \\leq 84 \\\\ x_i \\in 𝐙 \\ ∀ \\ i = \\{1,2,3,4,5\\} \\\\ \\text{where } x_i \\text{'s are the number of drones bought of type i}$"
      ],
      "metadata": {
        "id": "durK4bHrh_l4"
      }
    },
    {
      "cell_type": "code",
      "execution_count": 245,
      "metadata": {
        "id": "k1ct1V4aN1_y"
      },
      "outputs": [],
      "source": [
        "!pip install -q pyomo"
      ]
    },
    {
      "cell_type": "code",
      "source": [
        "from pyomo.environ import *"
      ],
      "metadata": {
        "id": "G94IRWUHOFlA"
      },
      "execution_count": 246,
      "outputs": []
    },
    {
      "cell_type": "code",
      "source": [
        "import numpy as np"
      ],
      "metadata": {
        "id": "Ua5uHRuNOKGh"
      },
      "execution_count": 247,
      "outputs": []
    },
    {
      "cell_type": "code",
      "source": [
        "import pandas as pd"
      ],
      "metadata": {
        "id": "z6YW0770PKF-"
      },
      "execution_count": 248,
      "outputs": []
    },
    {
      "cell_type": "code",
      "source": [
        "data_csvfile = pd.read_csv('lab4_ex3.csv')"
      ],
      "metadata": {
        "id": "U8sMUjC7PN-L"
      },
      "execution_count": 249,
      "outputs": []
    },
    {
      "cell_type": "code",
      "source": [
        "print(type(data_csvfile))"
      ],
      "metadata": {
        "colab": {
          "base_uri": "https://localhost:8080/"
        },
        "id": "H6rxnPN4Peay",
        "outputId": "17729f94-39c2-4e78-db4c-4dc7a86fbd0d"
      },
      "execution_count": 250,
      "outputs": [
        {
          "output_type": "stream",
          "name": "stdout",
          "text": [
            "<class 'pandas.core.frame.DataFrame'>\n"
          ]
        }
      ]
    },
    {
      "cell_type": "code",
      "source": [
        "data_csvfile.columns"
      ],
      "metadata": {
        "colab": {
          "base_uri": "https://localhost:8080/"
        },
        "id": "76PAkOSmPjqI",
        "outputId": "c7003212-ba73-42c3-8fd0-ad28617df2ba"
      },
      "execution_count": 251,
      "outputs": [
        {
          "output_type": "execute_result",
          "data": {
            "text/plain": [
              "Index(['Drone Model', 'Capacity', 'Cost', 'Parking Space'], dtype='object')"
            ]
          },
          "metadata": {},
          "execution_count": 251
        }
      ]
    },
    {
      "cell_type": "code",
      "source": [
        "data_csvfile.index"
      ],
      "metadata": {
        "colab": {
          "base_uri": "https://localhost:8080/"
        },
        "id": "a48O81FBRniE",
        "outputId": "775ef9e4-8c4d-4e6e-ca58-f622322bd4b4"
      },
      "execution_count": 252,
      "outputs": [
        {
          "output_type": "execute_result",
          "data": {
            "text/plain": [
              "RangeIndex(start=0, stop=5, step=1)"
            ]
          },
          "metadata": {},
          "execution_count": 252
        }
      ]
    },
    {
      "cell_type": "code",
      "source": [
        "data_csvfile[1:2]"
      ],
      "metadata": {
        "colab": {
          "base_uri": "https://localhost:8080/",
          "height": 81
        },
        "id": "D8l9iXNkRqUU",
        "outputId": "5b5bd41c-ae8b-412f-cec8-003c1b0e7216"
      },
      "execution_count": 253,
      "outputs": [
        {
          "output_type": "execute_result",
          "data": {
            "text/plain": [
              "  Drone Model  Capacity  Cost  Parking Space\n",
              "1      Dharan        13   8.0            4.5"
            ],
            "text/html": [
              "\n",
              "  <div id=\"df-e1b7c96d-0276-4d65-9c71-46aa23f5e51b\">\n",
              "    <div class=\"colab-df-container\">\n",
              "      <div>\n",
              "<style scoped>\n",
              "    .dataframe tbody tr th:only-of-type {\n",
              "        vertical-align: middle;\n",
              "    }\n",
              "\n",
              "    .dataframe tbody tr th {\n",
              "        vertical-align: top;\n",
              "    }\n",
              "\n",
              "    .dataframe thead th {\n",
              "        text-align: right;\n",
              "    }\n",
              "</style>\n",
              "<table border=\"1\" class=\"dataframe\">\n",
              "  <thead>\n",
              "    <tr style=\"text-align: right;\">\n",
              "      <th></th>\n",
              "      <th>Drone Model</th>\n",
              "      <th>Capacity</th>\n",
              "      <th>Cost</th>\n",
              "      <th>Parking Space</th>\n",
              "    </tr>\n",
              "  </thead>\n",
              "  <tbody>\n",
              "    <tr>\n",
              "      <th>1</th>\n",
              "      <td>Dharan</td>\n",
              "      <td>13</td>\n",
              "      <td>8.0</td>\n",
              "      <td>4.5</td>\n",
              "    </tr>\n",
              "  </tbody>\n",
              "</table>\n",
              "</div>\n",
              "      <button class=\"colab-df-convert\" onclick=\"convertToInteractive('df-e1b7c96d-0276-4d65-9c71-46aa23f5e51b')\"\n",
              "              title=\"Convert this dataframe to an interactive table.\"\n",
              "              style=\"display:none;\">\n",
              "        \n",
              "  <svg xmlns=\"http://www.w3.org/2000/svg\" height=\"24px\"viewBox=\"0 0 24 24\"\n",
              "       width=\"24px\">\n",
              "    <path d=\"M0 0h24v24H0V0z\" fill=\"none\"/>\n",
              "    <path d=\"M18.56 5.44l.94 2.06.94-2.06 2.06-.94-2.06-.94-.94-2.06-.94 2.06-2.06.94zm-11 1L8.5 8.5l.94-2.06 2.06-.94-2.06-.94L8.5 2.5l-.94 2.06-2.06.94zm10 10l.94 2.06.94-2.06 2.06-.94-2.06-.94-.94-2.06-.94 2.06-2.06.94z\"/><path d=\"M17.41 7.96l-1.37-1.37c-.4-.4-.92-.59-1.43-.59-.52 0-1.04.2-1.43.59L10.3 9.45l-7.72 7.72c-.78.78-.78 2.05 0 2.83L4 21.41c.39.39.9.59 1.41.59.51 0 1.02-.2 1.41-.59l7.78-7.78 2.81-2.81c.8-.78.8-2.07 0-2.86zM5.41 20L4 18.59l7.72-7.72 1.47 1.35L5.41 20z\"/>\n",
              "  </svg>\n",
              "      </button>\n",
              "      \n",
              "  <style>\n",
              "    .colab-df-container {\n",
              "      display:flex;\n",
              "      flex-wrap:wrap;\n",
              "      gap: 12px;\n",
              "    }\n",
              "\n",
              "    .colab-df-convert {\n",
              "      background-color: #E8F0FE;\n",
              "      border: none;\n",
              "      border-radius: 50%;\n",
              "      cursor: pointer;\n",
              "      display: none;\n",
              "      fill: #1967D2;\n",
              "      height: 32px;\n",
              "      padding: 0 0 0 0;\n",
              "      width: 32px;\n",
              "    }\n",
              "\n",
              "    .colab-df-convert:hover {\n",
              "      background-color: #E2EBFA;\n",
              "      box-shadow: 0px 1px 2px rgba(60, 64, 67, 0.3), 0px 1px 3px 1px rgba(60, 64, 67, 0.15);\n",
              "      fill: #174EA6;\n",
              "    }\n",
              "\n",
              "    [theme=dark] .colab-df-convert {\n",
              "      background-color: #3B4455;\n",
              "      fill: #D2E3FC;\n",
              "    }\n",
              "\n",
              "    [theme=dark] .colab-df-convert:hover {\n",
              "      background-color: #434B5C;\n",
              "      box-shadow: 0px 1px 3px 1px rgba(0, 0, 0, 0.15);\n",
              "      filter: drop-shadow(0px 1px 2px rgba(0, 0, 0, 0.3));\n",
              "      fill: #FFFFFF;\n",
              "    }\n",
              "  </style>\n",
              "\n",
              "      <script>\n",
              "        const buttonEl =\n",
              "          document.querySelector('#df-e1b7c96d-0276-4d65-9c71-46aa23f5e51b button.colab-df-convert');\n",
              "        buttonEl.style.display =\n",
              "          google.colab.kernel.accessAllowed ? 'block' : 'none';\n",
              "\n",
              "        async function convertToInteractive(key) {\n",
              "          const element = document.querySelector('#df-e1b7c96d-0276-4d65-9c71-46aa23f5e51b');\n",
              "          const dataTable =\n",
              "            await google.colab.kernel.invokeFunction('convertToInteractive',\n",
              "                                                     [key], {});\n",
              "          if (!dataTable) return;\n",
              "\n",
              "          const docLinkHtml = 'Like what you see? Visit the ' +\n",
              "            '<a target=\"_blank\" href=https://colab.research.google.com/notebooks/data_table.ipynb>data table notebook</a>'\n",
              "            + ' to learn more about interactive tables.';\n",
              "          element.innerHTML = '';\n",
              "          dataTable['output_type'] = 'display_data';\n",
              "          await google.colab.output.renderOutput(dataTable, element);\n",
              "          const docLink = document.createElement('div');\n",
              "          docLink.innerHTML = docLinkHtml;\n",
              "          element.appendChild(docLink);\n",
              "        }\n",
              "      </script>\n",
              "    </div>\n",
              "  </div>\n",
              "  "
            ]
          },
          "metadata": {},
          "execution_count": 253
        }
      ]
    },
    {
      "cell_type": "code",
      "source": [
        "data_csvfile['Drone Model']"
      ],
      "metadata": {
        "colab": {
          "base_uri": "https://localhost:8080/"
        },
        "id": "7rNO0R8uTSuD",
        "outputId": "b9304104-84c6-40bd-8bae-68c7f3733408"
      },
      "execution_count": 254,
      "outputs": [
        {
          "output_type": "execute_result",
          "data": {
            "text/plain": [
              "0     Shrey\n",
              "1    Dharan\n",
              "2     Satva\n",
              "3     Adhya\n",
              "4    Pravat\n",
              "Name: Drone Model, dtype: object"
            ]
          },
          "metadata": {},
          "execution_count": 254
        }
      ]
    },
    {
      "cell_type": "code",
      "source": [
        "N = len(data_csvfile.index)"
      ],
      "metadata": {
        "id": "LvlLhU41U7P-"
      },
      "execution_count": 255,
      "outputs": []
    },
    {
      "cell_type": "code",
      "source": [
        "M = 2 #no of constraints"
      ],
      "metadata": {
        "id": "X7HMWmwIVV4M"
      },
      "execution_count": 256,
      "outputs": []
    },
    {
      "cell_type": "code",
      "source": [
        "col_indices = np.arange(N)"
      ],
      "metadata": {
        "id": "w2JKVfeoVl7k"
      },
      "execution_count": 257,
      "outputs": []
    },
    {
      "cell_type": "code",
      "source": [
        "model_ex2 = ConcreteModel()"
      ],
      "metadata": {
        "id": "xD0wluMyVaS8"
      },
      "execution_count": 258,
      "outputs": []
    },
    {
      "cell_type": "code",
      "source": [
        "model_ex2.x = Var(col_indices,domain=NonNegativeIntegers)"
      ],
      "metadata": {
        "id": "50dfug7IVhj7"
      },
      "execution_count": 259,
      "outputs": []
    },
    {
      "cell_type": "markdown",
      "source": [
        "$\\text{Here all the variables are taken integers as the number of drones bought cannot be in floating type.}$"
      ],
      "metadata": {
        "id": "lfkBsr5p2Esd"
      }
    },
    {
      "cell_type": "code",
      "source": [
        "model_ex2.obj = Objective(expr = summation(data_csvfile['Capacity'],model_ex2.x),sense=maximize)"
      ],
      "metadata": {
        "id": "1g1Dy8ssVrMv"
      },
      "execution_count": 260,
      "outputs": []
    },
    {
      "cell_type": "code",
      "source": [
        "model_ex2.const = ConstraintList()"
      ],
      "metadata": {
        "id": "4AloRzcgV7Mb"
      },
      "execution_count": 261,
      "outputs": []
    },
    {
      "cell_type": "code",
      "source": [
        "model_ex2.const.add(expr = summation(data_csvfile['Cost'],model_ex2.x) <= 78)\n",
        "model_ex2.const.add(expr = summation(data_csvfile['Parking Space'],model_ex2.x) <= 84)"
      ],
      "metadata": {
        "colab": {
          "base_uri": "https://localhost:8080/"
        },
        "id": "uXPFFgp0WdoK",
        "outputId": "83a6233a-b3fd-41be-9054-c5ee7d04c35c"
      },
      "execution_count": 262,
      "outputs": [
        {
          "output_type": "execute_result",
          "data": {
            "text/plain": [
              "<pyomo.core.base.constraint._GeneralConstraintData at 0x7f705a3fdad0>"
            ]
          },
          "metadata": {},
          "execution_count": 262
        }
      ]
    },
    {
      "cell_type": "code",
      "source": [
        "model_ex2.pprint()"
      ],
      "metadata": {
        "colab": {
          "base_uri": "https://localhost:8080/"
        },
        "id": "N3yoerl7W7Ru",
        "outputId": "2f664b87-ff16-4289-9d59-e463e7e86c83"
      },
      "execution_count": 263,
      "outputs": [
        {
          "output_type": "stream",
          "name": "stdout",
          "text": [
            "2 Set Declarations\n",
            "    const_index : Size=1, Index=None, Ordered=Insertion\n",
            "        Key  : Dimen : Domain : Size : Members\n",
            "        None :     1 :    Any :    2 : {1, 2}\n",
            "    x_index : Size=1, Index=None, Ordered=False\n",
            "        Key  : Dimen : Domain : Size : Members\n",
            "        None :     1 :    Any :    5 : {0, 1, 2, 3, 4}\n",
            "\n",
            "1 Var Declarations\n",
            "    x : Size=5, Index=x_index\n",
            "        Key : Lower : Value : Upper : Fixed : Stale : Domain\n",
            "          0 :     0 :  None :  None : False :  True : NonNegativeIntegers\n",
            "          1 :     0 :  None :  None : False :  True : NonNegativeIntegers\n",
            "          2 :     0 :  None :  None : False :  True : NonNegativeIntegers\n",
            "          3 :     0 :  None :  None : False :  True : NonNegativeIntegers\n",
            "          4 :     0 :  None :  None : False :  True : NonNegativeIntegers\n",
            "\n",
            "1 Objective Declarations\n",
            "    obj : Size=1, Index=None, Active=True\n",
            "        Key  : Active : Sense    : Expression\n",
            "        None :   True : maximize : 11*x[0] + 13*x[1] + 9*x[2] + 15*x[3] + 12*x[4]\n",
            "\n",
            "1 Constraint Declarations\n",
            "    const : Size=2, Index=const_index, Active=True\n",
            "        Key : Lower : Body                                                     : Upper : Active\n",
            "          1 :  -Inf : 6.5*x[0] + 8.0*x[1] + 10.5*x[2] + 11.75*x[3] + 14.5*x[4] :  78.0 :   True\n",
            "          2 :  -Inf : 5.75*x[0] + 4.5*x[1] + 3.75*x[2] + 4.85*x[3] + 3.45*x[4] :  84.0 :   True\n",
            "\n",
            "5 Declarations: x_index x obj const_index const\n"
          ]
        }
      ]
    },
    {
      "cell_type": "code",
      "source": [
        "!apt-get install -y -qq coinor-cbc"
      ],
      "metadata": {
        "id": "b83u-E-7W9sy"
      },
      "execution_count": 264,
      "outputs": []
    },
    {
      "cell_type": "code",
      "source": [
        "opt_cbc = SolverFactory('cbc')"
      ],
      "metadata": {
        "id": "rggIZRrDX5XA"
      },
      "execution_count": 265,
      "outputs": []
    },
    {
      "cell_type": "code",
      "source": [
        "result = opt_cbc.solve(model_ex2)\n",
        "print('Solver status:', result.solver.status)\n",
        "print('Solver termination condition:',result.solver.termination_condition)"
      ],
      "metadata": {
        "colab": {
          "base_uri": "https://localhost:8080/"
        },
        "id": "WFxSfZECX_PK",
        "outputId": "c5486a99-4cc7-4cca-a2c2-0b688d1ca18c"
      },
      "execution_count": 266,
      "outputs": [
        {
          "output_type": "stream",
          "name": "stdout",
          "text": [
            "Solver status: ok\n",
            "Solver termination condition: optimal\n"
          ]
        }
      ]
    },
    {
      "cell_type": "code",
      "source": [
        "print('\\nObjective = ', model_ex2.obj())\n",
        "\n",
        "print('\\nDecision Variables')\n",
        "for i in col_indices:\n",
        "  print('Number of Drone',data_csvfile['Drone Model'][i], model_ex2.x[i].value)\n",
        "\n",
        "print('\\nConstraints')\n",
        "model_ex2.const.display()"
      ],
      "metadata": {
        "colab": {
          "base_uri": "https://localhost:8080/"
        },
        "id": "9XzmmyTqYDGY",
        "outputId": "0ed8bd2d-9e09-4a09-903f-dfb4621c4bd3"
      },
      "execution_count": 267,
      "outputs": [
        {
          "output_type": "stream",
          "name": "stdout",
          "text": [
            "\n",
            "Objective =  132.0\n",
            "\n",
            "Decision Variables\n",
            "Number of Drone Shrey 12.0\n",
            "Number of Drone Dharan 0.0\n",
            "Number of Drone Satva 0.0\n",
            "Number of Drone Adhya 0.0\n",
            "Number of Drone Pravat 0.0\n",
            "\n",
            "Constraints\n",
            "const : Size=2\n",
            "    Key : Lower : Body : Upper\n",
            "      1 :  None : 78.0 :  78.0\n",
            "      2 :  None : 69.0 :  84.0\n"
          ]
        }
      ]
    },
    {
      "cell_type": "markdown",
      "source": [
        "$\\large{\\textbf{Answer 2.6 :}} \\\\ \\text{Maximum carrying capacity/Objective Function value = } 132 \\text{ kgs.} \\\\ \\text{Value of decision variables:} \\\\ x_1 = 12 \\\\ x_2 =0 \\\\ x_3 = 0 \\\\ x_4 =0 \\\\ x_5 = 0 $"
      ],
      "metadata": {
        "id": "QxATJhYWimZm"
      }
    },
    {
      "cell_type": "code",
      "source": [
        "model_ex2.x.domain=NonNegativeReals"
      ],
      "metadata": {
        "id": "ghWPABTPYJk0"
      },
      "execution_count": 268,
      "outputs": []
    },
    {
      "cell_type": "code",
      "source": [
        "model_ex2.pprint()"
      ],
      "metadata": {
        "colab": {
          "base_uri": "https://localhost:8080/"
        },
        "id": "I7JCZ7LybP1W",
        "outputId": "47aa80c1-de39-4802-e8cd-8c34f33943db"
      },
      "execution_count": 269,
      "outputs": [
        {
          "output_type": "stream",
          "name": "stdout",
          "text": [
            "2 Set Declarations\n",
            "    const_index : Size=1, Index=None, Ordered=Insertion\n",
            "        Key  : Dimen : Domain : Size : Members\n",
            "        None :     1 :    Any :    2 : {1, 2}\n",
            "    x_index : Size=1, Index=None, Ordered=False\n",
            "        Key  : Dimen : Domain : Size : Members\n",
            "        None :     1 :    Any :    5 : {0, 1, 2, 3, 4}\n",
            "\n",
            "1 Var Declarations\n",
            "    x : Size=5, Index=x_index\n",
            "        Key : Lower : Value : Upper : Fixed : Stale : Domain\n",
            "          0 :     0 :  12.0 :  None : False : False : NonNegativeReals\n",
            "          1 :     0 :   0.0 :  None : False : False : NonNegativeReals\n",
            "          2 :     0 :   0.0 :  None : False : False : NonNegativeReals\n",
            "          3 :     0 :   0.0 :  None : False : False : NonNegativeReals\n",
            "          4 :     0 :   0.0 :  None : False : False : NonNegativeReals\n",
            "\n",
            "1 Objective Declarations\n",
            "    obj : Size=1, Index=None, Active=True\n",
            "        Key  : Active : Sense    : Expression\n",
            "        None :   True : maximize : 11*x[0] + 13*x[1] + 9*x[2] + 15*x[3] + 12*x[4]\n",
            "\n",
            "1 Constraint Declarations\n",
            "    const : Size=2, Index=const_index, Active=True\n",
            "        Key : Lower : Body                                                     : Upper : Active\n",
            "          1 :  -Inf : 6.5*x[0] + 8.0*x[1] + 10.5*x[2] + 11.75*x[3] + 14.5*x[4] :  78.0 :   True\n",
            "          2 :  -Inf : 5.75*x[0] + 4.5*x[1] + 3.75*x[2] + 4.85*x[3] + 3.45*x[4] :  84.0 :   True\n",
            "\n",
            "5 Declarations: x_index x obj const_index const\n"
          ]
        }
      ]
    },
    {
      "cell_type": "code",
      "source": [
        "result = opt_cbc.solve(model_ex2)\n",
        "print('Solver status:', result.solver.status)\n",
        "print('Solver termination condition:',result.solver.termination_condition)"
      ],
      "metadata": {
        "colab": {
          "base_uri": "https://localhost:8080/"
        },
        "id": "U3r17zxPbS82",
        "outputId": "6bc74496-6ba4-4b6c-c4a7-20cc4af63751"
      },
      "execution_count": 270,
      "outputs": [
        {
          "output_type": "stream",
          "name": "stdout",
          "text": [
            "Solver status: ok\n",
            "Solver termination condition: optimal\n"
          ]
        }
      ]
    },
    {
      "cell_type": "code",
      "source": [
        "print('\\nObjective = ', model_ex2.obj())\n",
        "\n",
        "print('\\nDecision Variables')\n",
        "for i in col_indices:\n",
        "  print('Number of Drone',data_csvfile['Drone Model'][i], model_ex2.x[i].value)\n",
        "\n",
        "print('\\nConstraints')\n",
        "model_ex2.const.display()"
      ],
      "metadata": {
        "colab": {
          "base_uri": "https://localhost:8080/"
        },
        "id": "GRsnUa1lbWvM",
        "outputId": "4fa28192-dc7c-4afe-db08-b4696b7ba246"
      },
      "execution_count": 271,
      "outputs": [
        {
          "output_type": "stream",
          "name": "stdout",
          "text": [
            "\n",
            "Objective =  132.0\n",
            "\n",
            "Decision Variables\n",
            "Number of Drone Shrey 12.0\n",
            "Number of Drone Dharan 0.0\n",
            "Number of Drone Satva 0.0\n",
            "Number of Drone Adhya 0.0\n",
            "Number of Drone Pravat 0.0\n",
            "\n",
            "Constraints\n",
            "const : Size=2\n",
            "    Key : Lower : Body : Upper\n",
            "      1 :  None : 78.0 :  78.0\n",
            "      2 :  None : 69.0 :  84.0\n"
          ]
        }
      ]
    },
    {
      "cell_type": "markdown",
      "source": [
        "$\\large{\\textbf{Answer 2.7 :}} \\\\ \\text{Maximum carrying capacity/Objective Function value = } 132 \\text{ kgs.} \\\\ \\text{Value of decision variables:} \\\\ x_1 = 12 \\\\ x_2 =0 \\\\ x_3 = 0 \\\\ x_4 =0 \\\\ x_5 = 0 $"
      ],
      "metadata": {
        "id": "MjenPHv6kCVr"
      }
    },
    {
      "cell_type": "markdown",
      "source": [
        "$\\large{\\textbf{Answer 2.8 : }} \\\\ \\text{No,in general the solution of the MILP cannot be obtained by merely rounding off the solution of the Linear Program.} \\\\ \\text{There can be cases where the solution obtained by the process are feasible but far off from the optimal solution} \\\\ \\text{and in some cases after rounding off the solution might also get out of the feasible region.} \\\\ \\text{In this case the solution is coming out to be same as the cost constraint is active} \\\\ \\text{i.e. the cost is completely utilized so no new drones can be bought in order to increase the carrying capacity.}$"
      ],
      "metadata": {
        "id": "hzVpQtu2kU65"
      }
    },
    {
      "cell_type": "markdown",
      "source": [
        "$\\large{\\textbf{Answer 2.9 :}} \\\\ \\text{Here we are reducing the budget to 76 crores and parking space is increased to 87 sq. units.}$"
      ],
      "metadata": {
        "id": "qsDQH4SWlKOB"
      }
    },
    {
      "cell_type": "code",
      "source": [
        "model_ex2.const[1].deactivate()\n",
        "model_ex2.const[2].deactivate()\n",
        "model_ex2.const.add(expr = summation(data_csvfile['Cost'],model_ex2.x) <= 76)\n",
        "model_ex2.const.add(expr = summation(data_csvfile['Parking Space'],model_ex2.x) <= 87)"
      ],
      "metadata": {
        "colab": {
          "base_uri": "https://localhost:8080/"
        },
        "id": "RIxRs178c1D1",
        "outputId": "d07869e2-751a-4de3-c3f9-0c5d7c4c39d2"
      },
      "execution_count": 272,
      "outputs": [
        {
          "output_type": "execute_result",
          "data": {
            "text/plain": [
              "<pyomo.core.base.constraint._GeneralConstraintData at 0x7f705a421de0>"
            ]
          },
          "metadata": {},
          "execution_count": 272
        }
      ]
    },
    {
      "cell_type": "code",
      "source": [
        "model_ex2.pprint()"
      ],
      "metadata": {
        "colab": {
          "base_uri": "https://localhost:8080/"
        },
        "id": "KwTKNN1RbZNW",
        "outputId": "eba1de0d-631f-4275-c7ae-247599284349"
      },
      "execution_count": 273,
      "outputs": [
        {
          "output_type": "stream",
          "name": "stdout",
          "text": [
            "2 Set Declarations\n",
            "    const_index : Size=1, Index=None, Ordered=Insertion\n",
            "        Key  : Dimen : Domain : Size : Members\n",
            "        None :     1 :    Any :    4 : {1, 2, 3, 4}\n",
            "    x_index : Size=1, Index=None, Ordered=False\n",
            "        Key  : Dimen : Domain : Size : Members\n",
            "        None :     1 :    Any :    5 : {0, 1, 2, 3, 4}\n",
            "\n",
            "1 Var Declarations\n",
            "    x : Size=5, Index=x_index\n",
            "        Key : Lower : Value : Upper : Fixed : Stale : Domain\n",
            "          0 :     0 :  12.0 :  None : False : False : NonNegativeReals\n",
            "          1 :     0 :   0.0 :  None : False : False : NonNegativeReals\n",
            "          2 :     0 :   0.0 :  None : False : False : NonNegativeReals\n",
            "          3 :     0 :   0.0 :  None : False : False : NonNegativeReals\n",
            "          4 :     0 :   0.0 :  None : False : False : NonNegativeReals\n",
            "\n",
            "1 Objective Declarations\n",
            "    obj : Size=1, Index=None, Active=True\n",
            "        Key  : Active : Sense    : Expression\n",
            "        None :   True : maximize : 11*x[0] + 13*x[1] + 9*x[2] + 15*x[3] + 12*x[4]\n",
            "\n",
            "1 Constraint Declarations\n",
            "    const : Size=4, Index=const_index, Active=True\n",
            "        Key : Lower : Body                                                     : Upper : Active\n",
            "          1 :  -Inf : 6.5*x[0] + 8.0*x[1] + 10.5*x[2] + 11.75*x[3] + 14.5*x[4] :  78.0 :  False\n",
            "          2 :  -Inf : 5.75*x[0] + 4.5*x[1] + 3.75*x[2] + 4.85*x[3] + 3.45*x[4] :  84.0 :  False\n",
            "          3 :  -Inf : 6.5*x[0] + 8.0*x[1] + 10.5*x[2] + 11.75*x[3] + 14.5*x[4] :  76.0 :   True\n",
            "          4 :  -Inf : 5.75*x[0] + 4.5*x[1] + 3.75*x[2] + 4.85*x[3] + 3.45*x[4] :  87.0 :   True\n",
            "\n",
            "5 Declarations: x_index x obj const_index const\n"
          ]
        }
      ]
    },
    {
      "cell_type": "code",
      "source": [
        "result = opt_cbc.solve(model_ex2)\n",
        "print('Solver status:', result.solver.status)\n",
        "print('Solver termination condition:',result.solver.termination_condition)"
      ],
      "metadata": {
        "colab": {
          "base_uri": "https://localhost:8080/"
        },
        "id": "s17_5IvDdWNo",
        "outputId": "554f2f2a-b7d1-4833-f9bf-c87898e3e3c4"
      },
      "execution_count": 274,
      "outputs": [
        {
          "output_type": "stream",
          "name": "stdout",
          "text": [
            "Solver status: ok\n",
            "Solver termination condition: optimal\n"
          ]
        }
      ]
    },
    {
      "cell_type": "code",
      "source": [
        "print('\\nObjective = ', model_ex2.obj())\n",
        "\n",
        "print('\\nDecision Variables')\n",
        "for i in col_indices:\n",
        "  print('Number of Drone',data_csvfile['Drone Model'][i], model_ex2.x[i].value)\n",
        "\n",
        "print('\\nConstraints')\n",
        "model_ex2.const.display()"
      ],
      "metadata": {
        "colab": {
          "base_uri": "https://localhost:8080/"
        },
        "id": "RCgzz3lUdYO6",
        "outputId": "80cfdb79-a54b-4bb2-eb2f-10e2a6958407"
      },
      "execution_count": 275,
      "outputs": [
        {
          "output_type": "stream",
          "name": "stdout",
          "text": [
            "\n",
            "Objective =  128.615388\n",
            "\n",
            "Decision Variables\n",
            "Number of Drone Shrey 11.692308\n",
            "Number of Drone Dharan 0.0\n",
            "Number of Drone Satva 0.0\n",
            "Number of Drone Adhya 0.0\n",
            "Number of Drone Pravat 0.0\n",
            "\n",
            "Constraints\n",
            "const : Size=4\n",
            "    Key : Lower : Body              : Upper\n",
            "      3 :  None : 76.00000200000001 :  76.0\n",
            "      4 :  None :         67.230771 :  87.0\n"
          ]
        }
      ]
    },
    {
      "cell_type": "markdown",
      "source": [
        "$\\large{\\textbf{For LP:}} \\\\ \\text{Maximum carrying capacity/Objective Function value = } 128.615388 \\text{ kgs.} \\\\ \\text{Value of decision variables:} \\\\ x_1 = 11.692308 \\\\ x_2 =0 \\\\ x_3 = 0 \\\\ x_4 =0 \\\\ x_5 = 0 $"
      ],
      "metadata": {
        "id": "_jaj0FWUmBBe"
      }
    },
    {
      "cell_type": "code",
      "source": [
        "model_ex2.x.domain=NonNegativeIntegers"
      ],
      "metadata": {
        "id": "hEXi0X0GdcDE"
      },
      "execution_count": 276,
      "outputs": []
    },
    {
      "cell_type": "code",
      "source": [
        "result = opt_cbc.solve(model_ex2)\n",
        "print('Solver status:', result.solver.status)\n",
        "print('Solver termination condition:',result.solver.termination_condition)"
      ],
      "metadata": {
        "colab": {
          "base_uri": "https://localhost:8080/"
        },
        "id": "ezT049JudioZ",
        "outputId": "42d20d6b-4532-4402-b4f7-406c953f6c34"
      },
      "execution_count": 277,
      "outputs": [
        {
          "output_type": "stream",
          "name": "stdout",
          "text": [
            "Solver status: ok\n",
            "Solver termination condition: optimal\n"
          ]
        }
      ]
    },
    {
      "cell_type": "code",
      "source": [
        "print('\\nObjective = ', model_ex2.obj())\n",
        "\n",
        "print('\\nDecision Variables')\n",
        "for i in col_indices:\n",
        "  print('Number of Drone',data_csvfile['Drone Model'][i], model_ex2.x[i].value)\n",
        "\n",
        "print('\\nConstraints')\n",
        "model_ex2.const.display()"
      ],
      "metadata": {
        "colab": {
          "base_uri": "https://localhost:8080/"
        },
        "id": "jlT4RAuFdl5o",
        "outputId": "b9184840-19d9-4eba-d919-0a2de87751d7"
      },
      "execution_count": 278,
      "outputs": [
        {
          "output_type": "stream",
          "name": "stdout",
          "text": [
            "\n",
            "Objective =  127.0\n",
            "\n",
            "Decision Variables\n",
            "Number of Drone Shrey 8.0\n",
            "Number of Drone Dharan 3.0\n",
            "Number of Drone Satva 0.0\n",
            "Number of Drone Adhya 0.0\n",
            "Number of Drone Pravat 0.0\n",
            "\n",
            "Constraints\n",
            "const : Size=4\n",
            "    Key : Lower : Body : Upper\n",
            "      3 :  None : 76.0 :  76.0\n",
            "      4 :  None : 59.5 :  87.0\n"
          ]
        }
      ]
    },
    {
      "cell_type": "markdown",
      "source": [
        "$\\large{\\textbf{For MILP:}} \\\\ \\text{Maximum carrying capacity/Objective Function value = } 127 \\text{ kgs.} \\\\ \\text{Value of decision variables:} \\\\ x_1 = 8 \\\\ x_2 =3 \\\\ x_3 = 0 \\\\ x_4 =0 \\\\ x_5 = 0 \\\\ \\text{Here we can observe that we get different solutions on rounding off the solution of the LP and the modified MILP.}\\\\ \\text{Hence in general rounding off the solutions of the LP to get the solution of the MILP is incorrect.}$"
      ],
      "metadata": {
        "id": "laku6GYNmLw4"
      }
    },
    {
      "cell_type": "markdown",
      "source": [
        "$\\text{Here we can observe that the budget constraint is acting as the dominant constraint.} \\\\ \\text{On reducing the budget, we observe that the maximum carrying capacity is also decreasing in both the cases.}$"
      ],
      "metadata": {
        "id": "aPvjooD1--wE"
      }
    },
    {
      "cell_type": "markdown",
      "source": [
        "$\\large{\\textbf{Answer 2.10 : }} \\\\ \\textbf{Case 1: } \\\\ \\text{Budget Constraint = 74 crores } \\\\ \\text{Parking Space constraint = 88 sq. m.}$"
      ],
      "metadata": {
        "id": "6h3sj0FX3d5p"
      }
    },
    {
      "cell_type": "code",
      "source": [
        "model_ex2.const[3].deactivate()\n",
        "model_ex2.const[4].deactivate()\n",
        "model_ex2.const.add(expr = summation(data_csvfile['Cost'],model_ex2.x) <= 74)\n",
        "model_ex2.const.add(expr = summation(data_csvfile['Parking Space'],model_ex2.x) <= 88)"
      ],
      "metadata": {
        "colab": {
          "base_uri": "https://localhost:8080/"
        },
        "id": "i3MqQRstdn4n",
        "outputId": "768985ec-7ae7-4743-ee92-23f52cd2e8f2"
      },
      "execution_count": 279,
      "outputs": [
        {
          "output_type": "execute_result",
          "data": {
            "text/plain": [
              "<pyomo.core.base.constraint._GeneralConstraintData at 0x7f705a3fd360>"
            ]
          },
          "metadata": {},
          "execution_count": 279
        }
      ]
    },
    {
      "cell_type": "code",
      "source": [
        "model_ex2.pprint()"
      ],
      "metadata": {
        "colab": {
          "base_uri": "https://localhost:8080/"
        },
        "id": "kytxdnxcd3oq",
        "outputId": "a82849b3-d30b-4572-c405-29470d4fbace"
      },
      "execution_count": 280,
      "outputs": [
        {
          "output_type": "stream",
          "name": "stdout",
          "text": [
            "2 Set Declarations\n",
            "    const_index : Size=1, Index=None, Ordered=Insertion\n",
            "        Key  : Dimen : Domain : Size : Members\n",
            "        None :     1 :    Any :    6 : {1, 2, 3, 4, 5, 6}\n",
            "    x_index : Size=1, Index=None, Ordered=False\n",
            "        Key  : Dimen : Domain : Size : Members\n",
            "        None :     1 :    Any :    5 : {0, 1, 2, 3, 4}\n",
            "\n",
            "1 Var Declarations\n",
            "    x : Size=5, Index=x_index\n",
            "        Key : Lower : Value : Upper : Fixed : Stale : Domain\n",
            "          0 :     0 :   8.0 :  None : False : False : NonNegativeIntegers\n",
            "          1 :     0 :   3.0 :  None : False : False : NonNegativeIntegers\n",
            "          2 :     0 :   0.0 :  None : False : False : NonNegativeIntegers\n",
            "          3 :     0 :   0.0 :  None : False : False : NonNegativeIntegers\n",
            "          4 :     0 :   0.0 :  None : False : False : NonNegativeIntegers\n",
            "\n",
            "1 Objective Declarations\n",
            "    obj : Size=1, Index=None, Active=True\n",
            "        Key  : Active : Sense    : Expression\n",
            "        None :   True : maximize : 11*x[0] + 13*x[1] + 9*x[2] + 15*x[3] + 12*x[4]\n",
            "\n",
            "1 Constraint Declarations\n",
            "    const : Size=6, Index=const_index, Active=True\n",
            "        Key : Lower : Body                                                     : Upper : Active\n",
            "          1 :  -Inf : 6.5*x[0] + 8.0*x[1] + 10.5*x[2] + 11.75*x[3] + 14.5*x[4] :  78.0 :  False\n",
            "          2 :  -Inf : 5.75*x[0] + 4.5*x[1] + 3.75*x[2] + 4.85*x[3] + 3.45*x[4] :  84.0 :  False\n",
            "          3 :  -Inf : 6.5*x[0] + 8.0*x[1] + 10.5*x[2] + 11.75*x[3] + 14.5*x[4] :  76.0 :  False\n",
            "          4 :  -Inf : 5.75*x[0] + 4.5*x[1] + 3.75*x[2] + 4.85*x[3] + 3.45*x[4] :  87.0 :  False\n",
            "          5 :  -Inf : 6.5*x[0] + 8.0*x[1] + 10.5*x[2] + 11.75*x[3] + 14.5*x[4] :  74.0 :   True\n",
            "          6 :  -Inf : 5.75*x[0] + 4.5*x[1] + 3.75*x[2] + 4.85*x[3] + 3.45*x[4] :  88.0 :   True\n",
            "\n",
            "5 Declarations: x_index x obj const_index const\n"
          ]
        }
      ]
    },
    {
      "cell_type": "code",
      "source": [
        "result = opt_cbc.solve(model_ex2)\n",
        "print('Solver status:', result.solver.status)\n",
        "print('Solver termination condition:',result.solver.termination_condition)"
      ],
      "metadata": {
        "colab": {
          "base_uri": "https://localhost:8080/"
        },
        "id": "IyHf2MLkd7By",
        "outputId": "aa3a4f97-9e57-4449-c37f-0ac3ad352bfd"
      },
      "execution_count": 281,
      "outputs": [
        {
          "output_type": "stream",
          "name": "stdout",
          "text": [
            "Solver status: ok\n",
            "Solver termination condition: optimal\n"
          ]
        }
      ]
    },
    {
      "cell_type": "code",
      "source": [
        "print('\\nObjective = ', model_ex2.obj())\n",
        "\n",
        "print('\\nDecision Variables')\n",
        "for i in col_indices:\n",
        "  print('Number of Drone',data_csvfile['Drone Model'][i], model_ex2.x[i].value)\n",
        "\n",
        "print('\\nConstraints')\n",
        "model_ex2.const.display()"
      ],
      "metadata": {
        "colab": {
          "base_uri": "https://localhost:8080/"
        },
        "id": "QI8N7N7MeBdu",
        "outputId": "680da929-ab07-42b9-b007-bbfbfe12a4db"
      },
      "execution_count": 282,
      "outputs": [
        {
          "output_type": "stream",
          "name": "stdout",
          "text": [
            "\n",
            "Objective =  123.0\n",
            "\n",
            "Decision Variables\n",
            "Number of Drone Shrey 10.0\n",
            "Number of Drone Dharan 1.0\n",
            "Number of Drone Satva 0.0\n",
            "Number of Drone Adhya 0.0\n",
            "Number of Drone Pravat 0.0\n",
            "\n",
            "Constraints\n",
            "const : Size=6\n",
            "    Key : Lower : Body : Upper\n",
            "      5 :  None : 73.0 :  74.0\n",
            "      6 :  None : 62.0 :  88.0\n"
          ]
        }
      ]
    },
    {
      "cell_type": "markdown",
      "source": [
        "$\\large{\\textbf{For MILP:}} \\\\ \\text{Maximum carrying capacity/Objective Function value = } 123 \\text{ kgs.} \\\\ \\text{Value of decision variables:} \\\\ x_1 = 10 \\\\ x_2 =1 \\\\ x_3 = 0 \\\\ x_4 =0 \\\\ x_5 = 0 $"
      ],
      "metadata": {
        "id": "S6RP0BVOmfgy"
      }
    },
    {
      "cell_type": "code",
      "source": [
        "model_ex2.x.domain=NonNegativeReals"
      ],
      "metadata": {
        "id": "rwHjVPmfeDgP"
      },
      "execution_count": 283,
      "outputs": []
    },
    {
      "cell_type": "code",
      "source": [
        "result = opt_cbc.solve(model_ex2)\n",
        "print('Solver status:', result.solver.status)\n",
        "print('Solver termination condition:',result.solver.termination_condition)"
      ],
      "metadata": {
        "colab": {
          "base_uri": "https://localhost:8080/"
        },
        "id": "HYoBtBbHeRiY",
        "outputId": "c2ce2675-6d4e-4962-9a21-60b8d6aa07ae"
      },
      "execution_count": 284,
      "outputs": [
        {
          "output_type": "stream",
          "name": "stdout",
          "text": [
            "Solver status: ok\n",
            "Solver termination condition: optimal\n"
          ]
        }
      ]
    },
    {
      "cell_type": "code",
      "source": [
        "print('\\nObjective = ', model_ex2.obj())\n",
        "\n",
        "print('\\nDecision Variables')\n",
        "for i in col_indices:\n",
        "  print('Number of Drone',data_csvfile['Drone Model'][i], model_ex2.x[i].value)\n",
        "\n",
        "print('\\nConstraints')\n",
        "model_ex2.const.display()"
      ],
      "metadata": {
        "colab": {
          "base_uri": "https://localhost:8080/"
        },
        "id": "lVisA2F8eVrU",
        "outputId": "f37c2577-eb79-4415-f419-df648caf5dc0"
      },
      "execution_count": 285,
      "outputs": [
        {
          "output_type": "stream",
          "name": "stdout",
          "text": [
            "\n",
            "Objective =  125.230765\n",
            "\n",
            "Decision Variables\n",
            "Number of Drone Shrey 11.384615\n",
            "Number of Drone Dharan 0.0\n",
            "Number of Drone Satva 0.0\n",
            "Number of Drone Adhya 0.0\n",
            "Number of Drone Pravat 0.0\n",
            "\n",
            "Constraints\n",
            "const : Size=6\n",
            "    Key : Lower : Body        : Upper\n",
            "      5 :  None :  73.9999975 :  74.0\n",
            "      6 :  None : 65.46153625 :  88.0\n"
          ]
        }
      ]
    },
    {
      "cell_type": "markdown",
      "source": [
        "$\\large{\\textbf{For LP:}} \\\\ \\text{Maximum carrying capacity/Objective Function value = } 125.230765 \\text{ kgs.} \\\\ \\text{Value of decision variables:} \\\\ x_1 = 11.384615 \\\\ x_2 =0 \\\\ x_3 = 0 \\\\ x_4 =0 \\\\ x_5 = 0 $"
      ],
      "metadata": {
        "id": "BWSk63GImlbF"
      }
    },
    {
      "cell_type": "markdown",
      "source": [
        "$\\textbf{Case 2: } \\\\ \\text{Budget Constraint = 72 crores } \\\\ \\text{Parking Space constraint = 89 sq. m.}$"
      ],
      "metadata": {
        "id": "1-1th6fi4dP5"
      }
    },
    {
      "cell_type": "code",
      "source": [
        "model_ex2.const[5].deactivate()\n",
        "model_ex2.const[6].deactivate()\n",
        "model_ex2.const.add(expr = summation(data_csvfile['Cost'],model_ex2.x) <= 72)\n",
        "model_ex2.const.add(expr = summation(data_csvfile['Parking Space'],model_ex2.x) <= 89)"
      ],
      "metadata": {
        "colab": {
          "base_uri": "https://localhost:8080/"
        },
        "id": "Rox1uudceXKh",
        "outputId": "4762f885-f99b-4cd2-e6db-04381c6930e5"
      },
      "execution_count": 286,
      "outputs": [
        {
          "output_type": "execute_result",
          "data": {
            "text/plain": [
              "<pyomo.core.base.constraint._GeneralConstraintData at 0x7f705a4219f0>"
            ]
          },
          "metadata": {},
          "execution_count": 286
        }
      ]
    },
    {
      "cell_type": "code",
      "source": [
        "model_ex2.pprint()"
      ],
      "metadata": {
        "colab": {
          "base_uri": "https://localhost:8080/"
        },
        "id": "IoLlQh_Felcr",
        "outputId": "56d7869a-e79d-42b1-f21f-b80c3d722418"
      },
      "execution_count": 287,
      "outputs": [
        {
          "output_type": "stream",
          "name": "stdout",
          "text": [
            "2 Set Declarations\n",
            "    const_index : Size=1, Index=None, Ordered=Insertion\n",
            "        Key  : Dimen : Domain : Size : Members\n",
            "        None :     1 :    Any :    8 : {1, 2, 3, 4, 5, 6, 7, 8}\n",
            "    x_index : Size=1, Index=None, Ordered=False\n",
            "        Key  : Dimen : Domain : Size : Members\n",
            "        None :     1 :    Any :    5 : {0, 1, 2, 3, 4}\n",
            "\n",
            "1 Var Declarations\n",
            "    x : Size=5, Index=x_index\n",
            "        Key : Lower : Value     : Upper : Fixed : Stale : Domain\n",
            "          0 :     0 : 11.384615 :  None : False : False : NonNegativeReals\n",
            "          1 :     0 :       0.0 :  None : False : False : NonNegativeReals\n",
            "          2 :     0 :       0.0 :  None : False : False : NonNegativeReals\n",
            "          3 :     0 :       0.0 :  None : False : False : NonNegativeReals\n",
            "          4 :     0 :       0.0 :  None : False : False : NonNegativeReals\n",
            "\n",
            "1 Objective Declarations\n",
            "    obj : Size=1, Index=None, Active=True\n",
            "        Key  : Active : Sense    : Expression\n",
            "        None :   True : maximize : 11*x[0] + 13*x[1] + 9*x[2] + 15*x[3] + 12*x[4]\n",
            "\n",
            "1 Constraint Declarations\n",
            "    const : Size=8, Index=const_index, Active=True\n",
            "        Key : Lower : Body                                                     : Upper : Active\n",
            "          1 :  -Inf : 6.5*x[0] + 8.0*x[1] + 10.5*x[2] + 11.75*x[3] + 14.5*x[4] :  78.0 :  False\n",
            "          2 :  -Inf : 5.75*x[0] + 4.5*x[1] + 3.75*x[2] + 4.85*x[3] + 3.45*x[4] :  84.0 :  False\n",
            "          3 :  -Inf : 6.5*x[0] + 8.0*x[1] + 10.5*x[2] + 11.75*x[3] + 14.5*x[4] :  76.0 :  False\n",
            "          4 :  -Inf : 5.75*x[0] + 4.5*x[1] + 3.75*x[2] + 4.85*x[3] + 3.45*x[4] :  87.0 :  False\n",
            "          5 :  -Inf : 6.5*x[0] + 8.0*x[1] + 10.5*x[2] + 11.75*x[3] + 14.5*x[4] :  74.0 :  False\n",
            "          6 :  -Inf : 5.75*x[0] + 4.5*x[1] + 3.75*x[2] + 4.85*x[3] + 3.45*x[4] :  88.0 :  False\n",
            "          7 :  -Inf : 6.5*x[0] + 8.0*x[1] + 10.5*x[2] + 11.75*x[3] + 14.5*x[4] :  72.0 :   True\n",
            "          8 :  -Inf : 5.75*x[0] + 4.5*x[1] + 3.75*x[2] + 4.85*x[3] + 3.45*x[4] :  89.0 :   True\n",
            "\n",
            "5 Declarations: x_index x obj const_index const\n"
          ]
        }
      ]
    },
    {
      "cell_type": "code",
      "source": [
        "result = opt_cbc.solve(model_ex2)\n",
        "print('Solver status:', result.solver.status)\n",
        "print('Solver termination condition:',result.solver.termination_condition)"
      ],
      "metadata": {
        "colab": {
          "base_uri": "https://localhost:8080/"
        },
        "id": "Gjt5jGICeokw",
        "outputId": "5110dd12-c644-45ae-a431-3183aebad455"
      },
      "execution_count": 288,
      "outputs": [
        {
          "output_type": "stream",
          "name": "stdout",
          "text": [
            "Solver status: ok\n",
            "Solver termination condition: optimal\n"
          ]
        }
      ]
    },
    {
      "cell_type": "code",
      "source": [
        "print('\\nObjective = ', model_ex2.obj())\n",
        "\n",
        "print('\\nDecision Variables')\n",
        "for i in col_indices:\n",
        "  print('Number of Drone',data_csvfile['Drone Model'][i], model_ex2.x[i].value)\n",
        "\n",
        "print('\\nConstraints')\n",
        "model_ex2.const.display()"
      ],
      "metadata": {
        "colab": {
          "base_uri": "https://localhost:8080/"
        },
        "id": "rsaOwMXiezy5",
        "outputId": "26ec0d81-f485-4e5f-d81d-38b195e27534"
      },
      "execution_count": 289,
      "outputs": [
        {
          "output_type": "stream",
          "name": "stdout",
          "text": [
            "\n",
            "Objective =  121.84615300000002\n",
            "\n",
            "Decision Variables\n",
            "Number of Drone Shrey 11.076923\n",
            "Number of Drone Dharan 0.0\n",
            "Number of Drone Satva 0.0\n",
            "Number of Drone Adhya 0.0\n",
            "Number of Drone Pravat 0.0\n",
            "\n",
            "Constraints\n",
            "const : Size=8\n",
            "    Key : Lower : Body               : Upper\n",
            "      7 :  None :         71.9999995 :  72.0\n",
            "      8 :  None : 63.692307250000006 :  89.0\n"
          ]
        }
      ]
    },
    {
      "cell_type": "markdown",
      "source": [
        "$\\large{\\textbf{For LP:}} \\\\ \\text{Maximum carrying capacity/Objective Function value = } 121.8462 \\text{ kgs.} \\\\ \\text{Value of decision variables:} \\\\ x_1 = 11.0769 \\\\ x_2 =0 \\\\ x_3 = 0 \\\\ x_4 =0 \\\\ x_5 = 0 $"
      ],
      "metadata": {
        "id": "Z6FocmxHmx05"
      }
    },
    {
      "cell_type": "code",
      "source": [
        "model_ex2.x.domain=NonNegativeIntegers"
      ],
      "metadata": {
        "id": "o92h43NMe2L1"
      },
      "execution_count": 290,
      "outputs": []
    },
    {
      "cell_type": "code",
      "source": [
        "result = opt_cbc.solve(model_ex2)\n",
        "print('Solver status:', result.solver.status)\n",
        "print('Solver termination condition:',result.solver.termination_condition)"
      ],
      "metadata": {
        "colab": {
          "base_uri": "https://localhost:8080/"
        },
        "id": "4y0OY_Pqe7tZ",
        "outputId": "78012849-b555-4cf2-f6d9-4c446eff2443"
      },
      "execution_count": 291,
      "outputs": [
        {
          "output_type": "stream",
          "name": "stdout",
          "text": [
            "Solver status: ok\n",
            "Solver termination condition: optimal\n"
          ]
        }
      ]
    },
    {
      "cell_type": "code",
      "source": [
        "print('\\nObjective = ', model_ex2.obj())\n",
        "\n",
        "print('\\nDecision Variables')\n",
        "for i in col_indices:\n",
        "  print('Number of Drone',data_csvfile['Drone Model'][i], model_ex2.x[i].value)\n",
        "\n",
        "print('\\nConstraints')\n",
        "model_ex2.const.display()"
      ],
      "metadata": {
        "colab": {
          "base_uri": "https://localhost:8080/"
        },
        "id": "1UMa4x07e90T",
        "outputId": "f1e8708c-a57e-4458-e23e-9b26d8a1b22e"
      },
      "execution_count": 292,
      "outputs": [
        {
          "output_type": "stream",
          "name": "stdout",
          "text": [
            "\n",
            "Objective =  121.0\n",
            "\n",
            "Decision Variables\n",
            "Number of Drone Shrey 11.0\n",
            "Number of Drone Dharan 0.0\n",
            "Number of Drone Satva 0.0\n",
            "Number of Drone Adhya 0.0\n",
            "Number of Drone Pravat 0.0\n",
            "\n",
            "Constraints\n",
            "const : Size=8\n",
            "    Key : Lower : Body  : Upper\n",
            "      7 :  None :  71.5 :  72.0\n",
            "      8 :  None : 63.25 :  89.0\n"
          ]
        }
      ]
    },
    {
      "cell_type": "markdown",
      "source": [
        "$\\large{\\textbf{For MILP:}} \\\\ \\text{Maximum carrying capacity/Objective Function value = } 121 \\text{ kgs.} \\\\ \\text{Value of decision variables:} \\\\ x_1 = 11 \\\\ x_2 =0 \\\\ x_3 = 0 \\\\ x_4 =0 \\\\ x_5 = 0 $"
      ],
      "metadata": {
        "id": "L8o0O8Rum6wu"
      }
    },
    {
      "cell_type": "markdown",
      "source": [
        "$\\textbf{Case 3: } \\\\ \\text{Budget Constraint = 70 crores } \\\\ \\text{Parking Space constraint = 90 sq. m.}$"
      ],
      "metadata": {
        "id": "TCvVkQoG4naj"
      }
    },
    {
      "cell_type": "code",
      "source": [
        "model_ex2.const[7].deactivate()\n",
        "model_ex2.const[8].deactivate()\n",
        "model_ex2.const.add(expr = summation(data_csvfile['Cost'],model_ex2.x) <= 70)\n",
        "model_ex2.const.add(expr = summation(data_csvfile['Parking Space'],model_ex2.x) <= 90)"
      ],
      "metadata": {
        "colab": {
          "base_uri": "https://localhost:8080/"
        },
        "id": "tARQMPiFe_Qb",
        "outputId": "2fec91f3-1cd5-4f4e-e31c-109253ebb287"
      },
      "execution_count": 293,
      "outputs": [
        {
          "output_type": "execute_result",
          "data": {
            "text/plain": [
              "<pyomo.core.base.constraint._GeneralConstraintData at 0x7f705acf4440>"
            ]
          },
          "metadata": {},
          "execution_count": 293
        }
      ]
    },
    {
      "cell_type": "code",
      "source": [
        "model_ex2.pprint()"
      ],
      "metadata": {
        "colab": {
          "base_uri": "https://localhost:8080/"
        },
        "id": "X_Y3zuE0fRRI",
        "outputId": "e0175f17-e8aa-4290-dad6-f42d5b939534"
      },
      "execution_count": 294,
      "outputs": [
        {
          "output_type": "stream",
          "name": "stdout",
          "text": [
            "2 Set Declarations\n",
            "    const_index : Size=1, Index=None, Ordered=Insertion\n",
            "        Key  : Dimen : Domain : Size : Members\n",
            "        None :     1 :    Any :   10 : {1, 2, 3, 4, 5, 6, 7, 8, 9, 10}\n",
            "    x_index : Size=1, Index=None, Ordered=False\n",
            "        Key  : Dimen : Domain : Size : Members\n",
            "        None :     1 :    Any :    5 : {0, 1, 2, 3, 4}\n",
            "\n",
            "1 Var Declarations\n",
            "    x : Size=5, Index=x_index\n",
            "        Key : Lower : Value : Upper : Fixed : Stale : Domain\n",
            "          0 :     0 :  11.0 :  None : False : False : NonNegativeIntegers\n",
            "          1 :     0 :   0.0 :  None : False : False : NonNegativeIntegers\n",
            "          2 :     0 :   0.0 :  None : False : False : NonNegativeIntegers\n",
            "          3 :     0 :   0.0 :  None : False : False : NonNegativeIntegers\n",
            "          4 :     0 :   0.0 :  None : False : False : NonNegativeIntegers\n",
            "\n",
            "1 Objective Declarations\n",
            "    obj : Size=1, Index=None, Active=True\n",
            "        Key  : Active : Sense    : Expression\n",
            "        None :   True : maximize : 11*x[0] + 13*x[1] + 9*x[2] + 15*x[3] + 12*x[4]\n",
            "\n",
            "1 Constraint Declarations\n",
            "    const : Size=10, Index=const_index, Active=True\n",
            "        Key : Lower : Body                                                     : Upper : Active\n",
            "          1 :  -Inf : 6.5*x[0] + 8.0*x[1] + 10.5*x[2] + 11.75*x[3] + 14.5*x[4] :  78.0 :  False\n",
            "          2 :  -Inf : 5.75*x[0] + 4.5*x[1] + 3.75*x[2] + 4.85*x[3] + 3.45*x[4] :  84.0 :  False\n",
            "          3 :  -Inf : 6.5*x[0] + 8.0*x[1] + 10.5*x[2] + 11.75*x[3] + 14.5*x[4] :  76.0 :  False\n",
            "          4 :  -Inf : 5.75*x[0] + 4.5*x[1] + 3.75*x[2] + 4.85*x[3] + 3.45*x[4] :  87.0 :  False\n",
            "          5 :  -Inf : 6.5*x[0] + 8.0*x[1] + 10.5*x[2] + 11.75*x[3] + 14.5*x[4] :  74.0 :  False\n",
            "          6 :  -Inf : 5.75*x[0] + 4.5*x[1] + 3.75*x[2] + 4.85*x[3] + 3.45*x[4] :  88.0 :  False\n",
            "          7 :  -Inf : 6.5*x[0] + 8.0*x[1] + 10.5*x[2] + 11.75*x[3] + 14.5*x[4] :  72.0 :  False\n",
            "          8 :  -Inf : 5.75*x[0] + 4.5*x[1] + 3.75*x[2] + 4.85*x[3] + 3.45*x[4] :  89.0 :  False\n",
            "          9 :  -Inf : 6.5*x[0] + 8.0*x[1] + 10.5*x[2] + 11.75*x[3] + 14.5*x[4] :  70.0 :   True\n",
            "         10 :  -Inf : 5.75*x[0] + 4.5*x[1] + 3.75*x[2] + 4.85*x[3] + 3.45*x[4] :  90.0 :   True\n",
            "\n",
            "5 Declarations: x_index x obj const_index const\n"
          ]
        }
      ]
    },
    {
      "cell_type": "code",
      "source": [
        "result = opt_cbc.solve(model_ex2)\n",
        "print('Solver status:', result.solver.status)\n",
        "print('Solver termination condition:',result.solver.termination_condition)"
      ],
      "metadata": {
        "colab": {
          "base_uri": "https://localhost:8080/"
        },
        "id": "Nqi_hve5fTmn",
        "outputId": "abcb2b74-b07f-43e3-f84e-7f3f6259299e"
      },
      "execution_count": 295,
      "outputs": [
        {
          "output_type": "stream",
          "name": "stdout",
          "text": [
            "Solver status: ok\n",
            "Solver termination condition: optimal\n"
          ]
        }
      ]
    },
    {
      "cell_type": "code",
      "source": [
        "print('\\nObjective = ', model_ex2.obj())\n",
        "\n",
        "print('\\nDecision Variables')\n",
        "for i in col_indices:\n",
        "  print('Number of Drone',data_csvfile['Drone Model'][i], model_ex2.x[i].value)\n",
        "\n",
        "print('\\nConstraints')\n",
        "model_ex2.const.display()"
      ],
      "metadata": {
        "colab": {
          "base_uri": "https://localhost:8080/"
        },
        "id": "WMUsLS6QfXsW",
        "outputId": "b8354b81-ab86-4071-9f52-33483a9bbaaa"
      },
      "execution_count": 296,
      "outputs": [
        {
          "output_type": "stream",
          "name": "stdout",
          "text": [
            "\n",
            "Objective =  116.0\n",
            "\n",
            "Decision Variables\n",
            "Number of Drone Shrey 7.0\n",
            "Number of Drone Dharan 3.0\n",
            "Number of Drone Satva 0.0\n",
            "Number of Drone Adhya 0.0\n",
            "Number of Drone Pravat 0.0\n",
            "\n",
            "Constraints\n",
            "const : Size=10\n",
            "    Key : Lower : Body  : Upper\n",
            "      9 :  None :  69.5 :  70.0\n",
            "     10 :  None : 53.75 :  90.0\n"
          ]
        }
      ]
    },
    {
      "cell_type": "markdown",
      "source": [
        "$\\large{\\textbf{For MILP:}} \\\\ \\text{Maximum carrying capacity/Objective Function value = } 116 \\text{ kgs.} \\\\ \\text{Value of decision variables:} \\\\ x_1 = 7 \\\\ x_2 =3 \\\\ x_3 = 0 \\\\ x_4 =0 \\\\ x_5 = 0 $"
      ],
      "metadata": {
        "id": "Iekaj8AtnAWe"
      }
    },
    {
      "cell_type": "code",
      "source": [
        "model_ex2.x.domain = NonNegativeReals"
      ],
      "metadata": {
        "id": "GAImJn4Afavy"
      },
      "execution_count": 297,
      "outputs": []
    },
    {
      "cell_type": "code",
      "source": [
        "result = opt_cbc.solve(model_ex2)\n",
        "print('Solver status:', result.solver.status)\n",
        "print('Solver termination condition:',result.solver.termination_condition)"
      ],
      "metadata": {
        "colab": {
          "base_uri": "https://localhost:8080/"
        },
        "id": "8AV8l82Xfin3",
        "outputId": "f7682582-71cb-4682-99de-fa4535dbfde7"
      },
      "execution_count": 298,
      "outputs": [
        {
          "output_type": "stream",
          "name": "stdout",
          "text": [
            "Solver status: ok\n",
            "Solver termination condition: optimal\n"
          ]
        }
      ]
    },
    {
      "cell_type": "code",
      "source": [
        "print('\\nObjective = ', model_ex2.obj())\n",
        "\n",
        "print('\\nDecision Variables')\n",
        "for i in col_indices:\n",
        "  print('Number of Drone',data_csvfile['Drone Model'][i], model_ex2.x[i].value)\n",
        "\n",
        "print('\\nConstraints')\n",
        "model_ex2.const.display()"
      ],
      "metadata": {
        "colab": {
          "base_uri": "https://localhost:8080/"
        },
        "id": "TVB1EEb_fnzJ",
        "outputId": "fc9398ee-bc94-4332-d6dc-a9de1a96a762"
      },
      "execution_count": 299,
      "outputs": [
        {
          "output_type": "stream",
          "name": "stdout",
          "text": [
            "\n",
            "Objective =  118.461541\n",
            "\n",
            "Decision Variables\n",
            "Number of Drone Shrey 10.769231\n",
            "Number of Drone Dharan 0.0\n",
            "Number of Drone Satva 0.0\n",
            "Number of Drone Adhya 0.0\n",
            "Number of Drone Pravat 0.0\n",
            "\n",
            "Constraints\n",
            "const : Size=10\n",
            "    Key : Lower : Body               : Upper\n",
            "      9 :  None :         70.0000015 :  70.0\n",
            "     10 :  None : 61.923078249999996 :  90.0\n"
          ]
        }
      ]
    },
    {
      "cell_type": "markdown",
      "source": [
        "$\\large{\\textbf{For LP:}} \\\\ \\text{Maximum carrying capacity/Objective Function value = } 118.4615 \\text{ kgs.} \\\\ \\text{Value of decision variables:} \\\\ x_1 = 10.769 \\\\ x_2 =3 \\\\ x_3 = 0 \\\\ x_4 =0 \\\\ x_5 = 0 $"
      ],
      "metadata": {
        "id": "sUiVXiklnENC"
      }
    },
    {
      "cell_type": "markdown",
      "source": [
        "$\\textbf{Case 4: } \\\\ \\text{Budget Constraint = 68 crores } \\\\ \\text{Parking Space constraint = 91 sq. m.}$"
      ],
      "metadata": {
        "id": "jJsLuJ024sWV"
      }
    },
    {
      "cell_type": "code",
      "source": [
        "model_ex2.const[9].deactivate()\n",
        "model_ex2.const[10].deactivate()\n",
        "model_ex2.const.add(expr = summation(data_csvfile['Cost'],model_ex2.x) <= 68)\n",
        "model_ex2.const.add(expr = summation(data_csvfile['Parking Space'],model_ex2.x) <= 91)"
      ],
      "metadata": {
        "colab": {
          "base_uri": "https://localhost:8080/"
        },
        "id": "x-gbLkP9fpzG",
        "outputId": "146b41a6-170d-43cd-d14a-781269474417"
      },
      "execution_count": 300,
      "outputs": [
        {
          "output_type": "execute_result",
          "data": {
            "text/plain": [
              "<pyomo.core.base.constraint._GeneralConstraintData at 0x7f705a42b4b0>"
            ]
          },
          "metadata": {},
          "execution_count": 300
        }
      ]
    },
    {
      "cell_type": "code",
      "source": [
        "model_ex2.pprint()"
      ],
      "metadata": {
        "colab": {
          "base_uri": "https://localhost:8080/"
        },
        "id": "MncXEj08gC49",
        "outputId": "aa67fdb5-8feb-4c7d-be00-f891e1f0f632"
      },
      "execution_count": 301,
      "outputs": [
        {
          "output_type": "stream",
          "name": "stdout",
          "text": [
            "2 Set Declarations\n",
            "    const_index : Size=1, Index=None, Ordered=Insertion\n",
            "        Key  : Dimen : Domain : Size : Members\n",
            "        None :     1 :    Any :   12 : {1, 2, 3, 4, 5, 6, 7, 8, 9, 10, 11, 12}\n",
            "    x_index : Size=1, Index=None, Ordered=False\n",
            "        Key  : Dimen : Domain : Size : Members\n",
            "        None :     1 :    Any :    5 : {0, 1, 2, 3, 4}\n",
            "\n",
            "1 Var Declarations\n",
            "    x : Size=5, Index=x_index\n",
            "        Key : Lower : Value     : Upper : Fixed : Stale : Domain\n",
            "          0 :     0 : 10.769231 :  None : False : False : NonNegativeReals\n",
            "          1 :     0 :       0.0 :  None : False : False : NonNegativeReals\n",
            "          2 :     0 :       0.0 :  None : False : False : NonNegativeReals\n",
            "          3 :     0 :       0.0 :  None : False : False : NonNegativeReals\n",
            "          4 :     0 :       0.0 :  None : False : False : NonNegativeReals\n",
            "\n",
            "1 Objective Declarations\n",
            "    obj : Size=1, Index=None, Active=True\n",
            "        Key  : Active : Sense    : Expression\n",
            "        None :   True : maximize : 11*x[0] + 13*x[1] + 9*x[2] + 15*x[3] + 12*x[4]\n",
            "\n",
            "1 Constraint Declarations\n",
            "    const : Size=12, Index=const_index, Active=True\n",
            "        Key : Lower : Body                                                     : Upper : Active\n",
            "          1 :  -Inf : 6.5*x[0] + 8.0*x[1] + 10.5*x[2] + 11.75*x[3] + 14.5*x[4] :  78.0 :  False\n",
            "          2 :  -Inf : 5.75*x[0] + 4.5*x[1] + 3.75*x[2] + 4.85*x[3] + 3.45*x[4] :  84.0 :  False\n",
            "          3 :  -Inf : 6.5*x[0] + 8.0*x[1] + 10.5*x[2] + 11.75*x[3] + 14.5*x[4] :  76.0 :  False\n",
            "          4 :  -Inf : 5.75*x[0] + 4.5*x[1] + 3.75*x[2] + 4.85*x[3] + 3.45*x[4] :  87.0 :  False\n",
            "          5 :  -Inf : 6.5*x[0] + 8.0*x[1] + 10.5*x[2] + 11.75*x[3] + 14.5*x[4] :  74.0 :  False\n",
            "          6 :  -Inf : 5.75*x[0] + 4.5*x[1] + 3.75*x[2] + 4.85*x[3] + 3.45*x[4] :  88.0 :  False\n",
            "          7 :  -Inf : 6.5*x[0] + 8.0*x[1] + 10.5*x[2] + 11.75*x[3] + 14.5*x[4] :  72.0 :  False\n",
            "          8 :  -Inf : 5.75*x[0] + 4.5*x[1] + 3.75*x[2] + 4.85*x[3] + 3.45*x[4] :  89.0 :  False\n",
            "          9 :  -Inf : 6.5*x[0] + 8.0*x[1] + 10.5*x[2] + 11.75*x[3] + 14.5*x[4] :  70.0 :  False\n",
            "         10 :  -Inf : 5.75*x[0] + 4.5*x[1] + 3.75*x[2] + 4.85*x[3] + 3.45*x[4] :  90.0 :  False\n",
            "         11 :  -Inf : 6.5*x[0] + 8.0*x[1] + 10.5*x[2] + 11.75*x[3] + 14.5*x[4] :  68.0 :   True\n",
            "         12 :  -Inf : 5.75*x[0] + 4.5*x[1] + 3.75*x[2] + 4.85*x[3] + 3.45*x[4] :  91.0 :   True\n",
            "\n",
            "5 Declarations: x_index x obj const_index const\n"
          ]
        }
      ]
    },
    {
      "cell_type": "code",
      "source": [
        "result = opt_cbc.solve(model_ex2)\n",
        "print('Solver status:', result.solver.status)\n",
        "print('Solver termination condition:',result.solver.termination_condition)"
      ],
      "metadata": {
        "colab": {
          "base_uri": "https://localhost:8080/"
        },
        "id": "KdyWnwQ2gFr1",
        "outputId": "50a2af63-028d-40bb-8e21-d0741f4b3190"
      },
      "execution_count": 302,
      "outputs": [
        {
          "output_type": "stream",
          "name": "stdout",
          "text": [
            "Solver status: ok\n",
            "Solver termination condition: optimal\n"
          ]
        }
      ]
    },
    {
      "cell_type": "code",
      "source": [
        "print('\\nObjective = ', model_ex2.obj())\n",
        "\n",
        "print('\\nDecision Variables')\n",
        "for i in col_indices:\n",
        "  print('Number of Drone',data_csvfile['Drone Model'][i], model_ex2.x[i].value)\n",
        "\n",
        "print('\\nConstraints')\n",
        "model_ex2.const.display()"
      ],
      "metadata": {
        "colab": {
          "base_uri": "https://localhost:8080/"
        },
        "id": "6aRyJ2iZgIAT",
        "outputId": "22ba91de-3652-4a71-bf1f-6956f290083b"
      },
      "execution_count": 303,
      "outputs": [
        {
          "output_type": "stream",
          "name": "stdout",
          "text": [
            "\n",
            "Objective =  115.07691799999999\n",
            "\n",
            "Decision Variables\n",
            "Number of Drone Shrey 10.461538\n",
            "Number of Drone Dharan 0.0\n",
            "Number of Drone Satva 0.0\n",
            "Number of Drone Adhya 0.0\n",
            "Number of Drone Pravat 0.0\n",
            "\n",
            "Constraints\n",
            "const : Size=12\n",
            "    Key : Lower : Body               : Upper\n",
            "     11 :  None :          67.999997 :  68.0\n",
            "     12 :  None : 60.153843499999994 :  91.0\n"
          ]
        }
      ]
    },
    {
      "cell_type": "markdown",
      "source": [
        "$\\large{\\textbf{For LP:}} \\\\ \\text{Maximum carrying capacity/Objective Function value = } 115.0769 \\text{ kgs.} \\\\ \\text{Value of decision variables:} \\\\ x_1 = 10.461538 \\\\ x_2 = 0 \\\\ x_3 = 0 \\\\ x_4 =0 \\\\ x_5 = 0 $"
      ],
      "metadata": {
        "id": "NWpoTWXTnNu-"
      }
    },
    {
      "cell_type": "code",
      "source": [
        "model_ex2.x.domain=NonNegativeIntegers"
      ],
      "metadata": {
        "id": "CKXxeWDZgVB-"
      },
      "execution_count": 304,
      "outputs": []
    },
    {
      "cell_type": "code",
      "source": [
        "result = opt_cbc.solve(model_ex2)\n",
        "print('Solver status:', result.solver.status)\n",
        "print('Solver termination condition:',result.solver.termination_condition)"
      ],
      "metadata": {
        "colab": {
          "base_uri": "https://localhost:8080/"
        },
        "id": "gCdKUtDagbAJ",
        "outputId": "a1c19da6-97b4-455b-d695-f84101e23a2b"
      },
      "execution_count": 305,
      "outputs": [
        {
          "output_type": "stream",
          "name": "stdout",
          "text": [
            "Solver status: ok\n",
            "Solver termination condition: optimal\n"
          ]
        }
      ]
    },
    {
      "cell_type": "code",
      "source": [
        "print('\\nObjective = ', model_ex2.obj())\n",
        "\n",
        "print('\\nDecision Variables')\n",
        "for i in col_indices:\n",
        "  print('Number of Drone',data_csvfile['Drone Model'][i], model_ex2.x[i].value)\n",
        "\n",
        "print('\\nConstraints')\n",
        "model_ex2.const.display()"
      ],
      "metadata": {
        "colab": {
          "base_uri": "https://localhost:8080/"
        },
        "id": "IRAMrs0qgfop",
        "outputId": "f4ce6cf6-144e-4dd7-85b8-e1bdf24f8b52"
      },
      "execution_count": 306,
      "outputs": [
        {
          "output_type": "stream",
          "name": "stdout",
          "text": [
            "\n",
            "Objective =  114.0\n",
            "\n",
            "Decision Variables\n",
            "Number of Drone Shrey 8.0\n",
            "Number of Drone Dharan 2.0\n",
            "Number of Drone Satva 0.0\n",
            "Number of Drone Adhya 0.0\n",
            "Number of Drone Pravat 0.0\n",
            "\n",
            "Constraints\n",
            "const : Size=12\n",
            "    Key : Lower : Body : Upper\n",
            "     11 :  None : 68.0 :  68.0\n",
            "     12 :  None : 55.0 :  91.0\n"
          ]
        }
      ]
    },
    {
      "cell_type": "markdown",
      "source": [
        "$\\large{\\textbf{For MILP:}} \\\\ \\text{Maximum carrying capacity/Objective Function value = } 114 \\text{ kgs.} \\\\ \\text{Value of decision variables:} \\\\ x_1 = 8 \\\\ x_2 =2 \\\\ x_3 = 0 \\\\ x_4 =0 \\\\ x_5 = 0 $"
      ],
      "metadata": {
        "id": "adFBdt-FnVKg"
      }
    },
    {
      "cell_type": "markdown",
      "source": [
        "$\\text{Here we can observe that the budget constraint is acting as the dominant constraint.} \\\\ \\text{On reducing the budget, we observe that the maximum carrying capacity is also decreasing in both the cases.} \\\\ \\text{In ideal case increment in the parking space constraint should have balanced the effect of the budget constraint.} \\\\ \\text{But that is not the case, the objective function value is decreasing as the budget constraint decreases.} \\\\ \\textbf{Observations on optimal solutions obtained:} \\\\ \\text{When there is no constraint on the variables being integers,} \\\\ \\text{the model is suggesting to buy as many} \\textbf{ Shrey Drones} \\text{ as possible as it is the cheapest and maybe serves our purpose the best.} \\\\ \\text{But in case of MILP, we buy either } \\textbf{Shrey drones,} \\text{or } \\textbf{Dharan drones.}$"
      ],
      "metadata": {
        "id": "1MGyIRNO7XhO"
      }
    },
    {
      "cell_type": "code",
      "source": [
        ""
      ],
      "metadata": {
        "id": "vgdjWaR_8oZY"
      },
      "execution_count": null,
      "outputs": []
    }
  ]
}