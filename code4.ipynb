{
  "nbformat": 4,
  "nbformat_minor": 0,
  "metadata": {
    "colab": {
      "name": "22N0453_IE507_Lab2_Ex3.ipynb",
      "provenance": [],
      "collapsed_sections": []
    },
    "kernelspec": {
      "name": "python3",
      "display_name": "Python 3"
    },
    "language_info": {
      "name": "python"
    }
  },
  "cells": [
    {
      "cell_type": "markdown",
      "source": [
        "$\\large{\\textbf{Answer 3.1 Formulation:}}$\n",
        "\n",
        "$min \\ 45x_1 + 48x_2 + 55x_3+ 65x_4 + 54x_5 + 37.5x_6 + 35x_7 + 52.5x_8 + 47x_9 + 28x_{10} + 82x_{11} + 102x_{12} + 150x_{13} + 105x_{14} + 95x_{15} + 84x_{16} + 88x_{17} + 125x_{18} + 70x_{19} + 64x_{20}$\n",
        "\n",
        "$\\text{s.t.} \\sum x_i = 425 \\\\ 0.2x_1 + 0.25x_2 + 0.1x_3 + 0.3x_4 + 0.125x_5 + 0.35x_6 + 0.475x_7 + 0.1x_8 + 0.2x_9 + 0.5x_{10} + 0.2x_{11} + 0.25x_{12} + 0.1x_{13} + 0.3x_{14} + 0.125x_{15} + 0.35x_{16} + 0.475x_{17} + 0.1x_{18} + 0.2x_{19} + 0.5x_{20} = 116.875 \\\\ 0.75x_1 + 0.65x_2 + 0.7x_3 + 0.6x_4 + 0.85x_5 + 0.525x_6 + 0.425x_7 + 0.4x_8 + 0.35x_9 + 0.4x_{10} + 0.75x_{11} + 0.65x_{12} + 0.7x_{13} + 0.6x_{14} + 0.85x_{15} + 0.525x_{16} + 0.1x_{17} + 0.4x_{18} + 0.35x_{19} + 0.4x_{20} = 244.375 \\\\ 0.05x_1 + 0.1x_2 + 0.2x_3 + 0.1x_4 + 0.025x_5 + 0.125x_6 + 0.1x_7 + 0.5x_8 + 0.45x_9 + 0.1x_{10} + 0.05x_{11} + 0.1x_{12} + 0.2x_{13} + 0.1x_{14} + 0.025x_{15} + 0.125x_{16} + 0.1x_{17} + 0.5x_{18} + 0.45x_{19} + 0.1x_{20} = 63.75$ \n",
        "\n",
        "$l = \\{0,0,0,0,0,0,0,0,0,0,0,0,0,0,0,0,0,0,0,0\\} \\textbf{(set of lower bounds)} \\\\ u = \\{15,16,9,17.5,12,18.5,2.5,0.5,9.5,8,+∞,+∞,+∞,+∞,+∞,+∞,+∞,+∞,+∞,+∞\\}  \\textbf{(set of upper bounds)}$\n",
        "\n",
        "$\\text{where } x_i, 1\\leq i \\leq 10 \\text{ denotes the quantity of } \\text{ A-i used from the in house stock and } x_i, 11\\leq i \\leq 20 \\text{ denotes the quantity of } \\text{A-i purchased from the market.}$"
      ],
      "metadata": {
        "id": "7EulqMjD71iM"
      }
    },
    {
      "cell_type": "markdown",
      "source": [
        "$\\large{\\textbf{Answer 3.2 Solution to above problem:}}$"
      ],
      "metadata": {
        "id": "8dVguxoUEue2"
      }
    },
    {
      "cell_type": "code",
      "execution_count": 41,
      "metadata": {
        "id": "V_3eHWtwZ0f6"
      },
      "outputs": [],
      "source": [
        "!pip install -q pyomo"
      ]
    },
    {
      "cell_type": "code",
      "source": [
        "from pyomo.environ import *"
      ],
      "metadata": {
        "id": "7hRi20-TEtyw"
      },
      "execution_count": 42,
      "outputs": []
    },
    {
      "cell_type": "code",
      "source": [
        "import numpy as np"
      ],
      "metadata": {
        "id": "lUCiCfd7E-S6"
      },
      "execution_count": 43,
      "outputs": []
    },
    {
      "cell_type": "code",
      "source": [
        "# create a model\n",
        "model = ConcreteModel()"
      ],
      "metadata": {
        "id": "7SvyEh0KFAxq"
      },
      "execution_count": 44,
      "outputs": []
    },
    {
      "cell_type": "code",
      "source": [
        "#Setting the values of m and n\n",
        "M = 4\n",
        "N = 20"
      ],
      "metadata": {
        "id": "aeEMhKcGFC3B"
      },
      "execution_count": 45,
      "outputs": []
    },
    {
      "cell_type": "code",
      "source": [
        "obj_coef_c = np.array([45,48,55,65,54,37.5,35,52.5,47,28,82,102,150,105,95,84,88,125,70,64])"
      ],
      "metadata": {
        "id": "AfZldpd2FOGc"
      },
      "execution_count": 46,
      "outputs": []
    },
    {
      "cell_type": "code",
      "source": [
        "constr_coef_A = np.array([[1,1,1,1,1,1,1,1,1,1,1,1,1,1,1,1,1,1,1,1],\n",
        "                          [0.2,0.25,0.1,0.3,0.125,0.35,0.475,0.1,0.2,0.5,0.2,0.25,0.1,0.3,0.125,0.35,0.475,0.1,0.2,0.5],\n",
        "                          [0.75,0.65,0.7,0.6,0.85,0.525,0.425,0.4,0.35,0.4,0.75,0.65,0.7,0.6,0.85,0.525,0.425,0.4,0.35,0.4],\n",
        "                          [0.05,0.1,0.2,0.1,0.025,0.125,0.1,0.5,0.45,0.1,0.05,0.1,0.2,0.1,0.025,0.125,0.1,0.5,0.45,0.1]])"
      ],
      "metadata": {
        "id": "QdnytfHRF842"
      },
      "execution_count": 47,
      "outputs": []
    },
    {
      "cell_type": "code",
      "source": [
        "#Creating the array for RHS of constraints\n",
        "constr_rhs_b = np.array([425,116.875,244.375,63.75]) "
      ],
      "metadata": {
        "id": "z1nELROjILzM"
      },
      "execution_count": 48,
      "outputs": []
    },
    {
      "cell_type": "code",
      "source": [
        "#Setting the lower and upper bounds\n",
        "lower_bound = np.array([0,0,0,0,0,0,0,0,0,0,0,0,0,0,0,0,0,0,0,0])\n",
        "upper_bound = np.array([15,16,9,17.5,12,18.5,2.5,0.5,9.5,8, np.inf, np.inf, np.inf, np.inf, np.inf, np.inf, np.inf, np.inf, np.inf, np.inf])"
      ],
      "metadata": {
        "id": "GEeOAru7JK-8"
      },
      "execution_count": 49,
      "outputs": []
    },
    {
      "cell_type": "code",
      "source": [
        "col_indices = np.arange(N)\n",
        "row_indices = np.arange(M)"
      ],
      "metadata": {
        "id": "82-kjXn4Jrtv"
      },
      "execution_count": 50,
      "outputs": []
    },
    {
      "cell_type": "code",
      "source": [
        "#declare the decision variables in the model\n",
        "model.x = Var(col_indices)"
      ],
      "metadata": {
        "id": "e7JOxG9-J6R1"
      },
      "execution_count": 51,
      "outputs": []
    },
    {
      "cell_type": "code",
      "source": [
        "# create a ConstraintList to hold multiple constraints\n",
        "model.constraints = ConstraintList()"
      ],
      "metadata": {
        "id": "AP4Ju0wsJ82l"
      },
      "execution_count": 52,
      "outputs": []
    },
    {
      "cell_type": "code",
      "source": [
        "#Adding the constraints to the constraint list\n",
        "for i in row_indices:\n",
        "  model.constraints.add(sum(constr_coef_A[i][j]*model.x[j] for j in col_indices) == constr_rhs_b[i])"
      ],
      "metadata": {
        "id": "h-Jho8zFKADx"
      },
      "execution_count": 53,
      "outputs": []
    },
    {
      "cell_type": "code",
      "source": [
        "for j in col_indices:\n",
        "  model.x[j].setlb(lower_bound[j])\n",
        "  model.x[j].setub(upper_bound[j])"
      ],
      "metadata": {
        "id": "dArlCpsXKCYe"
      },
      "execution_count": 54,
      "outputs": []
    },
    {
      "cell_type": "code",
      "source": [
        "# add the model objective\n",
        "model.objective = Objective(expr = sum(obj_coef_c[j]*model.x[j] for j in col_indices), sense=minimize)"
      ],
      "metadata": {
        "id": "vWkR-pKfKE9w"
      },
      "execution_count": 55,
      "outputs": []
    },
    {
      "cell_type": "code",
      "source": [
        "model.pprint()"
      ],
      "metadata": {
        "colab": {
          "base_uri": "https://localhost:8080/"
        },
        "id": "XyD7TAm7KHP6",
        "outputId": "6c279fea-a5a2-4e5b-816a-2e11435ca1a5"
      },
      "execution_count": 56,
      "outputs": [
        {
          "output_type": "stream",
          "name": "stdout",
          "text": [
            "2 Set Declarations\n",
            "    constraints_index : Size=1, Index=None, Ordered=Insertion\n",
            "        Key  : Dimen : Domain : Size : Members\n",
            "        None :     1 :    Any :    4 : {1, 2, 3, 4}\n",
            "    x_index : Size=1, Index=None, Ordered=False\n",
            "        Key  : Dimen : Domain : Size : Members\n",
            "        None :     1 :    Any :   20 : {0, 1, 2, 3, 4, 5, 6, 7, 8, 9, 10, 11, 12, 13, 14, 15, 16, 17, 18, 19}\n",
            "\n",
            "1 Var Declarations\n",
            "    x : Size=20, Index=x_index\n",
            "        Key : Lower : Value : Upper : Fixed : Stale : Domain\n",
            "          0 :     0 :  None :  15.0 : False :  True :  Reals\n",
            "          1 :     0 :  None :  16.0 : False :  True :  Reals\n",
            "          2 :     0 :  None :   9.0 : False :  True :  Reals\n",
            "          3 :     0 :  None :  17.5 : False :  True :  Reals\n",
            "          4 :     0 :  None :  12.0 : False :  True :  Reals\n",
            "          5 :     0 :  None :  18.5 : False :  True :  Reals\n",
            "          6 :     0 :  None :   2.5 : False :  True :  Reals\n",
            "          7 :     0 :  None :   0.5 : False :  True :  Reals\n",
            "          8 :     0 :  None :   9.5 : False :  True :  Reals\n",
            "          9 :     0 :  None :   8.0 : False :  True :  Reals\n",
            "         10 :     0 :  None :  None : False :  True :  Reals\n",
            "         11 :     0 :  None :  None : False :  True :  Reals\n",
            "         12 :     0 :  None :  None : False :  True :  Reals\n",
            "         13 :     0 :  None :  None : False :  True :  Reals\n",
            "         14 :     0 :  None :  None : False :  True :  Reals\n",
            "         15 :     0 :  None :  None : False :  True :  Reals\n",
            "         16 :     0 :  None :  None : False :  True :  Reals\n",
            "         17 :     0 :  None :  None : False :  True :  Reals\n",
            "         18 :     0 :  None :  None : False :  True :  Reals\n",
            "         19 :     0 :  None :  None : False :  True :  Reals\n",
            "\n",
            "1 Objective Declarations\n",
            "    objective : Size=1, Index=None, Active=True\n",
            "        Key  : Active : Sense    : Expression\n",
            "        None :   True : minimize : 45.0*x[0] + 48.0*x[1] + 55.0*x[2] + 65.0*x[3] + 54.0*x[4] + 37.5*x[5] + 35.0*x[6] + 52.5*x[7] + 47.0*x[8] + 28.0*x[9] + 82.0*x[10] + 102.0*x[11] + 150.0*x[12] + 105.0*x[13] + 95.0*x[14] + 84.0*x[15] + 88.0*x[16] + 125.0*x[17] + 70.0*x[18] + 64.0*x[19]\n",
            "\n",
            "1 Constraint Declarations\n",
            "    constraints : Size=4, Index=constraints_index, Active=True\n",
            "        Key : Lower   : Body                                                                                                                                                                                                                                                : Upper   : Active\n",
            "          1 :   425.0 :                                                                                                 x[0] + x[1] + x[2] + x[3] + x[4] + x[5] + x[6] + x[7] + x[8] + x[9] + x[10] + x[11] + x[12] + x[13] + x[14] + x[15] + x[16] + x[17] + x[18] + x[19] :   425.0 :   True\n",
            "          2 : 116.875 :     0.2*x[0] + 0.25*x[1] + 0.1*x[2] + 0.3*x[3] + 0.125*x[4] + 0.35*x[5] + 0.475*x[6] + 0.1*x[7] + 0.2*x[8] + 0.5*x[9] + 0.2*x[10] + 0.25*x[11] + 0.1*x[12] + 0.3*x[13] + 0.125*x[14] + 0.35*x[15] + 0.475*x[16] + 0.1*x[17] + 0.2*x[18] + 0.5*x[19] : 116.875 :   True\n",
            "          3 : 244.375 : 0.75*x[0] + 0.65*x[1] + 0.7*x[2] + 0.6*x[3] + 0.85*x[4] + 0.525*x[5] + 0.425*x[6] + 0.4*x[7] + 0.35*x[8] + 0.4*x[9] + 0.75*x[10] + 0.65*x[11] + 0.7*x[12] + 0.6*x[13] + 0.85*x[14] + 0.525*x[15] + 0.425*x[16] + 0.4*x[17] + 0.35*x[18] + 0.4*x[19] : 244.375 :   True\n",
            "          4 :   63.75 :     0.05*x[0] + 0.1*x[1] + 0.2*x[2] + 0.1*x[3] + 0.025*x[4] + 0.125*x[5] + 0.1*x[6] + 0.5*x[7] + 0.45*x[8] + 0.1*x[9] + 0.05*x[10] + 0.1*x[11] + 0.2*x[12] + 0.1*x[13] + 0.025*x[14] + 0.125*x[15] + 0.1*x[16] + 0.5*x[17] + 0.45*x[18] + 0.1*x[19] :   63.75 :   True\n",
            "\n",
            "5 Declarations: x_index x constraints_index constraints objective\n"
          ]
        }
      ]
    },
    {
      "cell_type": "code",
      "source": [
        "!apt-get install -y -qq glpk-utils"
      ],
      "metadata": {
        "id": "dr-cKTj2KJlS"
      },
      "execution_count": 57,
      "outputs": []
    },
    {
      "cell_type": "code",
      "source": [
        "SolverFactory('glpk', executable='/usr/bin/glpsol').solve(model).write()"
      ],
      "metadata": {
        "colab": {
          "base_uri": "https://localhost:8080/"
        },
        "id": "hZBGtx0UKL5j",
        "outputId": "a36f7b04-de1d-4889-dde6-c4b40af844a5"
      },
      "execution_count": 58,
      "outputs": [
        {
          "output_type": "stream",
          "name": "stdout",
          "text": [
            "# ==========================================================\n",
            "# = Solver Results                                         =\n",
            "# ==========================================================\n",
            "# ----------------------------------------------------------\n",
            "#   Problem Information\n",
            "# ----------------------------------------------------------\n",
            "Problem: \n",
            "- Name: unknown\n",
            "  Lower bound: 28747.1875\n",
            "  Upper bound: 28747.1875\n",
            "  Number of objectives: 1\n",
            "  Number of constraints: 5\n",
            "  Number of variables: 21\n",
            "  Number of nonzeros: 81\n",
            "  Sense: minimize\n",
            "# ----------------------------------------------------------\n",
            "#   Solver Information\n",
            "# ----------------------------------------------------------\n",
            "Solver: \n",
            "- Status: ok\n",
            "  Termination condition: optimal\n",
            "  Statistics: \n",
            "    Branch and bound: \n",
            "      Number of bounded subproblems: 0\n",
            "      Number of created subproblems: 0\n",
            "  Error rc: 0\n",
            "  Time: 0.01146554946899414\n",
            "# ----------------------------------------------------------\n",
            "#   Solution Information\n",
            "# ----------------------------------------------------------\n",
            "Solution: \n",
            "- number of solutions: 0\n",
            "  number of solutions displayed: 0\n"
          ]
        }
      ]
    },
    {
      "cell_type": "code",
      "source": [
        "# display solution\n",
        "print('\\nObjective = ', model.objective())\n",
        "\n",
        "print('\\nDecision Variables')\n",
        "for i in col_indices:\n",
        "  print('x[',i,'] = ', model.x[i].value)\n",
        "\n",
        "print('\\nConstraints')\n",
        "model.constraints.display()"
      ],
      "metadata": {
        "colab": {
          "base_uri": "https://localhost:8080/"
        },
        "id": "O8A5fGhvKP5O",
        "outputId": "76ebc317-bb4d-4d45-b66d-ea327870a2ef"
      },
      "execution_count": 59,
      "outputs": [
        {
          "output_type": "stream",
          "name": "stdout",
          "text": [
            "\n",
            "Objective =  28747.1875\n",
            "\n",
            "Decision Variables\n",
            "x[ 0 ] =  15.0\n",
            "x[ 1 ] =  16.0\n",
            "x[ 2 ] =  9.0\n",
            "x[ 3 ] =  17.5\n",
            "x[ 4 ] =  12.0\n",
            "x[ 5 ] =  18.5\n",
            "x[ 6 ] =  2.5\n",
            "x[ 7 ] =  0.5\n",
            "x[ 8 ] =  9.5\n",
            "x[ 9 ] =  8.0\n",
            "x[ 10 ] =  158.078125\n",
            "x[ 11 ] =  0.0\n",
            "x[ 12 ] =  0.0\n",
            "x[ 13 ] =  0.0\n",
            "x[ 14 ] =  0.0\n",
            "x[ 15 ] =  0.0\n",
            "x[ 16 ] =  0.0\n",
            "x[ 17 ] =  0.0\n",
            "x[ 18 ] =  74.046875\n",
            "x[ 19 ] =  84.375\n",
            "\n",
            "Constraints\n",
            "constraints : Size=4\n",
            "    Key : Lower   : Body    : Upper\n",
            "      1 :   425.0 :   425.0 :   425.0\n",
            "      2 : 116.875 : 116.875 : 116.875\n",
            "      3 : 244.375 : 244.375 : 244.375\n",
            "      4 :   63.75 :   63.75 :   63.75\n"
          ]
        }
      ]
    },
    {
      "cell_type": "markdown",
      "source": [
        "$\\large{\\textbf{Answer 3.3:}} \\\\ \\textbf{Objective function value = Min. Cost = }28747.1875 \\\\ \\textbf{Optimal Values of decision variables:} \\\\ x_1 = 15 \\ , \\ x_2 = 16 \\ , \\ x_3 = 9 \\ , \\ x_4 = 17.5 \\ , \\ x_5 = 12 , \\\\ x_6 = 18.5 \\ , \\ x_7 = 2.5 \\ , \\ x_8 = 0.5 \\ , \\ x_9 = 9.5 \\ , \\  x_{10} = 8 , \\\\ x_{11} = 158.078125 \\ , \\  x_{12} = 0 \\ , \\  x_{13} = 0 \\ , \\  x_{14} = 0 \\ , \\  x_{15} = 0 , \\\\  x_{16} = 0 \\ , \\ _{17} = 0 \\ , \\  x_{18} = 0 \\ , \\  x_{19} = 74.046875 \\ , \\  x_{20} = 84.375$"
      ],
      "metadata": {
        "id": "IHVNoVfHMcaI"
      }
    },
    {
      "cell_type": "markdown",
      "source": [
        "$\\large{\\textbf{Total quantities of alloys used:}} \\\\ A-1 = x_1 + x_{11} = 15 + 158.078125 = 173.078125 \\\\ A-2 = x_2 + x_{12} = 16 + 0 = 16 \\\\ A-3 = x_3 + x_{13} = 9 + 0 = 9 \\\\ A-4 = x_4 + x_{14} = 17.5 + 0 = 17.5 \\\\ A-5 = x_5 + x_{15} = 12 + 0 = 12 \\\\ A-6 = x_6 + x_{16} = 18.5 + 0 = 18.5 \\\\ A-7 = x_7 + x_{17} = 2.5 + 0 = 2.5 \\\\ A-8 = x_8 + x_{18} = 0.5 + 0 = 0.5 \\\\ A-9 = x_9 + x_{19} = 9.5 + 74.046875 = 83.546875 \\\\ A-10 = x_{10} + x_{20} = 8 + 84.375 = 92.375$"
      ],
      "metadata": {
        "id": "2NHGfx08Ogvb"
      }
    },
    {
      "cell_type": "markdown",
      "source": [
        "$\\large{\\textbf{Answer 3.4 :}} \\\\ \\text{Only three alloys are required to be bought from the market, rest are only used from the in-house stock.} \\\\ \\text{The alloys ranked in the decreasing order of quantities bought are: } \\\\ 1. \\ A-1 \\ = 158.078125 \\\\ 2. \\ A-10 \\ = 84.375 \\\\ 3. \\ A-9  \\ =74.046875 \\\\ \\text{Rest are not purchased from the market so the quantities bought are zero. Hence they are equally ranked at the bottom.}$ \n"
      ],
      "metadata": {
        "id": "2bbxfZFdQPse"
      }
    },
    {
      "cell_type": "markdown",
      "source": [
        "$\\large{\\textbf{Answer 3.5 : }} \\\\ \\text{All the alloys are completely utilised as the in-house cost is comparitively very low from the purchasing cost,} \\\\ \\text{ so the alloys are first used from the stock then they are bought from the market. }$"
      ],
      "metadata": {
        "id": "VFVErkA_S0nZ"
      }
    },
    {
      "cell_type": "markdown",
      "source": [
        "$\\large{\\textbf{Answer 3.6 :}} \\\\ \\text{The alloys which are not acquired from the market are : } \\\\ 1. \\ A-2 \\\\ 2. \\ A-3 \\\\ 3. \\ A-4 \\\\ 4. \\ A-5 \\\\ 5. \\ A-6 \\\\ 6. \\ A-7 \\\\ 7. \\ A-8 \\\\ \\text{The purchasing cost of the above stated alloys is higher than the purchasing cost of the rest of the three alloys,} \\\\ \\text{hence the alloys with the lower costs are first used and they satisfied the demand of the constraints so alloys with higher costs are not used.}$"
      ],
      "metadata": {
        "id": "P2nvd7Z8pEGW"
      }
    }
  ]
}