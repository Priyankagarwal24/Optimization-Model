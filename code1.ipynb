{
  "nbformat": 4,
  "nbformat_minor": 0,
  "metadata": {
    "colab": {
      "name": "22N0453_IE507_Lab1.ipynb",
      "provenance": [],
      "collapsed_sections": []
    },
    "kernelspec": {
      "name": "python3",
      "display_name": "Python 3"
    },
    "language_info": {
      "name": "python"
    }
  },
  "cells": [
    {
      "cell_type": "markdown",
      "source": [
        "**Calling the packages required for the work**"
      ],
      "metadata": {
        "id": "Nox4Jsfy-6za"
      }
    },
    {
      "cell_type": "code",
      "source": [
        "!pip install -q pyomo"
      ],
      "metadata": {
        "colab": {
          "base_uri": "https://localhost:8080/"
        },
        "id": "arbXoXJ7-WWJ",
        "outputId": "a02f7373-2feb-4dc1-94b5-da918deaf494"
      },
      "execution_count": 1,
      "outputs": [
        {
          "output_type": "stream",
          "name": "stdout",
          "text": [
            "\u001b[K     |████████████████████████████████| 9.6 MB 21.7 MB/s \n",
            "\u001b[K     |████████████████████████████████| 49 kB 5.8 MB/s \n",
            "\u001b[?25h"
          ]
        }
      ]
    },
    {
      "cell_type": "code",
      "source": [
        "from pyomo.environ import * "
      ],
      "metadata": {
        "id": "OUdYOb3u-bU9"
      },
      "execution_count": 2,
      "outputs": []
    },
    {
      "cell_type": "code",
      "source": [
        "!apt-get install -y -qq glpk-utils"
      ],
      "metadata": {
        "colab": {
          "base_uri": "https://localhost:8080/"
        },
        "id": "9R3hUObY-iwO",
        "outputId": "dcb62f1f-029d-4505-8c4c-3efe4cb7f7ff"
      },
      "execution_count": 3,
      "outputs": [
        {
          "output_type": "stream",
          "name": "stdout",
          "text": [
            "Selecting previously unselected package libsuitesparseconfig5:amd64.\n",
            "(Reading database ... 155673 files and directories currently installed.)\n",
            "Preparing to unpack .../libsuitesparseconfig5_1%3a5.1.2-2_amd64.deb ...\n",
            "Unpacking libsuitesparseconfig5:amd64 (1:5.1.2-2) ...\n",
            "Selecting previously unselected package libamd2:amd64.\n",
            "Preparing to unpack .../libamd2_1%3a5.1.2-2_amd64.deb ...\n",
            "Unpacking libamd2:amd64 (1:5.1.2-2) ...\n",
            "Selecting previously unselected package libcolamd2:amd64.\n",
            "Preparing to unpack .../libcolamd2_1%3a5.1.2-2_amd64.deb ...\n",
            "Unpacking libcolamd2:amd64 (1:5.1.2-2) ...\n",
            "Selecting previously unselected package libglpk40:amd64.\n",
            "Preparing to unpack .../libglpk40_4.65-1_amd64.deb ...\n",
            "Unpacking libglpk40:amd64 (4.65-1) ...\n",
            "Selecting previously unselected package glpk-utils.\n",
            "Preparing to unpack .../glpk-utils_4.65-1_amd64.deb ...\n",
            "Unpacking glpk-utils (4.65-1) ...\n",
            "Setting up libsuitesparseconfig5:amd64 (1:5.1.2-2) ...\n",
            "Setting up libcolamd2:amd64 (1:5.1.2-2) ...\n",
            "Setting up libamd2:amd64 (1:5.1.2-2) ...\n",
            "Setting up libglpk40:amd64 (4.65-1) ...\n",
            "Setting up glpk-utils (4.65-1) ...\n",
            "Processing triggers for libc-bin (2.27-3ubuntu1.3) ...\n",
            "Processing triggers for man-db (2.8.3-2ubuntu0.1) ...\n"
          ]
        }
      ]
    },
    {
      "cell_type": "markdown",
      "source": [
        "$\\large{\\textbf{Solution to Exercise 1:}}$"
      ],
      "metadata": {
        "id": "aEMt4yEO5hIv"
      }
    },
    {
      "cell_type": "code",
      "execution_count": 4,
      "metadata": {
        "id": "iMLmkBop13by"
      },
      "outputs": [],
      "source": [
        "# Create a model\n",
        "model1 = ConcreteModel()"
      ]
    },
    {
      "cell_type": "code",
      "source": [
        "#Declare decision variables\n",
        "model1.x1 = Var(domain=Reals)\n",
        "model1.x2 = Var(domain=NonNegativeReals)\n",
        "model1.x3 = Var(domain=Reals)\n",
        "model1.x4 = Var(domain=Reals)\n",
        "model1.x5 = Var(domain=Reals)\n",
        "model1.x6 = Var(domain=NonNegativeReals)\n",
        "model1.x7 = Var(domain=Reals)"
      ],
      "metadata": {
        "id": "YC-z87lw_Jp2"
      },
      "execution_count": 5,
      "outputs": []
    },
    {
      "cell_type": "code",
      "source": [
        "#Declare objective function\n",
        "model1.obj1 = Objective(expr = -3*model1.x1 - 2*model1.x2 + 8*model1.x3 - 7*model1.x4 + 0.19*model1.x5 + 11*model1.x6 + 20.2*model1.x7, sense=minimize)"
      ],
      "metadata": {
        "id": "XLZy3ysB_nJu"
      },
      "execution_count": 6,
      "outputs": []
    },
    {
      "cell_type": "code",
      "source": [
        "#Declare constraints\n",
        "model1.cons1 = Constraint(expr = model1.x1 + model1.x2 + model1.x3 + model1.x4 + model1.x5 + model1.x6 + model1.x7 == 256)\n",
        "model1.cons2 = Constraint(expr = -model1.x2 + model1.x3 >=10)\n",
        "model1.cons3 = Constraint(expr = -3*model1.x1 + model1.x5 - 12*model1.x6 <= 105)\n",
        "model1.cons4 = Constraint(expr = 18.5*model1.x2 + 30.5*model1.x4 - model1.x7 >= 28)\n",
        "model1.cons5 = Constraint(expr = -model1.x3 - 4*model1.x5 + model1.x7 >= 31)\n",
        "model1.cons6 = Constraint(expr = model1.x1>= -5)\n",
        "model1.cons7 = Constraint(expr = model1.x3>= 5)\n",
        "model1.cons8 = Constraint(expr = model1.x4>= -3)\n",
        "model1.cons9 = Constraint(expr = model1.x5>= -4)\n",
        "model1.cons10 = Constraint(expr = model1.x7>= 10)"
      ],
      "metadata": {
        "id": "srfcUleUB2w5"
      },
      "execution_count": 7,
      "outputs": []
    },
    {
      "cell_type": "code",
      "source": [
        "model1.pprint()"
      ],
      "metadata": {
        "colab": {
          "base_uri": "https://localhost:8080/"
        },
        "id": "lXnjt3ZCDps1",
        "outputId": "47743654-8502-47ed-e917-e8cdcb7cb1bd"
      },
      "execution_count": 8,
      "outputs": [
        {
          "output_type": "stream",
          "name": "stdout",
          "text": [
            "7 Var Declarations\n",
            "    x1 : Size=1, Index=None\n",
            "        Key  : Lower : Value : Upper : Fixed : Stale : Domain\n",
            "        None :  None :  None :  None : False :  True :  Reals\n",
            "    x2 : Size=1, Index=None\n",
            "        Key  : Lower : Value : Upper : Fixed : Stale : Domain\n",
            "        None :     0 :  None :  None : False :  True : NonNegativeReals\n",
            "    x3 : Size=1, Index=None\n",
            "        Key  : Lower : Value : Upper : Fixed : Stale : Domain\n",
            "        None :  None :  None :  None : False :  True :  Reals\n",
            "    x4 : Size=1, Index=None\n",
            "        Key  : Lower : Value : Upper : Fixed : Stale : Domain\n",
            "        None :  None :  None :  None : False :  True :  Reals\n",
            "    x5 : Size=1, Index=None\n",
            "        Key  : Lower : Value : Upper : Fixed : Stale : Domain\n",
            "        None :  None :  None :  None : False :  True :  Reals\n",
            "    x6 : Size=1, Index=None\n",
            "        Key  : Lower : Value : Upper : Fixed : Stale : Domain\n",
            "        None :     0 :  None :  None : False :  True : NonNegativeReals\n",
            "    x7 : Size=1, Index=None\n",
            "        Key  : Lower : Value : Upper : Fixed : Stale : Domain\n",
            "        None :  None :  None :  None : False :  True :  Reals\n",
            "\n",
            "1 Objective Declarations\n",
            "    obj1 : Size=1, Index=None, Active=True\n",
            "        Key  : Active : Sense    : Expression\n",
            "        None :   True : minimize : -3*x1 - 2*x2 + 8*x3 - 7*x4 + 0.19*x5 + 11*x6 + 20.2*x7\n",
            "\n",
            "10 Constraint Declarations\n",
            "    cons1 : Size=1, Index=None, Active=True\n",
            "        Key  : Lower : Body                             : Upper : Active\n",
            "        None : 256.0 : x1 + x2 + x3 + x4 + x5 + x6 + x7 : 256.0 :   True\n",
            "    cons10 : Size=1, Index=None, Active=True\n",
            "        Key  : Lower : Body : Upper : Active\n",
            "        None :  10.0 :   x7 :  +Inf :   True\n",
            "    cons2 : Size=1, Index=None, Active=True\n",
            "        Key  : Lower : Body      : Upper : Active\n",
            "        None :  10.0 : - x2 + x3 :  +Inf :   True\n",
            "    cons3 : Size=1, Index=None, Active=True\n",
            "        Key  : Lower : Body               : Upper : Active\n",
            "        None :  -Inf : -3*x1 + x5 - 12*x6 : 105.0 :   True\n",
            "    cons4 : Size=1, Index=None, Active=True\n",
            "        Key  : Lower : Body                   : Upper : Active\n",
            "        None :  28.0 : 18.5*x2 + 30.5*x4 - x7 :  +Inf :   True\n",
            "    cons5 : Size=1, Index=None, Active=True\n",
            "        Key  : Lower : Body             : Upper : Active\n",
            "        None :  31.0 : - x3 - 4*x5 + x7 :  +Inf :   True\n",
            "    cons6 : Size=1, Index=None, Active=True\n",
            "        Key  : Lower : Body : Upper : Active\n",
            "        None :  -5.0 :   x1 :  +Inf :   True\n",
            "    cons7 : Size=1, Index=None, Active=True\n",
            "        Key  : Lower : Body : Upper : Active\n",
            "        None :   5.0 :   x3 :  +Inf :   True\n",
            "    cons8 : Size=1, Index=None, Active=True\n",
            "        Key  : Lower : Body : Upper : Active\n",
            "        None :  -3.0 :   x4 :  +Inf :   True\n",
            "    cons9 : Size=1, Index=None, Active=True\n",
            "        Key  : Lower : Body : Upper : Active\n",
            "        None :  -4.0 :   x5 :  +Inf :   True\n",
            "\n",
            "18 Declarations: x1 x2 x3 x4 x5 x6 x7 obj1 cons1 cons2 cons3 cons4 cons5 cons6 cons7 cons8 cons9 cons10\n"
          ]
        }
      ]
    },
    {
      "cell_type": "code",
      "source": [
        "SolverFactory('glpk', executable= '/usr/bin/glpsol').solve(model1).write()"
      ],
      "metadata": {
        "colab": {
          "base_uri": "https://localhost:8080/"
        },
        "id": "EtT2MDHwDtYE",
        "outputId": "9a8f56da-d682-4433-8ab2-47578c81a208"
      },
      "execution_count": 9,
      "outputs": [
        {
          "output_type": "stream",
          "name": "stdout",
          "text": [
            "# ==========================================================\n",
            "# = Solver Results                                         =\n",
            "# ==========================================================\n",
            "# ----------------------------------------------------------\n",
            "#   Problem Information\n",
            "# ----------------------------------------------------------\n",
            "Problem: \n",
            "- Name: unknown\n",
            "  Lower bound: -1010.76\n",
            "  Upper bound: -1010.76\n",
            "  Number of objectives: 1\n",
            "  Number of constraints: 11\n",
            "  Number of variables: 8\n",
            "  Number of nonzeros: 24\n",
            "  Sense: minimize\n",
            "# ----------------------------------------------------------\n",
            "#   Solver Information\n",
            "# ----------------------------------------------------------\n",
            "Solver: \n",
            "- Status: ok\n",
            "  Termination condition: optimal\n",
            "  Statistics: \n",
            "    Branch and bound: \n",
            "      Number of bounded subproblems: 0\n",
            "      Number of created subproblems: 0\n",
            "  Error rc: 0\n",
            "  Time: 0.02539825439453125\n",
            "# ----------------------------------------------------------\n",
            "#   Solution Information\n",
            "# ----------------------------------------------------------\n",
            "Solution: \n",
            "- number of solutions: 0\n",
            "  number of solutions displayed: 0\n"
          ]
        }
      ]
    },
    {
      "cell_type": "code",
      "source": [
        "#Displaying the optimal solution\n",
        "print('\\nCost = ', model1.obj1())\n",
        "\n",
        "print('\\nDecision Variables')\n",
        "print('x1 = ', model1.x1())\n",
        "print('x2 = ', model1.x2())\n",
        "print('x3 = ', model1.x3())\n",
        "print('x4 = ', model1.x4())\n",
        "print('x5 = ', model1.x5())\n",
        "print('x6 = ', model1.x6())\n",
        "print('x7 = ', model1.x7())\n",
        "\n",
        "print('\\nConstraints')\n",
        "print('Constraint 1  = ', model1.cons1())\n",
        "print('Constraint 2  = ', model1.cons2())\n",
        "print('Constraint 3  = ', model1.cons3())\n",
        "print('Constraint 4  = ', model1.cons4())\n",
        "print('Constraint 5  = ', model1.cons5())"
      ],
      "metadata": {
        "colab": {
          "base_uri": "https://localhost:8080/"
        },
        "id": "4MNM3zdRED6K",
        "outputId": "314abda4-30a3-4844-ec28-6e5a9aa9d6cb"
      },
      "execution_count": 10,
      "outputs": [
        {
          "output_type": "stream",
          "name": "stdout",
          "text": [
            "\n",
            "Cost =  -1010.760000000002\n",
            "\n",
            "Decision Variables\n",
            "x1 =  -5.0\n",
            "x2 =  0.0\n",
            "x3 =  10.0\n",
            "x4 =  230.0\n",
            "x5 =  -4.0\n",
            "x6 =  0.0\n",
            "x7 =  24.9999999999999\n",
            "\n",
            "Constraints\n",
            "Constraint 1  =  255.9999999999999\n",
            "Constraint 2  =  10.0\n",
            "Constraint 3  =  11.0\n",
            "Constraint 4  =  6990.0\n",
            "Constraint 5  =  30.9999999999999\n"
          ]
        }
      ]
    },
    {
      "cell_type": "markdown",
      "source": [
        "$\\large{\\mathbf{Observations:}}$\n",
        "\n",
        "$\\mathbf{1.3}$\n",
        "\n",
        "Objective Function Value = -1010.76\n",
        "\n",
        "$x_1 = -5 \\\\ x_2 = 0 \\\\ x_3 = 10 \\\\ x_4 = 230 \\\\ x_5 = -4 \\\\ x_6 = 0 \\\\ x_7 = 25$\n",
        "\n",
        "$\\mathbf{1.4} \\\\ \\textbf{Constraint 1:} \\ \\text{It is active as value of LHS = 256 which satisfies the equality constraint.} \\\\ \\textbf{Constraint 2:} \\ \\text{It is active as value of LHS = 10 which satisfies the equality constraint.} \\\\ \\textbf{Constraint 3:} \\text{ It is inactive as value if LHS = 11 which is strictly less than RHS = 105.} \\\\ \\textbf{Constraint 4:} \\text{ It is inactive as value of LHS = 6990 which is strictly greater than RHS = 28.} \\\\ \\textbf{Constraint 5:} \\text{ It is active as value of LHS = 31 which satisfies the equality constraint.}$"
      ],
      "metadata": {
        "id": "6G-ExK6pG2KA"
      }
    },
    {
      "cell_type": "markdown",
      "source": [
        "$\\large{\\textbf{Solution to Exercise 2:}}$"
      ],
      "metadata": {
        "id": "eAza-n6xFRnH"
      }
    },
    {
      "cell_type": "markdown",
      "source": [
        "$\\large{\\mathbf{2.1 \\ Formulation:}}$\n",
        "\n",
        "\n",
        "$\\\\ \\\\ \\large{\\text{Assumption 1:}}\\ \\\\ -x_2 - x_4 + x_5 \\geq ϵ_1 \\ \\\\ -x_1 + x_3 + x_6 - 2y \\geq \\epsilon_2 \\\\ \\text{where} \\ ϵ_1, ϵ_2 \\text{ are very small positive reals.} $\n",
        "\n",
        "$\\textbf{Problem:} \\\\ \\text{max } 0.082x_1 + 0.036x_2 + 0.0156x_3 + 0.033x_4 + 0.054x_5 + 0.0125y \\\\ \\text{s.t. } 3x_1 - 3x_2 + 5x_3 - x_4 + x_5 - y \\leq 80 \\\\ x_3 + 2x_4 + 4y \\geq 30 \\\\ 3x_1 + 3.6x_2 - 1.5x_3 + 5.6x_4 - 1.8x_5 + 6x_6 \\leq 0 \\\\ 7x_1 - 2x_2 - 3x_3 + 4x_4 + 5x_5 - 6x_6 + 12y \\leq 0 \\\\ x_1,x_2,x_3,x_4,x_5,x_6 \\geq 0 \\\\ -0.2 \\leq y \\leq 5.5$\n",
        "\n"
      ],
      "metadata": {
        "id": "oSkxp1dLG1mk"
      }
    },
    {
      "cell_type": "code",
      "source": [
        "!pip install -q pyomo"
      ],
      "metadata": {
        "id": "uxJ89_nZM9SO"
      },
      "execution_count": 11,
      "outputs": []
    },
    {
      "cell_type": "code",
      "source": [
        "from pyomo.environ import * "
      ],
      "metadata": {
        "id": "J4QR7OqdNBF2"
      },
      "execution_count": 12,
      "outputs": []
    },
    {
      "cell_type": "code",
      "source": [
        "!apt-get install -y -qq glpk-utils"
      ],
      "metadata": {
        "id": "K2AcXS7vNF4B"
      },
      "execution_count": 13,
      "outputs": []
    },
    {
      "cell_type": "code",
      "source": [
        "# Create a model\n",
        "model2 = ConcreteModel()"
      ],
      "metadata": {
        "id": "if3SbuDVFBJ4"
      },
      "execution_count": 14,
      "outputs": []
    },
    {
      "cell_type": "code",
      "source": [
        "#Declare decision variables\n",
        "model2.x1 = Var(domain=NonNegativeReals)\n",
        "model2.x2 = Var(domain=NonNegativeReals)\n",
        "model2.x3 = Var(domain=NonNegativeReals)\n",
        "model2.x4 = Var(domain=NonNegativeReals)\n",
        "model2.x5 = Var(domain=NonNegativeReals)\n",
        "model2.x6 = Var(domain=NonNegativeReals)\n",
        "model2.y = Var(domain=Reals)"
      ],
      "metadata": {
        "id": "lvIMsrJeMuXC"
      },
      "execution_count": 15,
      "outputs": []
    },
    {
      "cell_type": "code",
      "source": [
        "#Declare objective function\n",
        "model2.obj2 = Objective(expr = 0.082*model2.x1 + 0.036*model2.x2 + 0.0156*model2.x3 + 0.033*model2.x4 + 0.054*model2.x5 + 0.0125*model2.y, sense=maximize)"
      ],
      "metadata": {
        "id": "lVrx8lBiNhLJ"
      },
      "execution_count": 16,
      "outputs": []
    },
    {
      "cell_type": "code",
      "source": [
        "#Declare constraints\n",
        "model2.cons1 = Constraint(expr = 3*model2.x1 - 3*model2.x2 + 5*model2.x3 - model2.x4 + model2.x5 - model2.y <= 80)\n",
        "model2.cons2 = Constraint(expr = model2.x3 + 2*model2.x4 + 4*model2.y >= 30)\n",
        "model2.cons3 = Constraint(expr = 3*model2.x1 + 3.6*model2.x2 - 1.5*model2.x3 + 5.6*model2.x4 - 1.8*model2.x5 + 6*model2.x6 <= 0)\n",
        "model2.cons4 = Constraint(expr = 7*model2.x1 - 2*model2.x2 - 3*model2.x3 + 4*model2.x4 + 5*model2.x5 - 6*model2.x6 + 12*model2.y <= 0)\n",
        "model2.cons5 = Constraint(expr = model2.y >= -0.2)\n",
        "model2.cons6 = Constraint(expr = model2.y <= 5.5)"
      ],
      "metadata": {
        "id": "yuTN7L_fOhSP"
      },
      "execution_count": 17,
      "outputs": []
    },
    {
      "cell_type": "code",
      "source": [
        "model2.pprint()"
      ],
      "metadata": {
        "colab": {
          "base_uri": "https://localhost:8080/"
        },
        "id": "o1M0Rz3MRSRL",
        "outputId": "19bc9bfc-0fbb-4501-f19e-b252cb3d628b"
      },
      "execution_count": 18,
      "outputs": [
        {
          "output_type": "stream",
          "name": "stdout",
          "text": [
            "7 Var Declarations\n",
            "    x1 : Size=1, Index=None\n",
            "        Key  : Lower : Value : Upper : Fixed : Stale : Domain\n",
            "        None :     0 :  None :  None : False :  True : NonNegativeReals\n",
            "    x2 : Size=1, Index=None\n",
            "        Key  : Lower : Value : Upper : Fixed : Stale : Domain\n",
            "        None :     0 :  None :  None : False :  True : NonNegativeReals\n",
            "    x3 : Size=1, Index=None\n",
            "        Key  : Lower : Value : Upper : Fixed : Stale : Domain\n",
            "        None :     0 :  None :  None : False :  True : NonNegativeReals\n",
            "    x4 : Size=1, Index=None\n",
            "        Key  : Lower : Value : Upper : Fixed : Stale : Domain\n",
            "        None :     0 :  None :  None : False :  True : NonNegativeReals\n",
            "    x5 : Size=1, Index=None\n",
            "        Key  : Lower : Value : Upper : Fixed : Stale : Domain\n",
            "        None :     0 :  None :  None : False :  True : NonNegativeReals\n",
            "    x6 : Size=1, Index=None\n",
            "        Key  : Lower : Value : Upper : Fixed : Stale : Domain\n",
            "        None :     0 :  None :  None : False :  True : NonNegativeReals\n",
            "    y : Size=1, Index=None\n",
            "        Key  : Lower : Value : Upper : Fixed : Stale : Domain\n",
            "        None :  None :  None :  None : False :  True :  Reals\n",
            "\n",
            "1 Objective Declarations\n",
            "    obj2 : Size=1, Index=None, Active=True\n",
            "        Key  : Active : Sense    : Expression\n",
            "        None :   True : maximize : 0.082*x1 + 0.036*x2 + 0.0156*x3 + 0.033*x4 + 0.054*x5 + 0.0125*y\n",
            "\n",
            "6 Constraint Declarations\n",
            "    cons1 : Size=1, Index=None, Active=True\n",
            "        Key  : Lower : Body                             : Upper : Active\n",
            "        None :  -Inf : 3*x1 - 3*x2 + 5*x3 - x4 + x5 - y :  80.0 :   True\n",
            "    cons2 : Size=1, Index=None, Active=True\n",
            "        Key  : Lower : Body            : Upper : Active\n",
            "        None :  30.0 : x3 + 2*x4 + 4*y :  +Inf :   True\n",
            "    cons3 : Size=1, Index=None, Active=True\n",
            "        Key  : Lower : Body                                            : Upper : Active\n",
            "        None :  -Inf : 3*x1 + 3.6*x2 - 1.5*x3 + 5.6*x4 - 1.8*x5 + 6*x6 :   0.0 :   True\n",
            "    cons4 : Size=1, Index=None, Active=True\n",
            "        Key  : Lower : Body                                           : Upper : Active\n",
            "        None :  -Inf : 7*x1 - 2*x2 - 3*x3 + 4*x4 + 5*x5 - 6*x6 + 12*y :   0.0 :   True\n",
            "    cons5 : Size=1, Index=None, Active=True\n",
            "        Key  : Lower : Body : Upper : Active\n",
            "        None :  -0.2 :    y :  +Inf :   True\n",
            "    cons6 : Size=1, Index=None, Active=True\n",
            "        Key  : Lower : Body : Upper : Active\n",
            "        None :  -Inf :    y :   5.5 :   True\n",
            "\n",
            "14 Declarations: x1 x2 x3 x4 x5 x6 y obj2 cons1 cons2 cons3 cons4 cons5 cons6\n"
          ]
        }
      ]
    },
    {
      "cell_type": "code",
      "source": [
        "SolverFactory('glpk', executable= '/usr/bin/glpsol').solve(model2).write()"
      ],
      "metadata": {
        "colab": {
          "base_uri": "https://localhost:8080/"
        },
        "id": "G51_ZPZsRe8Z",
        "outputId": "5cac0bc9-29ef-4ff2-fd2b-120636cd81a8"
      },
      "execution_count": 19,
      "outputs": [
        {
          "output_type": "stream",
          "name": "stdout",
          "text": [
            "# ==========================================================\n",
            "# = Solver Results                                         =\n",
            "# ==========================================================\n",
            "# ----------------------------------------------------------\n",
            "#   Problem Information\n",
            "# ----------------------------------------------------------\n",
            "Problem: \n",
            "- Name: unknown\n",
            "  Lower bound: 2.12102483443709\n",
            "  Upper bound: 2.12102483443709\n",
            "  Number of objectives: 1\n",
            "  Number of constraints: 7\n",
            "  Number of variables: 8\n",
            "  Number of nonzeros: 25\n",
            "  Sense: maximize\n",
            "# ----------------------------------------------------------\n",
            "#   Solver Information\n",
            "# ----------------------------------------------------------\n",
            "Solver: \n",
            "- Status: ok\n",
            "  Termination condition: optimal\n",
            "  Statistics: \n",
            "    Branch and bound: \n",
            "      Number of bounded subproblems: 0\n",
            "      Number of created subproblems: 0\n",
            "  Error rc: 0\n",
            "  Time: 0.04104757308959961\n",
            "# ----------------------------------------------------------\n",
            "#   Solution Information\n",
            "# ----------------------------------------------------------\n",
            "Solution: \n",
            "- number of solutions: 0\n",
            "  number of solutions displayed: 0\n"
          ]
        }
      ]
    },
    {
      "cell_type": "code",
      "source": [
        "print('\\nCost = ', model2.obj2())\n",
        "\n",
        "print('\\nDecision Variables')\n",
        "print('x1 = ', model2.x1())\n",
        "print('x2 = ', model2.x2())\n",
        "print('x3 = ', model2.x3())\n",
        "print('x4 = ', model2.x4())\n",
        "print('x5 = ', model2.x5())\n",
        "print('x6 = ', model2.x6())\n",
        "print('y = ', model2.y())\n",
        "\n",
        "print('\\nConstraints')\n",
        "print('Constraint 1  = ', model2.cons1())\n",
        "print('Constraint 2  = ', model2.cons2())\n",
        "print('Constraint 3  = ', model2.cons3())\n",
        "print('Constraint 4  = ', model2.cons4())"
      ],
      "metadata": {
        "colab": {
          "base_uri": "https://localhost:8080/"
        },
        "id": "muTid0NCRj9N",
        "outputId": "93f66158-df01-4026-be8f-1004a25a4df5"
      },
      "execution_count": 20,
      "outputs": [
        {
          "output_type": "stream",
          "name": "stdout",
          "text": [
            "\n",
            "Cost =  2.1210248344370837\n",
            "\n",
            "Decision Variables\n",
            "x1 =  0.0\n",
            "x2 =  19.5529801324503\n",
            "x3 =  24.2384105960265\n",
            "x4 =  0.0\n",
            "x5 =  18.9072847682119\n",
            "x6 =  0.0\n",
            "y =  1.44039735099338\n",
            "\n",
            "Constraints\n",
            "Constraint 1  =  80.00000000000011\n",
            "Constraint 2  =  30.00000000000002\n",
            "Constraint 3  =  -9.237055564881302e-14\n",
            "Constraint 4  =  -6.039613253960852e-14\n"
          ]
        }
      ]
    },
    {
      "cell_type": "code",
      "source": [
        "print(-model2.x2() - model2.x4() + model2.x5())\n",
        "print(-model2.x1() + model2.x3() + model2.x6() - 2*model2.y())"
      ],
      "metadata": {
        "colab": {
          "base_uri": "https://localhost:8080/"
        },
        "id": "RIxAC5sao5I0",
        "outputId": "54345fa2-9b03-4c7a-a6e3-7f43c3257e7f"
      },
      "execution_count": 21,
      "outputs": [
        {
          "output_type": "stream",
          "name": "stdout",
          "text": [
            "-0.6456953642384029\n",
            "21.35761589403974\n"
          ]
        }
      ]
    },
    {
      "cell_type": "markdown",
      "source": [
        "$\\large{\\textbf{Observations:}} \\\\ -x_2 - x_4 + x_5 = -19.55 - 24.238 + 18.907 = -0.64569  \\\\ \\text{ is coming out to be negative which is a contradiction to our assumption.} \\\\ \\text{Hence there is no optimal solution to the problem when} \\\\ -x_2 - x_4 + x_5 \\geq ϵ_1 \\ \\\\ -x_1 + x_3 + x_6 - 2y \\geq \\epsilon_2 \\\\ \\text{where} \\ ϵ_1, ϵ_2 \\text{ are very small positive reals.}$"
      ],
      "metadata": {
        "id": "QeWr0R0dns4U"
      }
    },
    {
      "cell_type": "markdown",
      "source": [
        "$\\\\ \\\\ \\large{\\textbf{Assumption 2:}}\\ \\\\ -x_2 - x_4 + x_5 \\geq ϵ_1 \\ \\\\ -x_1 + x_3 + x_6 - 2y \\leq -\\epsilon_2 \\\\ \\text{where} \\ ϵ_1, ϵ_2 \\text{ are very small positive reals.} $\n",
        "\n",
        "$\\textbf{Problem:} \\\\ \\text{max } 0.082x_1 + 0.036x_2 + 0.0156x_3 + 0.033x_4 + 0.054x_5 + 0.0125y \\\\ \\text{s.t. } 3x_1 - 3x_2 + 5x_3 - x_4 + x_5 - y \\leq 80 \\\\ x_3 + 2x_4 + 4y \\geq 30 \\\\ 3x_1 + 3.6x_2 - 1.5x_3 + 5.6x_4 - 1.8x_5 + 6x_6 \\leq 0 \\\\ 7x_1 - 2x_2 - 3x_3 + 4x_4 + 5x_5 - 6x_6 + 12y \\geq 0 \\\\ x_1,x_2,x_3,x_4,x_5,x_6 \\geq 0 \\\\ -0.2 \\leq y \\leq 5.5$\n"
      ],
      "metadata": {
        "id": "bMyB3PZ3G3Yu"
      }
    },
    {
      "cell_type": "code",
      "source": [
        "!pip install -q pyomo"
      ],
      "metadata": {
        "id": "qhP5bDkXTGR_"
      },
      "execution_count": 22,
      "outputs": []
    },
    {
      "cell_type": "code",
      "source": [
        "from pyomo.environ import * "
      ],
      "metadata": {
        "id": "dDDAP2WjHW0C"
      },
      "execution_count": 23,
      "outputs": []
    },
    {
      "cell_type": "code",
      "source": [
        "!apt-get install -y -qq glpk-utils"
      ],
      "metadata": {
        "id": "Lf6GScffHYF2"
      },
      "execution_count": 24,
      "outputs": []
    },
    {
      "cell_type": "code",
      "source": [
        "# Create a model\n",
        "model22 = ConcreteModel()"
      ],
      "metadata": {
        "id": "JRb05M-uHX-n"
      },
      "execution_count": 25,
      "outputs": []
    },
    {
      "cell_type": "code",
      "source": [
        "#Declare decision variables\n",
        "model22.x1 = Var(domain=NonNegativeReals)\n",
        "model22.x2 = Var(domain=NonNegativeReals)\n",
        "model22.x3 = Var(domain=NonNegativeReals)\n",
        "model22.x4 = Var(domain=NonNegativeReals)\n",
        "model22.x5 = Var(domain=NonNegativeReals)\n",
        "model22.x6 = Var(domain=NonNegativeReals)\n",
        "model22.y = Var(domain=Reals)"
      ],
      "metadata": {
        "id": "t2evIOASHX0R"
      },
      "execution_count": 26,
      "outputs": []
    },
    {
      "cell_type": "code",
      "source": [
        "#Declare objective function\n",
        "model22.obj2 = Objective(expr = 0.082*model22.x1 + 0.036*model22.x2 + 0.0156*model22.x3 + 0.033*model22.x4 + 0.054*model22.x5 + 0.0125*model22.y, sense=maximize)"
      ],
      "metadata": {
        "id": "qIRW13ZrHXlM"
      },
      "execution_count": 27,
      "outputs": []
    },
    {
      "cell_type": "code",
      "source": [
        "#Declare constraints\n",
        "model22.cons1 = Constraint(expr = 3*model22.x1 - 3*model22.x2 + 5*model22.x3 - model22.x4 + model22.x5 - model22.y <= 80)\n",
        "model22.cons2 = Constraint(expr = model22.x3 + 2*model22.x4 + 4*model22.y >= 30)\n",
        "model22.cons3 = Constraint(expr = 3*model22.x1 + 3.6*model22.x2 - 1.5*model22.x3 + 5.6*model22.x4 - 1.8*model22.x5 + 6*model22.x6 <= 0)\n",
        "model22.cons4 = Constraint(expr = 7*model22.x1 - 2*model22.x2 - 3*model22.x3 + 4*model22.x4 + 5*model22.x5 - 6*model22.x6 + 12*model22.y >= 0)\n",
        "model22.cons5 = Constraint(expr = model22.y >= -0.2)\n",
        "model22.cons6 = Constraint(expr = model22.y <= 5.5)"
      ],
      "metadata": {
        "id": "MqQcIuCYH9CR"
      },
      "execution_count": 28,
      "outputs": []
    },
    {
      "cell_type": "code",
      "source": [
        "model22.pprint()"
      ],
      "metadata": {
        "colab": {
          "base_uri": "https://localhost:8080/"
        },
        "id": "5ESlfG1SH809",
        "outputId": "944056a0-2388-409d-b490-9089d7caf840"
      },
      "execution_count": 29,
      "outputs": [
        {
          "output_type": "stream",
          "name": "stdout",
          "text": [
            "7 Var Declarations\n",
            "    x1 : Size=1, Index=None\n",
            "        Key  : Lower : Value : Upper : Fixed : Stale : Domain\n",
            "        None :     0 :  None :  None : False :  True : NonNegativeReals\n",
            "    x2 : Size=1, Index=None\n",
            "        Key  : Lower : Value : Upper : Fixed : Stale : Domain\n",
            "        None :     0 :  None :  None : False :  True : NonNegativeReals\n",
            "    x3 : Size=1, Index=None\n",
            "        Key  : Lower : Value : Upper : Fixed : Stale : Domain\n",
            "        None :     0 :  None :  None : False :  True : NonNegativeReals\n",
            "    x4 : Size=1, Index=None\n",
            "        Key  : Lower : Value : Upper : Fixed : Stale : Domain\n",
            "        None :     0 :  None :  None : False :  True : NonNegativeReals\n",
            "    x5 : Size=1, Index=None\n",
            "        Key  : Lower : Value : Upper : Fixed : Stale : Domain\n",
            "        None :     0 :  None :  None : False :  True : NonNegativeReals\n",
            "    x6 : Size=1, Index=None\n",
            "        Key  : Lower : Value : Upper : Fixed : Stale : Domain\n",
            "        None :     0 :  None :  None : False :  True : NonNegativeReals\n",
            "    y : Size=1, Index=None\n",
            "        Key  : Lower : Value : Upper : Fixed : Stale : Domain\n",
            "        None :  None :  None :  None : False :  True :  Reals\n",
            "\n",
            "1 Objective Declarations\n",
            "    obj2 : Size=1, Index=None, Active=True\n",
            "        Key  : Active : Sense    : Expression\n",
            "        None :   True : maximize : 0.082*x1 + 0.036*x2 + 0.0156*x3 + 0.033*x4 + 0.054*x5 + 0.0125*y\n",
            "\n",
            "6 Constraint Declarations\n",
            "    cons1 : Size=1, Index=None, Active=True\n",
            "        Key  : Lower : Body                             : Upper : Active\n",
            "        None :  -Inf : 3*x1 - 3*x2 + 5*x3 - x4 + x5 - y :  80.0 :   True\n",
            "    cons2 : Size=1, Index=None, Active=True\n",
            "        Key  : Lower : Body            : Upper : Active\n",
            "        None :  30.0 : x3 + 2*x4 + 4*y :  +Inf :   True\n",
            "    cons3 : Size=1, Index=None, Active=True\n",
            "        Key  : Lower : Body                                            : Upper : Active\n",
            "        None :  -Inf : 3*x1 + 3.6*x2 - 1.5*x3 + 5.6*x4 - 1.8*x5 + 6*x6 :   0.0 :   True\n",
            "    cons4 : Size=1, Index=None, Active=True\n",
            "        Key  : Lower : Body                                           : Upper : Active\n",
            "        None :   0.0 : 7*x1 - 2*x2 - 3*x3 + 4*x4 + 5*x5 - 6*x6 + 12*y :  +Inf :   True\n",
            "    cons5 : Size=1, Index=None, Active=True\n",
            "        Key  : Lower : Body : Upper : Active\n",
            "        None :  -0.2 :    y :  +Inf :   True\n",
            "    cons6 : Size=1, Index=None, Active=True\n",
            "        Key  : Lower : Body : Upper : Active\n",
            "        None :  -Inf :    y :   5.5 :   True\n",
            "\n",
            "14 Declarations: x1 x2 x3 x4 x5 x6 y obj2 cons1 cons2 cons3 cons4 cons5 cons6\n"
          ]
        }
      ]
    },
    {
      "cell_type": "code",
      "source": [
        "SolverFactory('glpk', executable= '/usr/bin/glpsol').solve(model22).write()"
      ],
      "metadata": {
        "colab": {
          "base_uri": "https://localhost:8080/"
        },
        "id": "CI6PUJDFH8hH",
        "outputId": "483928a6-7b33-412b-89d5-cfe9ec2b95b5"
      },
      "execution_count": 30,
      "outputs": [
        {
          "output_type": "stream",
          "name": "stdout",
          "text": [
            "# ==========================================================\n",
            "# = Solver Results                                         =\n",
            "# ==========================================================\n",
            "# ----------------------------------------------------------\n",
            "#   Problem Information\n",
            "# ----------------------------------------------------------\n",
            "Problem: \n",
            "- Name: unknown\n",
            "  Lower bound: -inf\n",
            "  Upper bound: inf\n",
            "  Number of objectives: 1\n",
            "  Number of constraints: 7\n",
            "  Number of variables: 8\n",
            "  Number of nonzeros: 25\n",
            "  Sense: maximize\n",
            "# ----------------------------------------------------------\n",
            "#   Solver Information\n",
            "# ----------------------------------------------------------\n",
            "Solver: \n",
            "- Status: ok\n",
            "  Termination condition: other\n",
            "  Statistics: \n",
            "    Branch and bound: \n",
            "      Number of bounded subproblems: 0\n",
            "      Number of created subproblems: 0\n",
            "  Error rc: 0\n",
            "  Time: 0.05690360069274902\n"
          ]
        }
      ]
    },
    {
      "cell_type": "markdown",
      "source": [
        "$\\large{\\textbf{Observations:}}$\n",
        "\n",
        "$\\text{We can observe that no optimal solution exists in this case as the lower bound is coming out to be } -∞ \\text{ while the upper bound is } ∞. \\\\ \\text{Hence there is no optimal solution to the problem when} \\\\ -x_2 - x_4 + x_5 \\geq ϵ_1 \\ \\\\ -x_1 + x_3 + x_6 - 2y \\leq -\\epsilon_2 \\\\ \\text{where} \\ ϵ_1, ϵ_2 \\text{ are very small positive reals.}$"
      ],
      "metadata": {
        "id": "HVVlJyoDIqgl"
      }
    },
    {
      "cell_type": "markdown",
      "source": [
        "$\\\\ \\\\ \\large{\\textbf{Assumption 3:}}\\ \\\\ -x_2 - x_4 + x_5 \\leq -ϵ_1 \\ \\\\ -x_1 + x_3 + x_6 - 2y \\geq \\epsilon_2 \\\\ \\text{where} \\ ϵ_1, ϵ_2 \\text{ are very small positive reals.} $\n",
        "\n",
        "$\\textbf{Problem:} \\\\ \\text{max } 0.082x_1 + 0.036x_2 + 0.0156x_3 + 0.033x_4 + 0.054x_5 + 0.0125y \\\\ \\text{s.t. } 3x_1 - 3x_2 + 5x_3 - x_4 + x_5 - y \\leq 80 \\\\ x_3 + 2x_4 + 4y \\geq 30 \\\\ 3x_1 + 3.6x_2 - 1.5x_3 + 5.6x_4 - 1.8x_5 + 6x_6 \\geq 0 \\\\ 7x_1 - 2x_2 - 3x_3 + 4x_4 + 5x_5 - 6x_6 + 12y \\leq 0 \\\\ x_1,x_2,x_3,x_4,x_5,x_6 \\geq 0 \\\\ -0.2 \\leq y \\leq 5.5$"
      ],
      "metadata": {
        "id": "lpYa-bTyI80n"
      }
    },
    {
      "cell_type": "code",
      "source": [
        "!pip install -q pyomo"
      ],
      "metadata": {
        "id": "RYaKkqzaJjX9"
      },
      "execution_count": 31,
      "outputs": []
    },
    {
      "cell_type": "code",
      "source": [
        "from pyomo.environ import *"
      ],
      "metadata": {
        "id": "YLKCGVfoJjUh"
      },
      "execution_count": 32,
      "outputs": []
    },
    {
      "cell_type": "code",
      "source": [
        "!apt-get install -y -qq glpk-utils"
      ],
      "metadata": {
        "id": "OKOt4cJ7JjRm"
      },
      "execution_count": 33,
      "outputs": []
    },
    {
      "cell_type": "code",
      "source": [
        "# Create a model\n",
        "model23 = ConcreteModel()"
      ],
      "metadata": {
        "id": "iVqGYs7pJjOs"
      },
      "execution_count": 34,
      "outputs": []
    },
    {
      "cell_type": "code",
      "source": [
        "#Declare decision variables\n",
        "model23.x1 = Var(domain=NonNegativeReals)\n",
        "model23.x2 = Var(domain=NonNegativeReals)\n",
        "model23.x3 = Var(domain=NonNegativeReals)\n",
        "model23.x4 = Var(domain=NonNegativeReals)\n",
        "model23.x5 = Var(domain=NonNegativeReals)\n",
        "model23.x6 = Var(domain=NonNegativeReals)\n",
        "model23.y = Var(domain=Reals)"
      ],
      "metadata": {
        "id": "gxbxZQn5JjLg"
      },
      "execution_count": 35,
      "outputs": []
    },
    {
      "cell_type": "code",
      "source": [
        "#Declare objective function\n",
        "model23.obj2 = Objective(expr = 0.082*model23.x1 + 0.036*model23.x2 + 0.0156*model23.x3 + 0.033*model23.x4 + 0.054*model23.x5 + 0.0125*model23.y, sense=maximize)"
      ],
      "metadata": {
        "id": "WSynDm9OJjIb"
      },
      "execution_count": 36,
      "outputs": []
    },
    {
      "cell_type": "code",
      "source": [
        "#Declare constraints\n",
        "model23.cons1 = Constraint(expr = 3*model23.x1 - 3*model23.x2 + 5*model23.x3 - model23.x4 + model23.x5 - model23.y <= 80)\n",
        "model23.cons2 = Constraint(expr = model23.x3 + 2*model23.x4 + 4*model23.y >= 30)\n",
        "model23.cons3 = Constraint(expr = 3*model23.x1 + 3.6*model23.x2 - 1.5*model23.x3 + 5.6*model23.x4 - 1.8*model23.x5 + 6*model23.x6 >= 0)\n",
        "model23.cons4 = Constraint(expr = 7*model23.x1 - 2*model23.x2 - 3*model23.x3 + 4*model23.x4 + 5*model23.x5 - 6*model23.x6 + 12*model23.y <= 0)\n",
        "model23.cons5 = Constraint(expr = model23.y >= -0.2)\n",
        "model23.cons6 = Constraint(expr = model23.y <= 5.5)"
      ],
      "metadata": {
        "id": "7xBhKVEQJjE9"
      },
      "execution_count": 37,
      "outputs": []
    },
    {
      "cell_type": "code",
      "source": [
        "model23.pprint()"
      ],
      "metadata": {
        "colab": {
          "base_uri": "https://localhost:8080/"
        },
        "id": "z0Ymf3LrJi_R",
        "outputId": "05ccb85a-6be3-46e9-d851-ce3c6dd9eb67"
      },
      "execution_count": 38,
      "outputs": [
        {
          "output_type": "stream",
          "name": "stdout",
          "text": [
            "7 Var Declarations\n",
            "    x1 : Size=1, Index=None\n",
            "        Key  : Lower : Value : Upper : Fixed : Stale : Domain\n",
            "        None :     0 :  None :  None : False :  True : NonNegativeReals\n",
            "    x2 : Size=1, Index=None\n",
            "        Key  : Lower : Value : Upper : Fixed : Stale : Domain\n",
            "        None :     0 :  None :  None : False :  True : NonNegativeReals\n",
            "    x3 : Size=1, Index=None\n",
            "        Key  : Lower : Value : Upper : Fixed : Stale : Domain\n",
            "        None :     0 :  None :  None : False :  True : NonNegativeReals\n",
            "    x4 : Size=1, Index=None\n",
            "        Key  : Lower : Value : Upper : Fixed : Stale : Domain\n",
            "        None :     0 :  None :  None : False :  True : NonNegativeReals\n",
            "    x5 : Size=1, Index=None\n",
            "        Key  : Lower : Value : Upper : Fixed : Stale : Domain\n",
            "        None :     0 :  None :  None : False :  True : NonNegativeReals\n",
            "    x6 : Size=1, Index=None\n",
            "        Key  : Lower : Value : Upper : Fixed : Stale : Domain\n",
            "        None :     0 :  None :  None : False :  True : NonNegativeReals\n",
            "    y : Size=1, Index=None\n",
            "        Key  : Lower : Value : Upper : Fixed : Stale : Domain\n",
            "        None :  None :  None :  None : False :  True :  Reals\n",
            "\n",
            "1 Objective Declarations\n",
            "    obj2 : Size=1, Index=None, Active=True\n",
            "        Key  : Active : Sense    : Expression\n",
            "        None :   True : maximize : 0.082*x1 + 0.036*x2 + 0.0156*x3 + 0.033*x4 + 0.054*x5 + 0.0125*y\n",
            "\n",
            "6 Constraint Declarations\n",
            "    cons1 : Size=1, Index=None, Active=True\n",
            "        Key  : Lower : Body                             : Upper : Active\n",
            "        None :  -Inf : 3*x1 - 3*x2 + 5*x3 - x4 + x5 - y :  80.0 :   True\n",
            "    cons2 : Size=1, Index=None, Active=True\n",
            "        Key  : Lower : Body            : Upper : Active\n",
            "        None :  30.0 : x3 + 2*x4 + 4*y :  +Inf :   True\n",
            "    cons3 : Size=1, Index=None, Active=True\n",
            "        Key  : Lower : Body                                            : Upper : Active\n",
            "        None :   0.0 : 3*x1 + 3.6*x2 - 1.5*x3 + 5.6*x4 - 1.8*x5 + 6*x6 :  +Inf :   True\n",
            "    cons4 : Size=1, Index=None, Active=True\n",
            "        Key  : Lower : Body                                           : Upper : Active\n",
            "        None :  -Inf : 7*x1 - 2*x2 - 3*x3 + 4*x4 + 5*x5 - 6*x6 + 12*y :   0.0 :   True\n",
            "    cons5 : Size=1, Index=None, Active=True\n",
            "        Key  : Lower : Body : Upper : Active\n",
            "        None :  -0.2 :    y :  +Inf :   True\n",
            "    cons6 : Size=1, Index=None, Active=True\n",
            "        Key  : Lower : Body : Upper : Active\n",
            "        None :  -Inf :    y :   5.5 :   True\n",
            "\n",
            "14 Declarations: x1 x2 x3 x4 x5 x6 y obj2 cons1 cons2 cons3 cons4 cons5 cons6\n"
          ]
        }
      ]
    },
    {
      "cell_type": "code",
      "source": [
        "SolverFactory('glpk', executable= '/usr/bin/glpsol').solve(model23).write()"
      ],
      "metadata": {
        "colab": {
          "base_uri": "https://localhost:8080/"
        },
        "id": "bdbJKvk9Ji7-",
        "outputId": "10bd47e6-576a-47aa-97eb-c9bf2252959d"
      },
      "execution_count": 39,
      "outputs": [
        {
          "output_type": "stream",
          "name": "stdout",
          "text": [
            "# ==========================================================\n",
            "# = Solver Results                                         =\n",
            "# ==========================================================\n",
            "# ----------------------------------------------------------\n",
            "#   Problem Information\n",
            "# ----------------------------------------------------------\n",
            "Problem: \n",
            "- Name: unknown\n",
            "  Lower bound: -inf\n",
            "  Upper bound: inf\n",
            "  Number of objectives: 1\n",
            "  Number of constraints: 7\n",
            "  Number of variables: 8\n",
            "  Number of nonzeros: 25\n",
            "  Sense: maximize\n",
            "# ----------------------------------------------------------\n",
            "#   Solver Information\n",
            "# ----------------------------------------------------------\n",
            "Solver: \n",
            "- Status: ok\n",
            "  Termination condition: other\n",
            "  Statistics: \n",
            "    Branch and bound: \n",
            "      Number of bounded subproblems: 0\n",
            "      Number of created subproblems: 0\n",
            "  Error rc: 0\n",
            "  Time: 0.05254364013671875\n"
          ]
        }
      ]
    },
    {
      "cell_type": "markdown",
      "source": [
        "$\\large{\\textbf{Observations:}}$\n",
        "\n",
        "$\\text{We can observe that no optimal solution exists in this case as the lower bound is coming out to be } -∞ \\text{ while the upper bound is } ∞. \\\\ \\text{Hence there is no optimal solution to the problem when} \\\\ -x_2 - x_4 + x_5 \\leq -ϵ_1 \\ \\\\ -x_1 + x_3 + x_6 - 2y \\geq \\epsilon_2 \\\\ \\text{where} \\ ϵ_1, ϵ_2 \\text{ are very small positive reals.}$"
      ],
      "metadata": {
        "id": "2o71OUO0MQUm"
      }
    },
    {
      "cell_type": "markdown",
      "source": [
        "$\\\\ \\\\ \\large{\\textbf{Assumption 4:}}\\ \\\\ -x_2 - x_4 + x_5 \\leq -ϵ_1 \\ \\\\ -x_1 + x_3 + x_6 - 2y \\leq -\\epsilon_2 \\\\ \\text{where} \\ ϵ_1, ϵ_2 \\text{ are very small positive reals.} $\n",
        "\n",
        "$\\textbf{Problem:} \\\\ \\text{max } 0.082x_1 + 0.036x_2 + 0.0156x_3 + 0.033x_4 + 0.054x_5 + 0.0125y \\\\ \\text{s.t. } 3x_1 - 3x_2 + 5x_3 - x_4 + x_5 - y \\leq 80 \\\\ x_3 + 2x_4 + 4y \\geq 30 \\\\ 3x_1 + 3.6x_2 - 1.5x_3 + 5.6x_4 - 1.8x_5 + 6x_6 \\geq 0 \\\\ 7x_1 - 2x_2 - 3x_3 + 4x_4 + 5x_5 - 6x_6 + 12y \\geq 0 \\\\ x_1,x_2,x_3,x_4,x_5,x_6 \\geq 0 \\\\ -0.2 \\leq y \\leq 5.5$"
      ],
      "metadata": {
        "id": "tj7zSpBmMf9G"
      }
    },
    {
      "cell_type": "code",
      "source": [
        "!pip install -q pyomo"
      ],
      "metadata": {
        "id": "Wf2n5027Mvj4"
      },
      "execution_count": 40,
      "outputs": []
    },
    {
      "cell_type": "code",
      "source": [
        "from pyomo.environ import *"
      ],
      "metadata": {
        "id": "0JvYmKH9MvgY"
      },
      "execution_count": 41,
      "outputs": []
    },
    {
      "cell_type": "code",
      "source": [
        "!apt-get install -y -qq glpk-utils"
      ],
      "metadata": {
        "id": "pOJpawxeMvdI"
      },
      "execution_count": 42,
      "outputs": []
    },
    {
      "cell_type": "code",
      "source": [
        "# Create a model\n",
        "model24 = ConcreteModel()"
      ],
      "metadata": {
        "id": "hOanoLfgMvaK"
      },
      "execution_count": 43,
      "outputs": []
    },
    {
      "cell_type": "code",
      "source": [
        "#Declare decision variables\n",
        "model24.x1 = Var(domain=NonNegativeReals)\n",
        "model24.x2 = Var(domain=NonNegativeReals)\n",
        "model24.x3 = Var(domain=NonNegativeReals)\n",
        "model24.x4 = Var(domain=NonNegativeReals)\n",
        "model24.x5 = Var(domain=NonNegativeReals)\n",
        "model24.x6 = Var(domain=NonNegativeReals)\n",
        "model24.y = Var(domain=Reals)"
      ],
      "metadata": {
        "id": "Dw2VE4UwMvXL"
      },
      "execution_count": 44,
      "outputs": []
    },
    {
      "cell_type": "code",
      "source": [
        "#Declare objective function\n",
        "model24.obj2 = Objective(expr = 0.082*model24.x1 + 0.036*model24.x2 + 0.0156*model24.x3 + 0.033*model24.x4 + 0.054*model24.x5 + 0.0125*model24.y, sense=maximize)"
      ],
      "metadata": {
        "id": "-OGaOVvyMvT9"
      },
      "execution_count": 45,
      "outputs": []
    },
    {
      "cell_type": "code",
      "source": [
        "#Declare constraints\n",
        "model24.cons1 = Constraint(expr = 3*model24.x1 - 3*model24.x2 + 5*model24.x3 - model24.x4 + model24.x5 - model24.y <= 80)\n",
        "model24.cons2 = Constraint(expr = model24.x3 + 2*model24.x4 + 4*model24.y >= 30)\n",
        "model24.cons3 = Constraint(expr = 3*model24.x1 + 3.6*model24.x2 - 1.5*model24.x3 + 5.6*model24.x4 - 1.8*model24.x5 + 6*model24.x6 >= 0)\n",
        "model24.cons4 = Constraint(expr = 7*model24.x1 - 2*model24.x2 - 3*model24.x3 + 4*model24.x4 + 5*model24.x5 - 6*model24.x6 + 12*model24.y >= 0)\n",
        "model24.cons5 = Constraint(expr = model24.y >= -0.2)\n",
        "model24.cons6 = Constraint(expr = model24.y <= 5.5)"
      ],
      "metadata": {
        "id": "VmpbcF2rMvRE"
      },
      "execution_count": 46,
      "outputs": []
    },
    {
      "cell_type": "code",
      "source": [
        "model24.pprint()"
      ],
      "metadata": {
        "colab": {
          "base_uri": "https://localhost:8080/"
        },
        "id": "RpII0w23MvN8",
        "outputId": "bb34c079-eb8f-4d62-c8c8-a39802bb1695"
      },
      "execution_count": 47,
      "outputs": [
        {
          "output_type": "stream",
          "name": "stdout",
          "text": [
            "7 Var Declarations\n",
            "    x1 : Size=1, Index=None\n",
            "        Key  : Lower : Value : Upper : Fixed : Stale : Domain\n",
            "        None :     0 :  None :  None : False :  True : NonNegativeReals\n",
            "    x2 : Size=1, Index=None\n",
            "        Key  : Lower : Value : Upper : Fixed : Stale : Domain\n",
            "        None :     0 :  None :  None : False :  True : NonNegativeReals\n",
            "    x3 : Size=1, Index=None\n",
            "        Key  : Lower : Value : Upper : Fixed : Stale : Domain\n",
            "        None :     0 :  None :  None : False :  True : NonNegativeReals\n",
            "    x4 : Size=1, Index=None\n",
            "        Key  : Lower : Value : Upper : Fixed : Stale : Domain\n",
            "        None :     0 :  None :  None : False :  True : NonNegativeReals\n",
            "    x5 : Size=1, Index=None\n",
            "        Key  : Lower : Value : Upper : Fixed : Stale : Domain\n",
            "        None :     0 :  None :  None : False :  True : NonNegativeReals\n",
            "    x6 : Size=1, Index=None\n",
            "        Key  : Lower : Value : Upper : Fixed : Stale : Domain\n",
            "        None :     0 :  None :  None : False :  True : NonNegativeReals\n",
            "    y : Size=1, Index=None\n",
            "        Key  : Lower : Value : Upper : Fixed : Stale : Domain\n",
            "        None :  None :  None :  None : False :  True :  Reals\n",
            "\n",
            "1 Objective Declarations\n",
            "    obj2 : Size=1, Index=None, Active=True\n",
            "        Key  : Active : Sense    : Expression\n",
            "        None :   True : maximize : 0.082*x1 + 0.036*x2 + 0.0156*x3 + 0.033*x4 + 0.054*x5 + 0.0125*y\n",
            "\n",
            "6 Constraint Declarations\n",
            "    cons1 : Size=1, Index=None, Active=True\n",
            "        Key  : Lower : Body                             : Upper : Active\n",
            "        None :  -Inf : 3*x1 - 3*x2 + 5*x3 - x4 + x5 - y :  80.0 :   True\n",
            "    cons2 : Size=1, Index=None, Active=True\n",
            "        Key  : Lower : Body            : Upper : Active\n",
            "        None :  30.0 : x3 + 2*x4 + 4*y :  +Inf :   True\n",
            "    cons3 : Size=1, Index=None, Active=True\n",
            "        Key  : Lower : Body                                            : Upper : Active\n",
            "        None :   0.0 : 3*x1 + 3.6*x2 - 1.5*x3 + 5.6*x4 - 1.8*x5 + 6*x6 :  +Inf :   True\n",
            "    cons4 : Size=1, Index=None, Active=True\n",
            "        Key  : Lower : Body                                           : Upper : Active\n",
            "        None :   0.0 : 7*x1 - 2*x2 - 3*x3 + 4*x4 + 5*x5 - 6*x6 + 12*y :  +Inf :   True\n",
            "    cons5 : Size=1, Index=None, Active=True\n",
            "        Key  : Lower : Body : Upper : Active\n",
            "        None :  -0.2 :    y :  +Inf :   True\n",
            "    cons6 : Size=1, Index=None, Active=True\n",
            "        Key  : Lower : Body : Upper : Active\n",
            "        None :  -Inf :    y :   5.5 :   True\n",
            "\n",
            "14 Declarations: x1 x2 x3 x4 x5 x6 y obj2 cons1 cons2 cons3 cons4 cons5 cons6\n"
          ]
        }
      ]
    },
    {
      "cell_type": "code",
      "source": [
        "SolverFactory('glpk', executable= '/usr/bin/glpsol').solve(model24).write()"
      ],
      "metadata": {
        "colab": {
          "base_uri": "https://localhost:8080/"
        },
        "id": "YompB2qsMvK6",
        "outputId": "a6067cc9-61f2-4613-c58f-6c28dc9cb6b7"
      },
      "execution_count": 48,
      "outputs": [
        {
          "output_type": "stream",
          "name": "stdout",
          "text": [
            "# ==========================================================\n",
            "# = Solver Results                                         =\n",
            "# ==========================================================\n",
            "# ----------------------------------------------------------\n",
            "#   Problem Information\n",
            "# ----------------------------------------------------------\n",
            "Problem: \n",
            "- Name: unknown\n",
            "  Lower bound: -inf\n",
            "  Upper bound: inf\n",
            "  Number of objectives: 1\n",
            "  Number of constraints: 7\n",
            "  Number of variables: 8\n",
            "  Number of nonzeros: 25\n",
            "  Sense: maximize\n",
            "# ----------------------------------------------------------\n",
            "#   Solver Information\n",
            "# ----------------------------------------------------------\n",
            "Solver: \n",
            "- Status: ok\n",
            "  Termination condition: other\n",
            "  Statistics: \n",
            "    Branch and bound: \n",
            "      Number of bounded subproblems: 0\n",
            "      Number of created subproblems: 0\n",
            "  Error rc: 0\n",
            "  Time: 0.03890490531921387\n"
          ]
        }
      ]
    },
    {
      "cell_type": "markdown",
      "source": [
        "$\\large{\\textbf{Observations:}}$\n",
        "\n",
        "$\\text{We can observe that no optimal solution exists in this case as the lower bound is coming out to be } -∞ \\text{ while the upper bound is } ∞. \\\\ \\text{Hence there is no optimal solution to the problem when} \\\\ -x_2 - x_4 + x_5 \\leq -ϵ_1 \\ \\\\ -x_1 + x_3 + x_6 - 2y \\leq -\\epsilon_2 \\\\ \\text{where} \\ ϵ_1, ϵ_2 \\text{ are very small positive reals.}$"
      ],
      "metadata": {
        "id": "yMztWorEOCCI"
      }
    },
    {
      "cell_type": "markdown",
      "source": [
        "$\\large{\\textbf{Solution to Exercise 3:}}$"
      ],
      "metadata": {
        "id": "NCLuQ_-DV9AE"
      }
    },
    {
      "cell_type": "markdown",
      "source": [
        "$\\large{\\mathbf{3.1 \\ Formulation:}}$\n",
        "\n",
        "$\\min \\ 1200x_1 + 2580x_2 \\ \\\\ \\text{s.t.} \\ x_1 + x_2 \\geq 145\\  \\text{(Quantity Constraint)} \\\\ 2.18x_1 + 1.083x_2 \\leq 980 \\ \\text{(Time Constraint)}\\\\ x_1 \\geq 105 \\ \\text{(Minimum Order)} \\\\ x_2 \\geq 125 \\ \\text{(Minimum Order)}$\n",
        "\n",
        "$\\text{where} \\ x_1 \\ \\text{is the quantity of P produced and} \\ x_2 \\  \\text{is the quantity of Q produced. }$"
      ],
      "metadata": {
        "id": "wRZ7F83PYKzC"
      }
    },
    {
      "cell_type": "code",
      "source": [
        "!pip install -q pyomo"
      ],
      "metadata": {
        "id": "cJZiHnMlWJQ8"
      },
      "execution_count": 49,
      "outputs": []
    },
    {
      "cell_type": "code",
      "source": [
        "from pyomo.environ import *"
      ],
      "metadata": {
        "id": "5m5H-KhJdAkq"
      },
      "execution_count": 50,
      "outputs": []
    },
    {
      "cell_type": "code",
      "source": [
        "#Create a model\n",
        "model3 = ConcreteModel()"
      ],
      "metadata": {
        "id": "cBeVdNhPc1nz"
      },
      "execution_count": 51,
      "outputs": []
    },
    {
      "cell_type": "code",
      "source": [
        "#Declare decision variables\n",
        "model3.x1 = Var(domain=Reals)\n",
        "model3.x2 = Var(domain=Reals)"
      ],
      "metadata": {
        "id": "5yf-9KFcc_Nm"
      },
      "execution_count": 52,
      "outputs": []
    },
    {
      "cell_type": "code",
      "source": [
        "#Declare objective function\n",
        "model3.obj3 = Objective(expr = 1200*model3.x1 + 2580*model3.x2, sense=minimize)"
      ],
      "metadata": {
        "id": "XGfwG9O6nt9n"
      },
      "execution_count": 53,
      "outputs": []
    },
    {
      "cell_type": "code",
      "source": [
        "#Declare contraints\n",
        "model3.const1 = Constraint(expr = model3.x1 + model3.x2 >= 145)\n",
        "model3.const2 = Constraint(expr = 2.18*model3.x1 + 1.083*model3.x2 <= 980)\n",
        "model3.const3 = Constraint(expr = model3.x1 >= 105)\n",
        "model3.const4 = Constraint(expr = model3.x2 >= 125)"
      ],
      "metadata": {
        "id": "kYxFdUgIoKNh"
      },
      "execution_count": 54,
      "outputs": []
    },
    {
      "cell_type": "code",
      "source": [
        "#Print the model\n",
        "model3.pprint()"
      ],
      "metadata": {
        "colab": {
          "base_uri": "https://localhost:8080/"
        },
        "id": "x4TqhH7HpJYM",
        "outputId": "c10c7e0f-10e7-4d4f-809d-91bb43615baf"
      },
      "execution_count": 55,
      "outputs": [
        {
          "output_type": "stream",
          "name": "stdout",
          "text": [
            "2 Var Declarations\n",
            "    x1 : Size=1, Index=None\n",
            "        Key  : Lower : Value : Upper : Fixed : Stale : Domain\n",
            "        None :  None :  None :  None : False :  True :  Reals\n",
            "    x2 : Size=1, Index=None\n",
            "        Key  : Lower : Value : Upper : Fixed : Stale : Domain\n",
            "        None :  None :  None :  None : False :  True :  Reals\n",
            "\n",
            "1 Objective Declarations\n",
            "    obj3 : Size=1, Index=None, Active=True\n",
            "        Key  : Active : Sense    : Expression\n",
            "        None :   True : minimize : 1200*x1 + 2580*x2\n",
            "\n",
            "4 Constraint Declarations\n",
            "    const1 : Size=1, Index=None, Active=True\n",
            "        Key  : Lower : Body    : Upper : Active\n",
            "        None : 145.0 : x1 + x2 :  +Inf :   True\n",
            "    const2 : Size=1, Index=None, Active=True\n",
            "        Key  : Lower : Body               : Upper : Active\n",
            "        None :  -Inf : 2.18*x1 + 1.083*x2 : 980.0 :   True\n",
            "    const3 : Size=1, Index=None, Active=True\n",
            "        Key  : Lower : Body : Upper : Active\n",
            "        None : 105.0 :   x1 :  +Inf :   True\n",
            "    const4 : Size=1, Index=None, Active=True\n",
            "        Key  : Lower : Body : Upper : Active\n",
            "        None : 125.0 :   x2 :  +Inf :   True\n",
            "\n",
            "7 Declarations: x1 x2 obj3 const1 const2 const3 const4\n"
          ]
        }
      ]
    },
    {
      "cell_type": "code",
      "source": [
        "!apt-get install -y -qq glpk-utils"
      ],
      "metadata": {
        "id": "1zJ3CEeYpirc"
      },
      "execution_count": 56,
      "outputs": []
    },
    {
      "cell_type": "code",
      "source": [
        "SolverFactory('glpk',executable='/usr/bin/glpsol').solve(model3).write()"
      ],
      "metadata": {
        "colab": {
          "base_uri": "https://localhost:8080/"
        },
        "id": "4TlKsHhhqbWD",
        "outputId": "38da7273-39f3-41db-ff18-40b6722ec5d1"
      },
      "execution_count": 57,
      "outputs": [
        {
          "output_type": "stream",
          "name": "stdout",
          "text": [
            "# ==========================================================\n",
            "# = Solver Results                                         =\n",
            "# ==========================================================\n",
            "# ----------------------------------------------------------\n",
            "#   Problem Information\n",
            "# ----------------------------------------------------------\n",
            "Problem: \n",
            "- Name: unknown\n",
            "  Lower bound: 448500.0\n",
            "  Upper bound: 448500.0\n",
            "  Number of objectives: 1\n",
            "  Number of constraints: 5\n",
            "  Number of variables: 3\n",
            "  Number of nonzeros: 7\n",
            "  Sense: minimize\n",
            "# ----------------------------------------------------------\n",
            "#   Solver Information\n",
            "# ----------------------------------------------------------\n",
            "Solver: \n",
            "- Status: ok\n",
            "  Termination condition: optimal\n",
            "  Statistics: \n",
            "    Branch and bound: \n",
            "      Number of bounded subproblems: 0\n",
            "      Number of created subproblems: 0\n",
            "  Error rc: 0\n",
            "  Time: 0.02421855926513672\n",
            "# ----------------------------------------------------------\n",
            "#   Solution Information\n",
            "# ----------------------------------------------------------\n",
            "Solution: \n",
            "- number of solutions: 0\n",
            "  number of solutions displayed: 0\n"
          ]
        }
      ]
    },
    {
      "cell_type": "code",
      "source": [
        "#Print solutions\n",
        "print('\\nCost = ', model3.obj3())\n",
        "\n",
        "print('\\nDecision Variables')\n",
        "print('x1 = ', model3.x1())\n",
        "print('x2 = ', model3.x2())\n",
        "\n",
        "print('\\nConstraints')\n",
        "print('Constraint 1  = ', model3.const1())\n",
        "print('Constraint 2  = ', model3.const2())\n",
        "print('Constraint 3  = ', model3.const3())\n",
        "print('Constraint 4  = ', model3.const4())"
      ],
      "metadata": {
        "colab": {
          "base_uri": "https://localhost:8080/"
        },
        "id": "myLJnKjNq2BG",
        "outputId": "fe93e7c2-a46a-44f1-92d1-2699684f2cdb"
      },
      "execution_count": 58,
      "outputs": [
        {
          "output_type": "stream",
          "name": "stdout",
          "text": [
            "\n",
            "Cost =  448500.0\n",
            "\n",
            "Decision Variables\n",
            "x1 =  105.0\n",
            "x2 =  125.0\n",
            "\n",
            "Constraints\n",
            "Constraint 1  =  230.0\n",
            "Constraint 2  =  364.275\n",
            "Constraint 3  =  105.0\n",
            "Constraint 4  =  125.0\n"
          ]
        }
      ]
    },
    {
      "cell_type": "markdown",
      "source": [
        "$\\mathbf{\\large{Observations:}} \\\\ \\mathbf{3.3} \\\\ \\text{Objective Function Value} = 448500 \\\\ \\textbf{Decision Variables:} \\\\ x_1 = 105 \\\\ x_2 = 125 \\\\ \\textbf{Constraint 1:} \\text{ It is inactive as value of LHS = 230 is strictly greater than RHS = 145.} \\\\ \\textbf{Constraint 2:} \\text{ It is inactive as value of LHS = 364.275 is strictly less than RHS = 980} \\\\ \\textbf{Constraint 3:} \\text{ It is active as value of LHS = 105 which satisfies the equality constraint.} \\\\ \\textbf{Constraint 4:} \\text{ It is active as value of LHS = 125 which satisfies the equality constraint.}$"
      ],
      "metadata": {
        "id": "HiGoJouhxJVi"
      }
    },
    {
      "cell_type": "markdown",
      "source": [
        "$\\large{\\mathbf{3.4 \\ New \\ Formulation:}}$\n",
        "\n",
        "$\\min \\ 1200x_1 + 2580x_2 \\ \\\\ \\text{s.t.} \\ x_1 + x_2 \\geq 145\\  \\text{(Quantity Constraint)} \\\\ 2.18x_1 + 1.083x_2 \\leq 980 \\ \\text{(Time Constraint)}\\\\ x_1 \\geq 147 \\ \\text{(Additional Order)} \\\\ x_2 \\geq 222 \\ \\text{(Additional Order)}$\n",
        "\n",
        "$\\text{where} \\ x_1 \\ \\text{is the quantity of P produced and} \\ x_2 \\  \\text{is the quantity of Q produced. }$"
      ],
      "metadata": {
        "id": "PUa3W2d90i0f"
      }
    },
    {
      "cell_type": "code",
      "source": [
        "!pip install -q pyomo"
      ],
      "metadata": {
        "id": "cqrU6GaQrG30"
      },
      "execution_count": 59,
      "outputs": []
    },
    {
      "cell_type": "code",
      "source": [
        "from pyomo.environ import *"
      ],
      "metadata": {
        "id": "gMQiOTce1pbG"
      },
      "execution_count": 60,
      "outputs": []
    },
    {
      "cell_type": "code",
      "source": [
        "#Create a model\n",
        "model4 = ConcreteModel()"
      ],
      "metadata": {
        "id": "_LlHaRmX1tu-"
      },
      "execution_count": 61,
      "outputs": []
    },
    {
      "cell_type": "code",
      "source": [
        "#Declare decision variables\n",
        "model4.x1 = Var(domain=Reals)\n",
        "model4.x2 = Var(domain=Reals)"
      ],
      "metadata": {
        "id": "00f7VrXR2XaJ"
      },
      "execution_count": 62,
      "outputs": []
    },
    {
      "cell_type": "code",
      "source": [
        "#Declare objective function\n",
        "model4.obj4 = Objective(expr = 1200*model4.x1 + 2580*model4.x2, sense=minimize)"
      ],
      "metadata": {
        "id": "er_NNCIy2ePv"
      },
      "execution_count": 63,
      "outputs": []
    },
    {
      "cell_type": "code",
      "source": [
        "#Declare contraints\n",
        "model4.const1 = Constraint(expr = model4.x1 + model4.x2 >= 145)\n",
        "model4.const2 = Constraint(expr = 2.18*model4.x1 + 1.083*model4.x2 <= 980)\n",
        "model4.const3 = Constraint(expr = model4.x1 >= 147)\n",
        "model4.const4 = Constraint(expr = model4.x2 >= 222)"
      ],
      "metadata": {
        "id": "oHlHRjrE2j5J"
      },
      "execution_count": 64,
      "outputs": []
    },
    {
      "cell_type": "code",
      "source": [
        "#Print the model\n",
        "model4.pprint()"
      ],
      "metadata": {
        "colab": {
          "base_uri": "https://localhost:8080/"
        },
        "id": "UmC6oPq626Or",
        "outputId": "a6e8d11a-7aef-407e-cb71-ec538727363a"
      },
      "execution_count": 65,
      "outputs": [
        {
          "output_type": "stream",
          "name": "stdout",
          "text": [
            "2 Var Declarations\n",
            "    x1 : Size=1, Index=None\n",
            "        Key  : Lower : Value : Upper : Fixed : Stale : Domain\n",
            "        None :  None :  None :  None : False :  True :  Reals\n",
            "    x2 : Size=1, Index=None\n",
            "        Key  : Lower : Value : Upper : Fixed : Stale : Domain\n",
            "        None :  None :  None :  None : False :  True :  Reals\n",
            "\n",
            "1 Objective Declarations\n",
            "    obj4 : Size=1, Index=None, Active=True\n",
            "        Key  : Active : Sense    : Expression\n",
            "        None :   True : minimize : 1200*x1 + 2580*x2\n",
            "\n",
            "4 Constraint Declarations\n",
            "    const1 : Size=1, Index=None, Active=True\n",
            "        Key  : Lower : Body    : Upper : Active\n",
            "        None : 145.0 : x1 + x2 :  +Inf :   True\n",
            "    const2 : Size=1, Index=None, Active=True\n",
            "        Key  : Lower : Body               : Upper : Active\n",
            "        None :  -Inf : 2.18*x1 + 1.083*x2 : 980.0 :   True\n",
            "    const3 : Size=1, Index=None, Active=True\n",
            "        Key  : Lower : Body : Upper : Active\n",
            "        None : 147.0 :   x1 :  +Inf :   True\n",
            "    const4 : Size=1, Index=None, Active=True\n",
            "        Key  : Lower : Body : Upper : Active\n",
            "        None : 222.0 :   x2 :  +Inf :   True\n",
            "\n",
            "7 Declarations: x1 x2 obj4 const1 const2 const3 const4\n"
          ]
        }
      ]
    },
    {
      "cell_type": "code",
      "source": [
        "!apt-get install -y -qq glpk-utils"
      ],
      "metadata": {
        "id": "2EXwJhxv3AtQ"
      },
      "execution_count": 66,
      "outputs": []
    },
    {
      "cell_type": "code",
      "source": [
        "SolverFactory('glpk',executable='/usr/bin/glpsol').solve(model4).write()"
      ],
      "metadata": {
        "colab": {
          "base_uri": "https://localhost:8080/"
        },
        "id": "qS7l11vJ3HC-",
        "outputId": "92ef16c5-cac6-41e7-ca18-75a9545b0982"
      },
      "execution_count": 67,
      "outputs": [
        {
          "output_type": "stream",
          "name": "stdout",
          "text": [
            "# ==========================================================\n",
            "# = Solver Results                                         =\n",
            "# ==========================================================\n",
            "# ----------------------------------------------------------\n",
            "#   Problem Information\n",
            "# ----------------------------------------------------------\n",
            "Problem: \n",
            "- Name: unknown\n",
            "  Lower bound: 749160.0\n",
            "  Upper bound: 749160.0\n",
            "  Number of objectives: 1\n",
            "  Number of constraints: 5\n",
            "  Number of variables: 3\n",
            "  Number of nonzeros: 7\n",
            "  Sense: minimize\n",
            "# ----------------------------------------------------------\n",
            "#   Solver Information\n",
            "# ----------------------------------------------------------\n",
            "Solver: \n",
            "- Status: ok\n",
            "  Termination condition: optimal\n",
            "  Statistics: \n",
            "    Branch and bound: \n",
            "      Number of bounded subproblems: 0\n",
            "      Number of created subproblems: 0\n",
            "  Error rc: 0\n",
            "  Time: 0.0178985595703125\n",
            "# ----------------------------------------------------------\n",
            "#   Solution Information\n",
            "# ----------------------------------------------------------\n",
            "Solution: \n",
            "- number of solutions: 0\n",
            "  number of solutions displayed: 0\n"
          ]
        }
      ]
    },
    {
      "cell_type": "code",
      "source": [
        "#Print solutions\n",
        "print('\\nCost = ', model4.obj4())\n",
        "\n",
        "print('\\nDecision Variables')\n",
        "print('x1 = ', model4.x1())\n",
        "print('x2 = ', model4.x2())\n",
        "\n",
        "print('\\nConstraints')\n",
        "print('Constraint 1  = ', model4.const1())\n",
        "print('Constraint 2  = ', model4.const2())\n",
        "print('Constraint 3  = ', model4.const3())\n",
        "print('Constraint 4  = ', model4.const4())"
      ],
      "metadata": {
        "colab": {
          "base_uri": "https://localhost:8080/"
        },
        "id": "rhmdAM6U3Ltt",
        "outputId": "1c9140b0-3271-4429-aa70-744022ec6755"
      },
      "execution_count": 68,
      "outputs": [
        {
          "output_type": "stream",
          "name": "stdout",
          "text": [
            "\n",
            "Cost =  749160.0\n",
            "\n",
            "Decision Variables\n",
            "x1 =  147.0\n",
            "x2 =  222.0\n",
            "\n",
            "Constraints\n",
            "Constraint 1  =  369.0\n",
            "Constraint 2  =  560.886\n",
            "Constraint 3  =  147.0\n",
            "Constraint 4  =  222.0\n"
          ]
        }
      ]
    },
    {
      "cell_type": "markdown",
      "source": [
        "$\\mathbf{\\large{Observations:}} \\\\ \\mathbf{3.6} \\\\ \\text{Objective Function Value} = 749160 \\\\ \\textbf{Decision Variables:} \\\\ x_1 = 147 \\\\ x_2 = 222 \\\\ \\textbf{Constraint 1:} \\text{ It is inactive as value of LHS = 369 is strictly greater than RHS = 145.} \\\\ \\textbf{Constraint 2:} \\text{ It is inactive as value of LHS = 560.886 is strictly less than RHS = 980} \\\\ \\textbf{Constraint 3:} \\text{ It is active as value of LHS = 147 which satisfies the equality constraint.} \\\\ \\textbf{Constraint 4:} \\text{ It is active as value of LHS = 222 which satisfies the equality constraint.} \\\\ \\\\  \\text{Jen Industries should increase their production by the additional quantity ordered.}$"
      ],
      "metadata": {
        "id": "rWaKOjkQ33lt"
      }
    },
    {
      "cell_type": "code",
      "source": [
        ""
      ],
      "metadata": {
        "id": "kNuqH2Eb3eTu"
      },
      "execution_count": 68,
      "outputs": []
    }
  ]
}